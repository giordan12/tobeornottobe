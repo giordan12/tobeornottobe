{
 "cells": [
  {
   "cell_type": "code",
   "execution_count": 1,
   "metadata": {},
   "outputs": [],
   "source": [
    "import pandas as pd\n",
    "import numpy as np\n",
    "import seaborn as sns\n",
    "import matplotlib.pyplot as plt\n",
    "import sklearn as sk\n",
    "from sklearn import svm"
   ]
  },
  {
   "cell_type": "code",
   "execution_count": 2,
   "metadata": {},
   "outputs": [],
   "source": [
    "shakes_df = pd.read_csv('./shakespeare-plays/Shakespeare_data.csv')"
   ]
  },
  {
   "cell_type": "code",
   "execution_count": 3,
   "metadata": {},
   "outputs": [
    {
     "data": {
      "text/html": [
       "<div>\n",
       "<style scoped>\n",
       "    .dataframe tbody tr th:only-of-type {\n",
       "        vertical-align: middle;\n",
       "    }\n",
       "\n",
       "    .dataframe tbody tr th {\n",
       "        vertical-align: top;\n",
       "    }\n",
       "\n",
       "    .dataframe thead th {\n",
       "        text-align: right;\n",
       "    }\n",
       "</style>\n",
       "<table border=\"1\" class=\"dataframe\">\n",
       "  <thead>\n",
       "    <tr style=\"text-align: right;\">\n",
       "      <th></th>\n",
       "      <th>Dataline</th>\n",
       "      <th>Play</th>\n",
       "      <th>PlayerLinenumber</th>\n",
       "      <th>ActSceneLine</th>\n",
       "      <th>Player</th>\n",
       "      <th>PlayerLine</th>\n",
       "    </tr>\n",
       "  </thead>\n",
       "  <tbody>\n",
       "    <tr>\n",
       "      <th>0</th>\n",
       "      <td>1</td>\n",
       "      <td>Henry IV</td>\n",
       "      <td>NaN</td>\n",
       "      <td>NaN</td>\n",
       "      <td>NaN</td>\n",
       "      <td>ACT I</td>\n",
       "    </tr>\n",
       "    <tr>\n",
       "      <th>1</th>\n",
       "      <td>2</td>\n",
       "      <td>Henry IV</td>\n",
       "      <td>NaN</td>\n",
       "      <td>NaN</td>\n",
       "      <td>NaN</td>\n",
       "      <td>SCENE I. London. The palace.</td>\n",
       "    </tr>\n",
       "    <tr>\n",
       "      <th>2</th>\n",
       "      <td>3</td>\n",
       "      <td>Henry IV</td>\n",
       "      <td>NaN</td>\n",
       "      <td>NaN</td>\n",
       "      <td>NaN</td>\n",
       "      <td>Enter KING HENRY, LORD JOHN OF LANCASTER, the ...</td>\n",
       "    </tr>\n",
       "    <tr>\n",
       "      <th>3</th>\n",
       "      <td>4</td>\n",
       "      <td>Henry IV</td>\n",
       "      <td>1.0</td>\n",
       "      <td>1.1.1</td>\n",
       "      <td>KING HENRY IV</td>\n",
       "      <td>So shaken as we are, so wan with care,</td>\n",
       "    </tr>\n",
       "    <tr>\n",
       "      <th>4</th>\n",
       "      <td>5</td>\n",
       "      <td>Henry IV</td>\n",
       "      <td>1.0</td>\n",
       "      <td>1.1.2</td>\n",
       "      <td>KING HENRY IV</td>\n",
       "      <td>Find we a time for frighted peace to pant,</td>\n",
       "    </tr>\n",
       "  </tbody>\n",
       "</table>\n",
       "</div>"
      ],
      "text/plain": [
       "   Dataline      Play  PlayerLinenumber ActSceneLine         Player  \\\n",
       "0         1  Henry IV               NaN          NaN            NaN   \n",
       "1         2  Henry IV               NaN          NaN            NaN   \n",
       "2         3  Henry IV               NaN          NaN            NaN   \n",
       "3         4  Henry IV               1.0        1.1.1  KING HENRY IV   \n",
       "4         5  Henry IV               1.0        1.1.2  KING HENRY IV   \n",
       "\n",
       "                                          PlayerLine  \n",
       "0                                              ACT I  \n",
       "1                       SCENE I. London. The palace.  \n",
       "2  Enter KING HENRY, LORD JOHN OF LANCASTER, the ...  \n",
       "3             So shaken as we are, so wan with care,  \n",
       "4         Find we a time for frighted peace to pant,  "
      ]
     },
     "execution_count": 3,
     "metadata": {},
     "output_type": "execute_result"
    }
   ],
   "source": [
    "shakes_df.head()"
   ]
  },
  {
   "cell_type": "code",
   "execution_count": 4,
   "metadata": {},
   "outputs": [
    {
     "name": "stdout",
     "output_type": "stream",
     "text": [
      "<class 'pandas.core.frame.DataFrame'>\n",
      "RangeIndex: 111396 entries, 0 to 111395\n",
      "Data columns (total 6 columns):\n",
      "Dataline            111396 non-null int64\n",
      "Play                111396 non-null object\n",
      "PlayerLinenumber    111393 non-null float64\n",
      "ActSceneLine        105153 non-null object\n",
      "Player              111389 non-null object\n",
      "PlayerLine          111396 non-null object\n",
      "dtypes: float64(1), int64(1), object(4)\n",
      "memory usage: 5.1+ MB\n"
     ]
    }
   ],
   "source": [
    "shakes_df.info()"
   ]
  },
  {
   "cell_type": "code",
   "execution_count": 5,
   "metadata": {},
   "outputs": [
    {
     "data": {
      "text/plain": [
       "array([nan, 'KING HENRY IV', 'WESTMORELAND', 'FALSTAFF', 'PRINCE HENRY',\n",
       "       'POINS', 'EARL OF WORCESTER', 'NORTHUMBERLAND', 'HOTSPUR',\n",
       "       'SIR WALTER BLUNT', 'First Carrier', 'Ostler', 'Second Carrier',\n",
       "       'GADSHILL', 'Chamberlain', 'BARDOLPH', 'PETO', 'First Traveller',\n",
       "       'Thieves', 'Travellers', 'LADY PERCY', 'Servant', 'FRANCIS',\n",
       "       'Vintner', 'Hostess', 'Sheriff', 'Carrier', 'MORTIMER',\n",
       "       'GLENDOWER', 'EARL OF DOUGLAS', 'Messenger', 'VERNON', 'WORCESTER',\n",
       "       'ARCHBISHOP OF YORK', 'SIR MICHAEL', 'LANCASTER', 'BEDFORD',\n",
       "       'GLOUCESTER', 'EXETER', 'OF WINCHESTER', 'CHARLES', 'ALENCON',\n",
       "       'REIGNIER', 'BASTARD OF ORLEANS', 'JOAN LA PUCELLE',\n",
       "       'First Warder', 'Second Warder', 'WOODVILE', 'Mayor', 'Officer',\n",
       "       'Boy', 'SALISBURY', 'TALBOT', 'GARGRAVE', 'GLANSDALE', 'Sergeant',\n",
       "       'First Sentinel', 'BURGUNDY', 'Sentinels', 'Soldier', 'Captain',\n",
       "       'OF AUVERGNE', 'Porter', 'PLANTAGENET', 'SUFFOLK', 'SOMERSET',\n",
       "       'WARWICK', 'Lawyer', 'First Gaoler', 'KING HENRY VI', 'ALL',\n",
       "       'First Soldier', 'Watch', 'FASTOLFE', 'BASSET', 'YORK', 'General',\n",
       "       'LUCY', 'JOHN TALBOT', 'Legate', 'Scout', 'MARGARET', 'SU FFOLK',\n",
       "       'Shepherd', 'QUEEN MARGARET', 'CARDINAL', 'BUCKINGHAM', 'DUCHESS',\n",
       "       'HUME', 'First Petitioner', 'Second Petitioner', 'PETER', 'HORNER',\n",
       "       'BOLINGBROKE', 'Spirit', 'MARGARET JOURDAIN', 'Townsman',\n",
       "       'SIMPCOX', 'Wife', 'Beadle', 'BOTH', 'First Neighbour',\n",
       "       'Second Neighbour', 'Third Neighbour', 'Servants', 'Herald',\n",
       "       'STANLEY', 'Post', 'First Murderer', 'Second Murderer',\n",
       "       'First Murder', 'Commons', 'VAUX', 'First Gentleman', 'Master',\n",
       "       'Second Gentleman', 'WHITMORE', 'BEVIS', 'HOLLAND', 'CADE', 'DICK',\n",
       "       'SMITH', 'Clerk', 'CLERK', 'MICHAEL', 'SIR HUMPHREY',\n",
       "       'WILLIAM STAFFORD', 'SAY', 'SCALES', 'First Citizen', 'CLIFFORD',\n",
       "       'IDEN', 'EDWARD', 'RICHARD', 'YOUNG CLIFFORD', 'MONTAGUE',\n",
       "       'NORFOLK', 'PRINCE EDWARD', 'JOHN MORTIMER', 'RUTLAND', 'Tutor',\n",
       "       'PRINCE', 'GEORGE', 'Son', 'Father', 'First Keeper',\n",
       "       'Second Keeper', 'KING EDWARD IV', 'CLARENCE', 'LADY GREY',\n",
       "       'Nobleman', 'KING LEWIS XI', 'OXFORD', 'BONA', 'HASTINGS',\n",
       "       'QUEEN ELIZABETH', 'First Watchman', 'Second Watchman',\n",
       "       'Third Watchman', 'RIVERS', 'Huntsman', 'Lieutenant', 'All',\n",
       "       'First Messenger', 'Second Messenger', 'COUNTESS', 'BERTRAM',\n",
       "       'LAFEU', 'HELENA', 'PAROLLES', 'Page', 'KING', 'First Lord',\n",
       "       'Second Lord', 'Steward', 'Clown', 'Both', 'Fourth Lord', 'DUKE',\n",
       "       'Widow', 'DIANA', 'MARIANA', 'Second Soldier', 'Gentleman',\n",
       "       'ORLANDO', 'ADAM', 'OLIVER', 'DENNIS', 'CELIA', 'ROSALIND',\n",
       "       'TOUCHSTONE', 'LE BEAU', 'DUKE FREDERICK', 'DUKE SENIOR', 'AMIENS',\n",
       "       'CORIN', 'SILVIUS', 'JAQUES', 'AUDREY', 'SIR OLIVER MARTEXT',\n",
       "       'PHEBE', 'A Lord', 'Forester', 'WILLIAM', 'First Page',\n",
       "       'Second Page', 'HYMEN', 'JAQUES DE BOYS', 'PHILO', 'CLEOPATRA',\n",
       "       'MARK ANTONY', 'Attendant', 'DEMETRIUS', 'CHARMIAN', 'ALEXAS',\n",
       "       'Soothsayer', 'DOMITIUS ENOBARBUS', 'IRAS', 'First Attendant',\n",
       "       'Second Attendant', 'OCTAVIUS CAESAR', 'LEPIDUS', 'MARDIAN',\n",
       "       'POMPEY', 'MENECRATES', 'MENAS', 'VARRIUS', 'MECAENAS', 'AGRIPPA',\n",
       "       'OCTAVIA', 'Attendants', 'First Servant', 'Second Servant',\n",
       "       'VENTIDIUS', 'SILIUS', 'EROS', 'CANIDIUS', 'TAURUS', 'SCARUS',\n",
       "       'DOLABELLA', 'EUPHRONIUS', 'THYREUS', 'Third Soldier',\n",
       "       'Fourth Soldier', 'First Guard', 'Second Guard', 'Third Guard',\n",
       "       'DERCETAS', 'DIOMEDES', 'Egyptian', 'PROCULEIUS', 'GALLUS',\n",
       "       'SELEUCUS', 'Guard', 'AEGEON', 'DUKE SOLINUS', 'Gaoler',\n",
       "       'First Merchant', 'OF SYRACUSE', 'DROMIO OF SYRACUSE',\n",
       "       'DROMIO OF EPHESUS', 'ADRIANA', 'LUCIANA', 'OF EPHESUS',\n",
       "       'BALTHAZAR', 'LUCE', 'ANTIPHOLUS', 'ANGELO', 'Second Merchant',\n",
       "       'Courtezan', 'PINCH', 'AEMELIA', 'Second Citizen', 'MENENIUS',\n",
       "       'MARCIUS', 'First Senator', 'COMINIUS', 'TITUS', 'SICINIUS',\n",
       "       'BRUTUS', 'AUFIDIUS', 'Second Senator', 'VOLUMNIA', 'VIRGILIA',\n",
       "       'Gentlewoman', 'VALERIA', 'LARTIUS', 'First Roman', 'Second Roman',\n",
       "       'Third Roman', 'CORIOLANUS', 'First Officer', 'Second Officer',\n",
       "       'Senators', 'Third Citizen', 'Fourth Citizen', 'Fifth Citizen',\n",
       "       'Both Citizens', 'Sixth Citizen', 'Seventh Citizen',\n",
       "       'All Citizens', 'Citizens', 'AEdile', 'A Patrician',\n",
       "       'Second Patrician', 'Both Tribunes', 'Roman', 'Volsce', 'Citizen',\n",
       "       'First Servingman', 'Second Servingman', 'Third Servingman',\n",
       "       'Young MARCIUS', 'First Conspirator', 'Second Conspirator',\n",
       "       'Third Conspirator', 'All The Lords', 'Lords', 'All Conspirators',\n",
       "       'All The People', 'Third Lord', 'QUEEN', 'POSTHUMUS LEONATUS',\n",
       "       'IMOGEN', 'CYMBELINE', 'PISANIO', 'CLOTEN', 'Lady', 'IACHIMO',\n",
       "       'PHILARIO', 'Frenchman', 'First Lady', 'CORNELIUS', 'CAIUS LUCIUS',\n",
       "       'BELARIUS', 'GUIDERIUS', 'ARVIRAGUS', 'First Tribune', 'Lord',\n",
       "       'First Captain', 'Second Captain', 'Second Gaoler',\n",
       "       'Sicilius Leonatus', 'Mother', 'First Brother', 'Second Brother',\n",
       "       'Jupiter', 'Posthumus Leonatus', 'BERNARDO', 'FRANCISCO',\n",
       "       'HORATIO', 'MARCELLUS', 'KING CLAUDIUS', 'VOLTIMAND', 'LAERTES',\n",
       "       'LORD POLONIUS', 'HAMLET', 'QUEEN GERTRUDE', 'OPHELIA', 'Ghost',\n",
       "       'REYNALDO', 'ROSENCRANTZ', 'GUILDENSTERN', 'First Player',\n",
       "       'Prologue', 'Player King', 'Player Queen', 'LUCIANUS',\n",
       "       'PRINCE FORTINBRAS', 'Danes', 'First Sailor', 'First Clown',\n",
       "       'Second Clown', 'First Priest', 'OSRIC', 'First Ambassador',\n",
       "       'Chorus', 'CANTERBURY', 'ELY', 'KING HENRY V', 'NYM', 'PISTOL',\n",
       "       'SCROOP', 'CAMBRIDGE', 'GREY', 'KING OF FRANCE', 'DAUPHIN',\n",
       "       'Constable', 'FLUELLEN', 'GOWER', 'JAMY', 'MACMORRIS', 'GOVERNOR',\n",
       "       'KATHARINE', 'ALICE', 'BOURBON', 'MONTJOY', 'ORLEANS', 'RAMBURES',\n",
       "       'ERPINGHAM', 'COURT', 'BATES', 'WILLIAMS', 'GRANDPRE',\n",
       "       'French Soldier', 'QUEEN ISABEL', 'FRENCH KING', 'ABERGAVENNY',\n",
       "       'CARDINAL WOLSEY', 'First Secretary', 'BRANDON', 'KING HENRY VIII',\n",
       "       'QUEEN KATHARINE', 'Surveyor', 'SANDS', 'LOVELL', 'GUILDFORD',\n",
       "       'ANNE', 'CARDINAL CAMPEIUS', 'GARDINER', 'Old Lady', 'Scribe',\n",
       "       'Crier', 'GRIFFITH', 'LINCOLN', 'SURREY', 'CROMWELL',\n",
       "       'Third Gentleman', 'PATIENCE', 'CAPUCIUS', 'DENNY', 'CRANMER',\n",
       "       'Keeper', 'DOCTOR BUTTS', 'Chancellor', 'Man', 'Garter',\n",
       "       'KING JOHN', 'CHATILLON', 'QUEEN ELINOR', 'ESSEX', 'BASTARD',\n",
       "       'ROBERT', 'LADY FAULCONBRIDGE', 'GURNEY', 'LEWIS', 'ARTHUR',\n",
       "       'AUSTRIA', 'CONSTANCE', 'KING PHILIP', 'BLANCH', 'French Herald',\n",
       "       'English Herald', 'CARDINAL PANDULPH', 'ELINOR', 'HUBERT',\n",
       "       'First Executioner', 'PEMBROKE', 'BIGOT', 'MELUN', 'FLAVIUS',\n",
       "       'First Commoner', 'MARULLUS', 'Second Commoner', 'CAESAR', 'CASCA',\n",
       "       'CALPURNIA', 'ANTONY', 'CASSIUS', 'CICERO', 'CINNA', 'LUCIUS',\n",
       "       'DECIUS BRUTUS', 'METELLUS CIMBER', 'TREBONIUS', 'PORTIA',\n",
       "       'LIGARIUS', 'PUBLIUS', 'ARTEMIDORUS', 'POPILIUS',\n",
       "       'Several Citizens', 'CINNA THE POET', 'OCTAVIUS', 'LUCILIUS',\n",
       "       'PINDARUS', 'Poet', 'MESSALA', 'VARRO', 'GHOST', 'CLAUDIUS',\n",
       "       'TITINIUS', 'CATO', 'CLITUS', 'DARDANIUS', 'VOLUMNIUS', 'STRATO',\n",
       "       'KENT', 'EDMUND', 'KING LEAR', 'GONERIL', 'CORDELIA', 'LEAR',\n",
       "       'REGAN', 'CORNWALL', 'EDGAR', 'OSWALD', 'Knight', 'Fool', 'ALBANY',\n",
       "       'CURAN', 'Third Servant', 'Old Man', 'Doctor', 'FERDINAND',\n",
       "       'LONGAVILLE', 'DUMAIN', 'BIRON', 'DULL', 'COSTARD',\n",
       "       'ADRIANO DE ARMADO', 'MOTH', 'ARMADO', 'JAQUENETTA', 'BOYET',\n",
       "       'PRINCESS', 'MARIA', 'ROSALINE', 'SIR NATHANIEL', 'HOLOFERNES',\n",
       "       'MERCADE', 'First Witch', 'Second Witch', 'Third Witch', 'DUNCAN',\n",
       "       'MALCOLM', 'LENNOX', 'ROSS', 'MACBETH', 'BANQUO', 'ANGUS',\n",
       "       'LADY MACBETH', 'FLEANCE', 'MACDUFF', 'DONALBAIN', 'ATTENDANT',\n",
       "       'Both Murderers', 'Third Murderer', 'HECATE', 'First Apparition',\n",
       "       'Second Apparition', 'Third Apparition', 'LADY MACDUFF',\n",
       "       'MENTEITH', 'CAITHNESS', 'SEYTON', 'SIWARD', 'Soldiers',\n",
       "       'YOUNG SIWARD', 'DUKE VINCENTIO', 'ESCALUS', 'LUCIO',\n",
       "       'MISTRESS OVERDONE', 'CLAUDIO', 'Provost', 'FRIAR THOMAS',\n",
       "       'ISABELLA', 'FRANCISCA', 'ELBOW', 'FROTH', 'POMPHEY', 'Justice',\n",
       "       'JULIET', 'ABHORSON', 'BARNARDINE', 'FRIAR PETER', 'ANTONIO',\n",
       "       'SALARINO', 'SALANIO', 'BASSANIO', 'LORENZO', 'GRATIANO',\n",
       "       'NERISSA', 'SHYLOCK', 'MOROCCO', 'LAUNCELOT', 'GOBBO', 'LEONARDO',\n",
       "       'JESSICA', 'ARRAGON', 'TUBAL', 'SALERIO', 'BALTHASAR', 'STEPHANO',\n",
       "       'SHALLOW', 'SLENDER', 'SIR HUGH EVANS', 'PAGE', 'SIMPLE',\n",
       "       'ANNE PAGE', 'Host', 'MISTRESS QUICKLY', 'RUGBY', 'DOCTOR CAIUS',\n",
       "       'FENTON', 'MISTRESS PAGE', 'MISTRESS FORD', 'FORD', 'ROBIN',\n",
       "       'WILLIAM PAGE', 'THESEUS', 'HIPPOLYTA', 'EGEUS', 'HERMIA',\n",
       "       'LYSANDER', 'QUINCE', 'BOTTOM', 'FLUTE', 'STARVELING', 'SNOUT',\n",
       "       'SNUG', 'PUCK', 'Fairy', 'OBERON', 'TITANIA', 'PEASEBLOSSOM',\n",
       "       'COBWEB', 'MUSTARDSEED', 'HERNIA', 'PHILOSTRATE', 'Wall',\n",
       "       'Pyramus', 'Thisbe', 'Lion', 'Moonshine', 'LEONATO', 'BEATRICE',\n",
       "       'HERO', 'DON PEDRO', 'BENEDICK', 'DON JOHN', 'CONRADE', 'BORACHIO',\n",
       "       'URSULA', 'DOGBERRY', 'VERGES', 'Watchman', 'FRIAR FRANCIS',\n",
       "       'Sexton', 'RODERIGO', 'IAGO', 'BRABANTIO', 'OTHELLO', 'CASSIO',\n",
       "       'DUKE OF VENICE', 'Sailor', 'Senator', 'DESDEMONA', 'MONTANO',\n",
       "       'Fourth Gentleman', 'Second Gentlemen', 'EMILIA', 'First Musician',\n",
       "       'BIANCA', 'LODOVICO', 'ANTIOCHUS', 'PERICLES', 'Daughter',\n",
       "       'THALIARD', 'HELICANUS', 'CLEON', 'DIONYZA', 'First Fisherman',\n",
       "       'Second Fisherman', 'Third Fisherman', 'SIMONIDES', 'THAISA',\n",
       "       'KNIGHTS', 'Marshal', 'First Knight', 'Knights', 'ESCANES',\n",
       "       'Second Knight', 'Third Knight', 'LYCHORIDA', 'Second Sailor',\n",
       "       'CERIMON', 'PHILEMON', 'LEONINE', 'MARINA', 'First Pirate',\n",
       "       'Second Pirate', 'Third Pirate', 'Pandar', 'BOULT', 'Bawd',\n",
       "       'LYSIMACHUS', 'Tyrian Sailor', 'KING RICHARD II', 'JOHN OF GAUNT',\n",
       "       'HENRY BOLINGBROKE', 'THOMAS MOWBRAY', 'Lord Marshal',\n",
       "       'DUKE OF AUMERLE', 'First Herald', 'Second Herald', 'GREEN',\n",
       "       'BUSHY', 'DUKE OF YORK', 'LORD ROSS', 'LORD WILLOUGHBY', 'BAGOT',\n",
       "       'HENRY PERCY', 'LORD BERKELEY', 'EARL OF SALISBURY',\n",
       "       'BISHOP OF CARLISLE', 'SIR STEPHEN SCROOP', 'Gardener', 'GARDENER',\n",
       "       'LORD FITZWATER', 'DUKE OF SURREY', 'Abbot', 'DUCHESS OF YORK',\n",
       "       'EXTON', 'Groom', 'BRAKENBURY', 'LADY ANNE', 'GENTLEMEN', 'DERBY',\n",
       "       'DORSET', 'CATESBY', 'Second murderer', 'Girl', 'Children',\n",
       "       'Lord Mayor', 'LORD STANLEY', 'Pursuivant', 'Priest', 'RATCLIFF',\n",
       "       'VAUGHAN', 'BISHOP OF ELY', 'LOVEL', 'Scrivener', 'ANOTHER',\n",
       "       'KING RICHARD III', 'TYRREL', 'Third Messenger',\n",
       "       'Fourth Messenger', 'CHRISTOPHER', 'RICHMOND', 'HERBERT', 'BLUNT',\n",
       "       'of Prince Edward', 'of King Henry VI', 'Ghost of CLARENCE',\n",
       "       'Ghost of RIVERS', 'Ghost of GREY', 'Ghost of VAUGHAN',\n",
       "       'Ghost of HASTINGS', 'of young Princes', 'Ghost of LADY ANNE',\n",
       "       'of BUCKINGHAM', 'LORDS', 'SAMPSON', 'GREGORY', 'ABRAHAM',\n",
       "       'BENVOLIO', 'TYBALT', 'CAPULET', 'LADY CAPULET', 'LADY MONTAGUE',\n",
       "       'ROMEO', 'PARIS', 'Nurse', 'MERCUTIO', 'Second Capulet',\n",
       "       'FRIAR LAURENCE', 'NURSE', 'LADY  CAPULET', 'Second Musician',\n",
       "       'Musician', 'Third Musician', 'Apothecary', 'FRIAR JOHN', 'SLY',\n",
       "       'First Huntsman', 'Second Huntsman', 'Players', 'A Player',\n",
       "       'LUCENTIO', 'TRANIO', 'BAPTISTA', 'GREMIO', 'KATHARINA',\n",
       "       'HORTENSIO', 'HORTENSIA', 'BIONDELLO', 'PETRUCHIO', 'GRUMIO',\n",
       "       'KATARINA', 'CURTIS', 'NATHANIEL', 'PHILIP', 'JOSEPH', 'NICHOLAS',\n",
       "       'Pedant', 'Haberdasher', 'Tailor', 'VINCENTIO', 'Boatswain',\n",
       "       'ALONSO', 'GONZALO', 'SEBASTIAN', 'Mariners', 'MIRANDA',\n",
       "       'PROSPERO', 'ARIEL', 'CALIBAN', 'ADRIAN', 'TRINCULO', 'IRIS',\n",
       "       'CERES', 'JUNO', 'Painter', 'Merchant', 'Jeweller', 'TIMON',\n",
       "       'Old Athenian', 'APEMANTUS', 'ALCIBIADES', 'Cupid', 'All Ladies',\n",
       "       'All Lords', 'CAPHIS', 'All Servants', 'FLAMINIUS', 'LUCULLUS',\n",
       "       'First Stranger', 'Second Stranger', 'SERVILIUS', 'Third Stranger',\n",
       "       'SEMPRONIUS', 'HORTENSIUS', 'PHILOTUS', 'Third Senator',\n",
       "       'Some Speak', 'Some Others', 'PHRYNIA', 'TIMANDRA', 'First Bandit',\n",
       "       'Second Bandit', 'Third Bandit', 'Banditti', 'SATURNINUS',\n",
       "       'BASSIANUS', 'MARCUS ANDRONICUS', 'TITUS ANDRONICUS', 'TAMORA',\n",
       "       'CHIRON', 'LAVINIA', 'Tribunes', 'MUTIUS', 'MARTIUS', 'QUINTUS',\n",
       "       'AARON', 'MARCUS', 'Young LUCIUS', 'AEMILIUS', 'First Goth',\n",
       "       'All the Goths', 'Second Goth', 'Third Goth', 'TROILUS',\n",
       "       'PANDARUS', 'AENEAS', 'CRESSIDA', 'ALEXANDER', 'AGAMEMNON',\n",
       "       'NESTOR', 'ULYSSES', 'MENELAUS', 'AJAX', 'THERSITES', 'ACHILLES',\n",
       "       'PATROCLUS', 'PRIAM', 'HECTOR', 'HELENUS', 'CASSANDRA', 'HELEN',\n",
       "       'CALCHAS', 'DEIPHOBUS', 'ANDROMACHE', 'MARGARELON', 'MYRMIDONS',\n",
       "       'DUKE ORSINO', 'CURIO', 'VALENTINE', 'VIOLA', 'SIR TOBY BELCH',\n",
       "       'SIR ANDREW', 'OLIVIA', 'MALVOLIO', 'FABIAN', 'PROTEUS', 'SPEED',\n",
       "       'JULIA', 'LUCETTA', 'PANTHINO', 'SILVIA', 'LAUNCE', 'THURIO',\n",
       "       'First Outlaw', 'Second Outlaw', 'Third Outlaw', 'EGLAMOUR',\n",
       "       'Outlaws', 'ARCHIDAMUS', 'CAMILLO', 'POLIXENES', 'LEONTES',\n",
       "       'HERMIONE', 'MAMILLIUS', 'Second Lady', 'ANTIGONUS', 'PAULINA',\n",
       "       'CLEOMENES', 'DION', 'Mariner', 'Time', 'AUTOLYCUS', 'FLORIZEL',\n",
       "       'PERDITA', 'DORCAS', 'MOPSA', 'Shepard'], dtype=object)"
      ]
     },
     "execution_count": 5,
     "metadata": {},
     "output_type": "execute_result"
    }
   ],
   "source": [
    "shakes_df.Player.unique()"
   ]
  },
  {
   "cell_type": "code",
   "execution_count": 6,
   "metadata": {},
   "outputs": [],
   "source": [
    "# Based on initial observation, I assume that it is necessary to discard the rows that have no Player data\n",
    "# This is because we don't want our model to learn NaN as an answer\n",
    "# The model should only answer concrete characters in the play"
   ]
  },
  {
   "cell_type": "code",
   "execution_count": 7,
   "metadata": {},
   "outputs": [],
   "source": [
    "# Now I want to see what type of data there are in the rows that NaN in Player\n",
    "# I want to do this to see which data I would lose if I drop these rows"
   ]
  },
  {
   "cell_type": "code",
   "execution_count": 8,
   "metadata": {},
   "outputs": [
    {
     "data": {
      "text/html": [
       "<div>\n",
       "<style scoped>\n",
       "    .dataframe tbody tr th:only-of-type {\n",
       "        vertical-align: middle;\n",
       "    }\n",
       "\n",
       "    .dataframe tbody tr th {\n",
       "        vertical-align: top;\n",
       "    }\n",
       "\n",
       "    .dataframe thead th {\n",
       "        text-align: right;\n",
       "    }\n",
       "</style>\n",
       "<table border=\"1\" class=\"dataframe\">\n",
       "  <thead>\n",
       "    <tr style=\"text-align: right;\">\n",
       "      <th></th>\n",
       "      <th>Dataline</th>\n",
       "      <th>Play</th>\n",
       "      <th>PlayerLinenumber</th>\n",
       "      <th>ActSceneLine</th>\n",
       "      <th>Player</th>\n",
       "      <th>PlayerLine</th>\n",
       "    </tr>\n",
       "  </thead>\n",
       "  <tbody>\n",
       "    <tr>\n",
       "      <th>0</th>\n",
       "      <td>1</td>\n",
       "      <td>Henry IV</td>\n",
       "      <td>NaN</td>\n",
       "      <td>NaN</td>\n",
       "      <td>NaN</td>\n",
       "      <td>ACT I</td>\n",
       "    </tr>\n",
       "    <tr>\n",
       "      <th>1</th>\n",
       "      <td>2</td>\n",
       "      <td>Henry IV</td>\n",
       "      <td>NaN</td>\n",
       "      <td>NaN</td>\n",
       "      <td>NaN</td>\n",
       "      <td>SCENE I. London. The palace.</td>\n",
       "    </tr>\n",
       "    <tr>\n",
       "      <th>2</th>\n",
       "      <td>3</td>\n",
       "      <td>Henry IV</td>\n",
       "      <td>NaN</td>\n",
       "      <td>NaN</td>\n",
       "      <td>NaN</td>\n",
       "      <td>Enter KING HENRY, LORD JOHN OF LANCASTER, the ...</td>\n",
       "    </tr>\n",
       "    <tr>\n",
       "      <th>2015</th>\n",
       "      <td>2016</td>\n",
       "      <td>Henry IV</td>\n",
       "      <td>10.0</td>\n",
       "      <td>NaN</td>\n",
       "      <td>NaN</td>\n",
       "      <td>Eastcheap. The Boar's-Head Tavern.</td>\n",
       "    </tr>\n",
       "    <tr>\n",
       "      <th>2016</th>\n",
       "      <td>2017</td>\n",
       "      <td>Henry IV</td>\n",
       "      <td>10.0</td>\n",
       "      <td>NaN</td>\n",
       "      <td>NaN</td>\n",
       "      <td>Enter FALSTAFF and BARDOLPH</td>\n",
       "    </tr>\n",
       "    <tr>\n",
       "      <th>29459</th>\n",
       "      <td>29460</td>\n",
       "      <td>Cymbeline</td>\n",
       "      <td>7.0</td>\n",
       "      <td>2.2.55</td>\n",
       "      <td>NaN</td>\n",
       "      <td>An ante-chamber adjoining Imogen's apartments.</td>\n",
       "    </tr>\n",
       "    <tr>\n",
       "      <th>29460</th>\n",
       "      <td>29461</td>\n",
       "      <td>Cymbeline</td>\n",
       "      <td>7.0</td>\n",
       "      <td>NaN</td>\n",
       "      <td>NaN</td>\n",
       "      <td>Enter CLOTEN and Lords</td>\n",
       "    </tr>\n",
       "  </tbody>\n",
       "</table>\n",
       "</div>"
      ],
      "text/plain": [
       "       Dataline       Play  PlayerLinenumber ActSceneLine Player  \\\n",
       "0             1   Henry IV               NaN          NaN    NaN   \n",
       "1             2   Henry IV               NaN          NaN    NaN   \n",
       "2             3   Henry IV               NaN          NaN    NaN   \n",
       "2015       2016   Henry IV              10.0          NaN    NaN   \n",
       "2016       2017   Henry IV              10.0          NaN    NaN   \n",
       "29459     29460  Cymbeline               7.0       2.2.55    NaN   \n",
       "29460     29461  Cymbeline               7.0          NaN    NaN   \n",
       "\n",
       "                                              PlayerLine  \n",
       "0                                                  ACT I  \n",
       "1                           SCENE I. London. The palace.  \n",
       "2      Enter KING HENRY, LORD JOHN OF LANCASTER, the ...  \n",
       "2015                  Eastcheap. The Boar's-Head Tavern.  \n",
       "2016                         Enter FALSTAFF and BARDOLPH  \n",
       "29459     An ante-chamber adjoining Imogen's apartments.  \n",
       "29460                             Enter CLOTEN and Lords  "
      ]
     },
     "execution_count": 8,
     "metadata": {},
     "output_type": "execute_result"
    }
   ],
   "source": [
    "shakes_df[shakes_df.Player.isna()]"
   ]
  },
  {
   "cell_type": "code",
   "execution_count": 9,
   "metadata": {},
   "outputs": [],
   "source": [
    "# So far I believe that I should drop all of these rows, they do not provide any useful data to guessing the character\n",
    "# If we do this then we drop all the rows in PlayerLineNumber that are NaN too"
   ]
  },
  {
   "cell_type": "code",
   "execution_count": 10,
   "metadata": {},
   "outputs": [],
   "source": [
    "# Now I want to see which kind of data there is in the rows that have NaN values for ActSceneLine \n",
    "# Maybe there is something useful there to predict the character\n",
    "# I still want to make sure that there isn't a lot of NaN values for Players within this subset of the dataframe"
   ]
  },
  {
   "cell_type": "code",
   "execution_count": 11,
   "metadata": {},
   "outputs": [
    {
     "data": {
      "text/html": [
       "<div>\n",
       "<style scoped>\n",
       "    .dataframe tbody tr th:only-of-type {\n",
       "        vertical-align: middle;\n",
       "    }\n",
       "\n",
       "    .dataframe tbody tr th {\n",
       "        vertical-align: top;\n",
       "    }\n",
       "\n",
       "    .dataframe thead th {\n",
       "        text-align: right;\n",
       "    }\n",
       "</style>\n",
       "<table border=\"1\" class=\"dataframe\">\n",
       "  <thead>\n",
       "    <tr style=\"text-align: right;\">\n",
       "      <th></th>\n",
       "      <th>Dataline</th>\n",
       "      <th>Play</th>\n",
       "      <th>PlayerLinenumber</th>\n",
       "      <th>ActSceneLine</th>\n",
       "      <th>Player</th>\n",
       "      <th>PlayerLine</th>\n",
       "    </tr>\n",
       "  </thead>\n",
       "  <tbody>\n",
       "    <tr>\n",
       "      <th>0</th>\n",
       "      <td>1</td>\n",
       "      <td>Henry IV</td>\n",
       "      <td>NaN</td>\n",
       "      <td>NaN</td>\n",
       "      <td>NaN</td>\n",
       "      <td>ACT I</td>\n",
       "    </tr>\n",
       "    <tr>\n",
       "      <th>1</th>\n",
       "      <td>2</td>\n",
       "      <td>Henry IV</td>\n",
       "      <td>NaN</td>\n",
       "      <td>NaN</td>\n",
       "      <td>NaN</td>\n",
       "      <td>SCENE I. London. The palace.</td>\n",
       "    </tr>\n",
       "    <tr>\n",
       "      <th>2</th>\n",
       "      <td>3</td>\n",
       "      <td>Henry IV</td>\n",
       "      <td>NaN</td>\n",
       "      <td>NaN</td>\n",
       "      <td>NaN</td>\n",
       "      <td>Enter KING HENRY, LORD JOHN OF LANCASTER, the ...</td>\n",
       "    </tr>\n",
       "    <tr>\n",
       "      <th>2015</th>\n",
       "      <td>2016</td>\n",
       "      <td>Henry IV</td>\n",
       "      <td>10.0</td>\n",
       "      <td>NaN</td>\n",
       "      <td>NaN</td>\n",
       "      <td>Eastcheap. The Boar's-Head Tavern.</td>\n",
       "    </tr>\n",
       "    <tr>\n",
       "      <th>2016</th>\n",
       "      <td>2017</td>\n",
       "      <td>Henry IV</td>\n",
       "      <td>10.0</td>\n",
       "      <td>NaN</td>\n",
       "      <td>NaN</td>\n",
       "      <td>Enter FALSTAFF and BARDOLPH</td>\n",
       "    </tr>\n",
       "    <tr>\n",
       "      <th>29460</th>\n",
       "      <td>29461</td>\n",
       "      <td>Cymbeline</td>\n",
       "      <td>7.0</td>\n",
       "      <td>NaN</td>\n",
       "      <td>NaN</td>\n",
       "      <td>Enter CLOTEN and Lords</td>\n",
       "    </tr>\n",
       "  </tbody>\n",
       "</table>\n",
       "</div>"
      ],
      "text/plain": [
       "       Dataline       Play  PlayerLinenumber ActSceneLine Player  \\\n",
       "0             1   Henry IV               NaN          NaN    NaN   \n",
       "1             2   Henry IV               NaN          NaN    NaN   \n",
       "2             3   Henry IV               NaN          NaN    NaN   \n",
       "2015       2016   Henry IV              10.0          NaN    NaN   \n",
       "2016       2017   Henry IV              10.0          NaN    NaN   \n",
       "29460     29461  Cymbeline               7.0          NaN    NaN   \n",
       "\n",
       "                                              PlayerLine  \n",
       "0                                                  ACT I  \n",
       "1                           SCENE I. London. The palace.  \n",
       "2      Enter KING HENRY, LORD JOHN OF LANCASTER, the ...  \n",
       "2015                  Eastcheap. The Boar's-Head Tavern.  \n",
       "2016                         Enter FALSTAFF and BARDOLPH  \n",
       "29460                             Enter CLOTEN and Lords  "
      ]
     },
     "execution_count": 11,
     "metadata": {},
     "output_type": "execute_result"
    }
   ],
   "source": [
    "shakes_df[shakes_df.ActSceneLine.isna() & shakes_df.Player.isna()]"
   ]
  },
  {
   "cell_type": "code",
   "execution_count": 151,
   "metadata": {},
   "outputs": [],
   "source": [
    "# There are only 6 NaN Players within this subset, therefore I will leave the ActSceneLine nan rows in its place"
   ]
  },
  {
   "cell_type": "code",
   "execution_count": 13,
   "metadata": {},
   "outputs": [],
   "source": [
    "shakes_df.dropna(subset=['Player'], inplace=True)"
   ]
  },
  {
   "cell_type": "code",
   "execution_count": 14,
   "metadata": {},
   "outputs": [],
   "source": [
    "# Also it would be useful to hotshot encode the Play \n",
    "# For this we would need to find out how many plays there are"
   ]
  },
  {
   "cell_type": "markdown",
   "metadata": {},
   "source": [
    "shakes_df.Play.unique()"
   ]
  },
  {
   "cell_type": "code",
   "execution_count": 15,
   "metadata": {},
   "outputs": [],
   "source": [
    "shakes_corr = shakes_df.corr()"
   ]
  },
  {
   "cell_type": "code",
   "execution_count": 16,
   "metadata": {},
   "outputs": [],
   "source": [
    "mask = np.zeros_like(shakes_corr, dtype=np.bool)\n",
    "mask[np.triu_indices_from(mask)] = True"
   ]
  },
  {
   "cell_type": "code",
   "execution_count": 17,
   "metadata": {},
   "outputs": [
    {
     "data": {
      "text/plain": [
       "<matplotlib.axes._subplots.AxesSubplot at 0x1a18c81f98>"
      ]
     },
     "execution_count": 17,
     "metadata": {},
     "output_type": "execute_result"
    },
    {
     "data": {
      "image/png": "[encoded data removed]",
      "text/plain": [
       "<Figure size 792x648 with 2 Axes>"
      ]
     },
     "metadata": {
      "needs_background": "light"
     },
     "output_type": "display_data"
    }
   ],
   "source": [
    "f, ax = plt.subplots(figsize=(11,9))\n",
    "cmap = sns.diverging_palette(220, 10, as_cmap=True)\n",
    "sns.heatmap(shakes_corr, mask=mask, cmap=cmap, vmax=.3, center=0,\n",
    "            square=True, linewidths=.5, cbar_kws={\"shrink\": .5})"
   ]
  },
  {
   "cell_type": "code",
   "execution_count": 18,
   "metadata": {},
   "outputs": [],
   "source": [
    "# At this point, plotting a correlation graph is not useful at all, I need to fix the data more\n",
    "# Some ideas that I have are to get the PlayerLine length for a column and also the amount of words in each line.\n",
    "# Also to perform some sort of oneshot enconding in the Play column\n",
    "# I still need to come up with ways how to take advantage of the PlayerLineNumber and the ActSceneLineNumber columns\n",
    "# Maybe some sentiment analysis on the line column would help a lot\n",
    "# If there would be a way to extract special words each character uses, that would help a ton more, I need to figure out if I can do this"
   ]
  },
  {
   "cell_type": "code",
   "execution_count": 19,
   "metadata": {},
   "outputs": [
    {
     "data": {
      "text/html": [
       "<div>\n",
       "<style scoped>\n",
       "    .dataframe tbody tr th:only-of-type {\n",
       "        vertical-align: middle;\n",
       "    }\n",
       "\n",
       "    .dataframe tbody tr th {\n",
       "        vertical-align: top;\n",
       "    }\n",
       "\n",
       "    .dataframe thead th {\n",
       "        text-align: right;\n",
       "    }\n",
       "</style>\n",
       "<table border=\"1\" class=\"dataframe\">\n",
       "  <thead>\n",
       "    <tr style=\"text-align: right;\">\n",
       "      <th></th>\n",
       "      <th>Dataline</th>\n",
       "      <th>Play</th>\n",
       "      <th>PlayerLinenumber</th>\n",
       "      <th>ActSceneLine</th>\n",
       "      <th>Player</th>\n",
       "      <th>PlayerLine</th>\n",
       "    </tr>\n",
       "  </thead>\n",
       "  <tbody>\n",
       "    <tr>\n",
       "      <th>3</th>\n",
       "      <td>4</td>\n",
       "      <td>Henry IV</td>\n",
       "      <td>1.0</td>\n",
       "      <td>1.1.1</td>\n",
       "      <td>KING HENRY IV</td>\n",
       "      <td>So shaken as we are, so wan with care,</td>\n",
       "    </tr>\n",
       "    <tr>\n",
       "      <th>4</th>\n",
       "      <td>5</td>\n",
       "      <td>Henry IV</td>\n",
       "      <td>1.0</td>\n",
       "      <td>1.1.2</td>\n",
       "      <td>KING HENRY IV</td>\n",
       "      <td>Find we a time for frighted peace to pant,</td>\n",
       "    </tr>\n",
       "    <tr>\n",
       "      <th>5</th>\n",
       "      <td>6</td>\n",
       "      <td>Henry IV</td>\n",
       "      <td>1.0</td>\n",
       "      <td>1.1.3</td>\n",
       "      <td>KING HENRY IV</td>\n",
       "      <td>And breathe short-winded accents of new broils</td>\n",
       "    </tr>\n",
       "    <tr>\n",
       "      <th>6</th>\n",
       "      <td>7</td>\n",
       "      <td>Henry IV</td>\n",
       "      <td>1.0</td>\n",
       "      <td>1.1.4</td>\n",
       "      <td>KING HENRY IV</td>\n",
       "      <td>To be commenced in strands afar remote.</td>\n",
       "    </tr>\n",
       "    <tr>\n",
       "      <th>7</th>\n",
       "      <td>8</td>\n",
       "      <td>Henry IV</td>\n",
       "      <td>1.0</td>\n",
       "      <td>1.1.5</td>\n",
       "      <td>KING HENRY IV</td>\n",
       "      <td>No more the thirsty entrance of this soil</td>\n",
       "    </tr>\n",
       "    <tr>\n",
       "      <th>8</th>\n",
       "      <td>9</td>\n",
       "      <td>Henry IV</td>\n",
       "      <td>1.0</td>\n",
       "      <td>1.1.6</td>\n",
       "      <td>KING HENRY IV</td>\n",
       "      <td>Shall daub her lips with her own children's bl...</td>\n",
       "    </tr>\n",
       "    <tr>\n",
       "      <th>9</th>\n",
       "      <td>10</td>\n",
       "      <td>Henry IV</td>\n",
       "      <td>1.0</td>\n",
       "      <td>1.1.7</td>\n",
       "      <td>KING HENRY IV</td>\n",
       "      <td>Nor more shall trenching war channel her fields,</td>\n",
       "    </tr>\n",
       "    <tr>\n",
       "      <th>10</th>\n",
       "      <td>11</td>\n",
       "      <td>Henry IV</td>\n",
       "      <td>1.0</td>\n",
       "      <td>1.1.8</td>\n",
       "      <td>KING HENRY IV</td>\n",
       "      <td>Nor bruise her flowerets with the armed hoofs</td>\n",
       "    </tr>\n",
       "    <tr>\n",
       "      <th>11</th>\n",
       "      <td>12</td>\n",
       "      <td>Henry IV</td>\n",
       "      <td>1.0</td>\n",
       "      <td>1.1.9</td>\n",
       "      <td>KING HENRY IV</td>\n",
       "      <td>Of hostile paces: those opposed eyes,</td>\n",
       "    </tr>\n",
       "    <tr>\n",
       "      <th>12</th>\n",
       "      <td>13</td>\n",
       "      <td>Henry IV</td>\n",
       "      <td>1.0</td>\n",
       "      <td>1.1.10</td>\n",
       "      <td>KING HENRY IV</td>\n",
       "      <td>Which, like the meteors of a troubled heaven,</td>\n",
       "    </tr>\n",
       "  </tbody>\n",
       "</table>\n",
       "</div>"
      ],
      "text/plain": [
       "    Dataline      Play  PlayerLinenumber ActSceneLine         Player  \\\n",
       "3          4  Henry IV               1.0        1.1.1  KING HENRY IV   \n",
       "4          5  Henry IV               1.0        1.1.2  KING HENRY IV   \n",
       "5          6  Henry IV               1.0        1.1.3  KING HENRY IV   \n",
       "6          7  Henry IV               1.0        1.1.4  KING HENRY IV   \n",
       "7          8  Henry IV               1.0        1.1.5  KING HENRY IV   \n",
       "8          9  Henry IV               1.0        1.1.6  KING HENRY IV   \n",
       "9         10  Henry IV               1.0        1.1.7  KING HENRY IV   \n",
       "10        11  Henry IV               1.0        1.1.8  KING HENRY IV   \n",
       "11        12  Henry IV               1.0        1.1.9  KING HENRY IV   \n",
       "12        13  Henry IV               1.0       1.1.10  KING HENRY IV   \n",
       "\n",
       "                                           PlayerLine  \n",
       "3              So shaken as we are, so wan with care,  \n",
       "4          Find we a time for frighted peace to pant,  \n",
       "5      And breathe short-winded accents of new broils  \n",
       "6             To be commenced in strands afar remote.  \n",
       "7           No more the thirsty entrance of this soil  \n",
       "8   Shall daub her lips with her own children's bl...  \n",
       "9    Nor more shall trenching war channel her fields,  \n",
       "10      Nor bruise her flowerets with the armed hoofs  \n",
       "11              Of hostile paces: those opposed eyes,  \n",
       "12      Which, like the meteors of a troubled heaven,  "
      ]
     },
     "execution_count": 19,
     "metadata": {},
     "output_type": "execute_result"
    }
   ],
   "source": [
    "shakes_df.head(10)"
   ]
  },
  {
   "cell_type": "code",
   "execution_count": 20,
   "metadata": {},
   "outputs": [],
   "source": [
    "# I will remove the Dataline column since it provides no meaningful information"
   ]
  },
  {
   "cell_type": "code",
   "execution_count": 21,
   "metadata": {},
   "outputs": [],
   "source": [
    "shakes_df.drop(columns=['Dataline'], inplace=True)"
   ]
  },
  {
   "cell_type": "code",
   "execution_count": 22,
   "metadata": {},
   "outputs": [
    {
     "data": {
      "text/html": [
       "<div>\n",
       "<style scoped>\n",
       "    .dataframe tbody tr th:only-of-type {\n",
       "        vertical-align: middle;\n",
       "    }\n",
       "\n",
       "    .dataframe tbody tr th {\n",
       "        vertical-align: top;\n",
       "    }\n",
       "\n",
       "    .dataframe thead th {\n",
       "        text-align: right;\n",
       "    }\n",
       "</style>\n",
       "<table border=\"1\" class=\"dataframe\">\n",
       "  <thead>\n",
       "    <tr style=\"text-align: right;\">\n",
       "      <th></th>\n",
       "      <th>Play</th>\n",
       "      <th>PlayerLinenumber</th>\n",
       "      <th>ActSceneLine</th>\n",
       "      <th>Player</th>\n",
       "      <th>PlayerLine</th>\n",
       "    </tr>\n",
       "  </thead>\n",
       "  <tbody>\n",
       "    <tr>\n",
       "      <th>3</th>\n",
       "      <td>Henry IV</td>\n",
       "      <td>1.0</td>\n",
       "      <td>1.1.1</td>\n",
       "      <td>KING HENRY IV</td>\n",
       "      <td>So shaken as we are, so wan with care,</td>\n",
       "    </tr>\n",
       "    <tr>\n",
       "      <th>4</th>\n",
       "      <td>Henry IV</td>\n",
       "      <td>1.0</td>\n",
       "      <td>1.1.2</td>\n",
       "      <td>KING HENRY IV</td>\n",
       "      <td>Find we a time for frighted peace to pant,</td>\n",
       "    </tr>\n",
       "    <tr>\n",
       "      <th>5</th>\n",
       "      <td>Henry IV</td>\n",
       "      <td>1.0</td>\n",
       "      <td>1.1.3</td>\n",
       "      <td>KING HENRY IV</td>\n",
       "      <td>And breathe short-winded accents of new broils</td>\n",
       "    </tr>\n",
       "    <tr>\n",
       "      <th>6</th>\n",
       "      <td>Henry IV</td>\n",
       "      <td>1.0</td>\n",
       "      <td>1.1.4</td>\n",
       "      <td>KING HENRY IV</td>\n",
       "      <td>To be commenced in strands afar remote.</td>\n",
       "    </tr>\n",
       "    <tr>\n",
       "      <th>7</th>\n",
       "      <td>Henry IV</td>\n",
       "      <td>1.0</td>\n",
       "      <td>1.1.5</td>\n",
       "      <td>KING HENRY IV</td>\n",
       "      <td>No more the thirsty entrance of this soil</td>\n",
       "    </tr>\n",
       "  </tbody>\n",
       "</table>\n",
       "</div>"
      ],
      "text/plain": [
       "       Play  PlayerLinenumber ActSceneLine         Player  \\\n",
       "3  Henry IV               1.0        1.1.1  KING HENRY IV   \n",
       "4  Henry IV               1.0        1.1.2  KING HENRY IV   \n",
       "5  Henry IV               1.0        1.1.3  KING HENRY IV   \n",
       "6  Henry IV               1.0        1.1.4  KING HENRY IV   \n",
       "7  Henry IV               1.0        1.1.5  KING HENRY IV   \n",
       "\n",
       "                                       PlayerLine  \n",
       "3          So shaken as we are, so wan with care,  \n",
       "4      Find we a time for frighted peace to pant,  \n",
       "5  And breathe short-winded accents of new broils  \n",
       "6         To be commenced in strands afar remote.  \n",
       "7       No more the thirsty entrance of this soil  "
      ]
     },
     "execution_count": 22,
     "metadata": {},
     "output_type": "execute_result"
    }
   ],
   "source": [
    "shakes_df.head()"
   ]
  },
  {
   "cell_type": "code",
   "execution_count": 23,
   "metadata": {},
   "outputs": [],
   "source": [
    "shakes_df.reset_index(drop=True, inplace=True)"
   ]
  },
  {
   "cell_type": "code",
   "execution_count": 24,
   "metadata": {},
   "outputs": [],
   "source": [
    "# After resetting the index I want to add a column that contains the length of each PlayerLine"
   ]
  },
  {
   "cell_type": "code",
   "execution_count": 25,
   "metadata": {},
   "outputs": [
    {
     "data": {
      "text/html": [
       "<div>\n",
       "<style scoped>\n",
       "    .dataframe tbody tr th:only-of-type {\n",
       "        vertical-align: middle;\n",
       "    }\n",
       "\n",
       "    .dataframe tbody tr th {\n",
       "        vertical-align: top;\n",
       "    }\n",
       "\n",
       "    .dataframe thead th {\n",
       "        text-align: right;\n",
       "    }\n",
       "</style>\n",
       "<table border=\"1\" class=\"dataframe\">\n",
       "  <thead>\n",
       "    <tr style=\"text-align: right;\">\n",
       "      <th></th>\n",
       "      <th>Play</th>\n",
       "      <th>PlayerLinenumber</th>\n",
       "      <th>ActSceneLine</th>\n",
       "      <th>Player</th>\n",
       "      <th>PlayerLine</th>\n",
       "    </tr>\n",
       "  </thead>\n",
       "  <tbody>\n",
       "    <tr>\n",
       "      <th>0</th>\n",
       "      <td>Henry IV</td>\n",
       "      <td>1.0</td>\n",
       "      <td>1.1.1</td>\n",
       "      <td>KING HENRY IV</td>\n",
       "      <td>So shaken as we are, so wan with care,</td>\n",
       "    </tr>\n",
       "    <tr>\n",
       "      <th>1</th>\n",
       "      <td>Henry IV</td>\n",
       "      <td>1.0</td>\n",
       "      <td>1.1.2</td>\n",
       "      <td>KING HENRY IV</td>\n",
       "      <td>Find we a time for frighted peace to pant,</td>\n",
       "    </tr>\n",
       "    <tr>\n",
       "      <th>2</th>\n",
       "      <td>Henry IV</td>\n",
       "      <td>1.0</td>\n",
       "      <td>1.1.3</td>\n",
       "      <td>KING HENRY IV</td>\n",
       "      <td>And breathe short-winded accents of new broils</td>\n",
       "    </tr>\n",
       "    <tr>\n",
       "      <th>3</th>\n",
       "      <td>Henry IV</td>\n",
       "      <td>1.0</td>\n",
       "      <td>1.1.4</td>\n",
       "      <td>KING HENRY IV</td>\n",
       "      <td>To be commenced in strands afar remote.</td>\n",
       "    </tr>\n",
       "    <tr>\n",
       "      <th>4</th>\n",
       "      <td>Henry IV</td>\n",
       "      <td>1.0</td>\n",
       "      <td>1.1.5</td>\n",
       "      <td>KING HENRY IV</td>\n",
       "      <td>No more the thirsty entrance of this soil</td>\n",
       "    </tr>\n",
       "  </tbody>\n",
       "</table>\n",
       "</div>"
      ],
      "text/plain": [
       "       Play  PlayerLinenumber ActSceneLine         Player  \\\n",
       "0  Henry IV               1.0        1.1.1  KING HENRY IV   \n",
       "1  Henry IV               1.0        1.1.2  KING HENRY IV   \n",
       "2  Henry IV               1.0        1.1.3  KING HENRY IV   \n",
       "3  Henry IV               1.0        1.1.4  KING HENRY IV   \n",
       "4  Henry IV               1.0        1.1.5  KING HENRY IV   \n",
       "\n",
       "                                       PlayerLine  \n",
       "0          So shaken as we are, so wan with care,  \n",
       "1      Find we a time for frighted peace to pant,  \n",
       "2  And breathe short-winded accents of new broils  \n",
       "3         To be commenced in strands afar remote.  \n",
       "4       No more the thirsty entrance of this soil  "
      ]
     },
     "execution_count": 25,
     "metadata": {},
     "output_type": "execute_result"
    }
   ],
   "source": [
    "shakes_df.head()"
   ]
  },
  {
   "cell_type": "code",
   "execution_count": 26,
   "metadata": {},
   "outputs": [],
   "source": [
    "shakes_df['LineLength'] = shakes_df.PlayerLine.apply(len)"
   ]
  },
  {
   "cell_type": "code",
   "execution_count": 27,
   "metadata": {},
   "outputs": [
    {
     "data": {
      "text/html": [
       "<div>\n",
       "<style scoped>\n",
       "    .dataframe tbody tr th:only-of-type {\n",
       "        vertical-align: middle;\n",
       "    }\n",
       "\n",
       "    .dataframe tbody tr th {\n",
       "        vertical-align: top;\n",
       "    }\n",
       "\n",
       "    .dataframe thead th {\n",
       "        text-align: right;\n",
       "    }\n",
       "</style>\n",
       "<table border=\"1\" class=\"dataframe\">\n",
       "  <thead>\n",
       "    <tr style=\"text-align: right;\">\n",
       "      <th></th>\n",
       "      <th>Play</th>\n",
       "      <th>PlayerLinenumber</th>\n",
       "      <th>ActSceneLine</th>\n",
       "      <th>Player</th>\n",
       "      <th>PlayerLine</th>\n",
       "      <th>LineLength</th>\n",
       "    </tr>\n",
       "  </thead>\n",
       "  <tbody>\n",
       "    <tr>\n",
       "      <th>0</th>\n",
       "      <td>Henry IV</td>\n",
       "      <td>1.0</td>\n",
       "      <td>1.1.1</td>\n",
       "      <td>KING HENRY IV</td>\n",
       "      <td>So shaken as we are, so wan with care,</td>\n",
       "      <td>38</td>\n",
       "    </tr>\n",
       "    <tr>\n",
       "      <th>1</th>\n",
       "      <td>Henry IV</td>\n",
       "      <td>1.0</td>\n",
       "      <td>1.1.2</td>\n",
       "      <td>KING HENRY IV</td>\n",
       "      <td>Find we a time for frighted peace to pant,</td>\n",
       "      <td>42</td>\n",
       "    </tr>\n",
       "    <tr>\n",
       "      <th>2</th>\n",
       "      <td>Henry IV</td>\n",
       "      <td>1.0</td>\n",
       "      <td>1.1.3</td>\n",
       "      <td>KING HENRY IV</td>\n",
       "      <td>And breathe short-winded accents of new broils</td>\n",
       "      <td>46</td>\n",
       "    </tr>\n",
       "    <tr>\n",
       "      <th>3</th>\n",
       "      <td>Henry IV</td>\n",
       "      <td>1.0</td>\n",
       "      <td>1.1.4</td>\n",
       "      <td>KING HENRY IV</td>\n",
       "      <td>To be commenced in strands afar remote.</td>\n",
       "      <td>39</td>\n",
       "    </tr>\n",
       "    <tr>\n",
       "      <th>4</th>\n",
       "      <td>Henry IV</td>\n",
       "      <td>1.0</td>\n",
       "      <td>1.1.5</td>\n",
       "      <td>KING HENRY IV</td>\n",
       "      <td>No more the thirsty entrance of this soil</td>\n",
       "      <td>41</td>\n",
       "    </tr>\n",
       "  </tbody>\n",
       "</table>\n",
       "</div>"
      ],
      "text/plain": [
       "       Play  PlayerLinenumber ActSceneLine         Player  \\\n",
       "0  Henry IV               1.0        1.1.1  KING HENRY IV   \n",
       "1  Henry IV               1.0        1.1.2  KING HENRY IV   \n",
       "2  Henry IV               1.0        1.1.3  KING HENRY IV   \n",
       "3  Henry IV               1.0        1.1.4  KING HENRY IV   \n",
       "4  Henry IV               1.0        1.1.5  KING HENRY IV   \n",
       "\n",
       "                                       PlayerLine  LineLength  \n",
       "0          So shaken as we are, so wan with care,          38  \n",
       "1      Find we a time for frighted peace to pant,          42  \n",
       "2  And breathe short-winded accents of new broils          46  \n",
       "3         To be commenced in strands afar remote.          39  \n",
       "4       No more the thirsty entrance of this soil          41  "
      ]
     },
     "execution_count": 27,
     "metadata": {},
     "output_type": "execute_result"
    }
   ],
   "source": [
    "# I will review what the dataframe looks like after performing the operation\n",
    "shakes_df.head()"
   ]
  },
  {
   "cell_type": "code",
   "execution_count": 28,
   "metadata": {},
   "outputs": [
    {
     "data": {
      "text/plain": [
       "Play                 object\n",
       "PlayerLinenumber    float64\n",
       "ActSceneLine         object\n",
       "Player               object\n",
       "PlayerLine           object\n",
       "LineLength            int64\n",
       "dtype: object"
      ]
     },
     "execution_count": 28,
     "metadata": {},
     "output_type": "execute_result"
    }
   ],
   "source": [
    "shakes_df.dtypes"
   ]
  },
  {
   "cell_type": "code",
   "execution_count": 29,
   "metadata": {},
   "outputs": [
    {
     "data": {
      "text/plain": [
       "array([  1.,   2.,   3.,   4.,   5.,   6.,   7.,   8.,   9.,  10.,  11.,\n",
       "        12.,  13.,  14.,  15.,  16.,  17.,  18.,  19.,  20.,  21.,  22.,\n",
       "        23.,  24.,  25.,  26.,  27.,  28.,  29.,  30.,  31.,  32.,  33.,\n",
       "        34.,  35.,  36.,  37.,  38.,  39.,  40.,  41.,  42.,  43.,  44.,\n",
       "        45.,  46.,  47.,  48.,  49.,  50.,  51.,  52.,  53.,  54.,  55.,\n",
       "        56.,  57.,  58.,  59.,  60.,  61.,  62.,  63.,  64.,  65.,  66.,\n",
       "        67.,  68.,  69.,  70.,  71.,  72.,  73.,  74.,  75.,  76.,  77.,\n",
       "        78.,  79.,  80.,  81.,  82.,  83.,  84.,  85.,  86.,  87.,  88.,\n",
       "        89.,  90.,  91.,  92.,  93.,  94.,  95.,  96.,  97.,  98.,  99.,\n",
       "       100., 101., 102., 103., 104., 105., 106., 107., 108., 109., 110.,\n",
       "       111., 112., 113., 114., 115., 116., 117., 118., 119., 120., 121.,\n",
       "       122., 123., 124., 125., 126., 127., 128., 129., 130., 131., 132.,\n",
       "       133., 134., 135., 136., 137., 138., 139., 140., 141., 142., 143.,\n",
       "       144., 145., 146., 147., 148., 149., 150., 151., 152., 153., 154.,\n",
       "       155., 156., 157., 158., 159., 160., 161., 162., 163., 164., 165.,\n",
       "       166., 167., 168., 169., 170., 171., 172., 173., 174., 175., 176.,\n",
       "       177., 178., 179., 180., 181., 182., 183., 184., 185., 186., 187.,\n",
       "       188., 189., 190., 191., 192., 193., 194., 195., 196., 197., 198.,\n",
       "       199., 200., 201., 202., 203., 204., 205., 206., 207., 208., 209.,\n",
       "       210., 211., 212., 213., 214., 215., 216., 217., 218., 219., 220.,\n",
       "       221., 222., 223., 224., 225., 226., 227., 228., 229., 230., 231.,\n",
       "       232., 233., 234., 235., 236., 237., 238., 239., 240., 241., 242.,\n",
       "       243., 244., 245., 246., 247., 248., 249., 250., 251., 252., 253.,\n",
       "       254., 255., 256., 257., 258., 259., 260., 261., 262., 263., 264.,\n",
       "       265., 266., 267., 268., 269., 270., 271., 272., 273., 274., 275.,\n",
       "       276., 277., 278., 279., 280., 281., 282., 283., 284., 285., 286.,\n",
       "       287., 288., 289., 290., 291., 292., 293., 294., 295., 296., 297.,\n",
       "       298., 299., 300., 301., 302., 303., 304., 305., 306., 307., 308.,\n",
       "       309., 310., 311., 312., 313., 314., 315., 316., 317., 318., 319.,\n",
       "       320., 321., 322., 323., 324., 325., 326., 327., 328., 329., 330.,\n",
       "       331., 332., 333., 334., 335., 336., 337., 338., 339., 340., 341.,\n",
       "       342., 343., 344., 345., 346., 347., 348., 349., 350., 351., 352.,\n",
       "       353., 354., 355., 356., 357., 358., 359., 360., 361., 362., 363.,\n",
       "       364., 365., 366., 367., 368., 369., 370., 371., 372., 373., 374.,\n",
       "       375., 376., 377., 378., 379., 380., 381., 382., 383., 384., 385.,\n",
       "       386., 387., 388., 389., 390., 391., 392., 393., 394., 395., 396.,\n",
       "       397., 398., 399., 400., 401., 402., 403., 404., 405.])"
      ]
     },
     "execution_count": 29,
     "metadata": {},
     "output_type": "execute_result"
    }
   ],
   "source": [
    "# What unique values are there in PlayerLinenumber?\n",
    "shakes_df.PlayerLinenumber.unique()"
   ]
  },
  {
   "cell_type": "code",
   "execution_count": 30,
   "metadata": {},
   "outputs": [],
   "source": [
    "# All of the unique values in PlayerLinenumber are integers that are in str form\n",
    "# Therefore, I will cast them to int form\n",
    "shakes_df.PlayerLinenumber = shakes_df.PlayerLinenumber.apply(int)"
   ]
  },
  {
   "cell_type": "code",
   "execution_count": 31,
   "metadata": {},
   "outputs": [
    {
     "data": {
      "text/html": [
       "<div>\n",
       "<style scoped>\n",
       "    .dataframe tbody tr th:only-of-type {\n",
       "        vertical-align: middle;\n",
       "    }\n",
       "\n",
       "    .dataframe tbody tr th {\n",
       "        vertical-align: top;\n",
       "    }\n",
       "\n",
       "    .dataframe thead th {\n",
       "        text-align: right;\n",
       "    }\n",
       "</style>\n",
       "<table border=\"1\" class=\"dataframe\">\n",
       "  <thead>\n",
       "    <tr style=\"text-align: right;\">\n",
       "      <th></th>\n",
       "      <th>Play</th>\n",
       "      <th>PlayerLinenumber</th>\n",
       "      <th>ActSceneLine</th>\n",
       "      <th>Player</th>\n",
       "      <th>PlayerLine</th>\n",
       "      <th>LineLength</th>\n",
       "    </tr>\n",
       "  </thead>\n",
       "  <tbody>\n",
       "    <tr>\n",
       "      <th>0</th>\n",
       "      <td>Henry IV</td>\n",
       "      <td>1</td>\n",
       "      <td>1.1.1</td>\n",
       "      <td>KING HENRY IV</td>\n",
       "      <td>So shaken as we are, so wan with care,</td>\n",
       "      <td>38</td>\n",
       "    </tr>\n",
       "    <tr>\n",
       "      <th>1</th>\n",
       "      <td>Henry IV</td>\n",
       "      <td>1</td>\n",
       "      <td>1.1.2</td>\n",
       "      <td>KING HENRY IV</td>\n",
       "      <td>Find we a time for frighted peace to pant,</td>\n",
       "      <td>42</td>\n",
       "    </tr>\n",
       "    <tr>\n",
       "      <th>2</th>\n",
       "      <td>Henry IV</td>\n",
       "      <td>1</td>\n",
       "      <td>1.1.3</td>\n",
       "      <td>KING HENRY IV</td>\n",
       "      <td>And breathe short-winded accents of new broils</td>\n",
       "      <td>46</td>\n",
       "    </tr>\n",
       "    <tr>\n",
       "      <th>3</th>\n",
       "      <td>Henry IV</td>\n",
       "      <td>1</td>\n",
       "      <td>1.1.4</td>\n",
       "      <td>KING HENRY IV</td>\n",
       "      <td>To be commenced in strands afar remote.</td>\n",
       "      <td>39</td>\n",
       "    </tr>\n",
       "    <tr>\n",
       "      <th>4</th>\n",
       "      <td>Henry IV</td>\n",
       "      <td>1</td>\n",
       "      <td>1.1.5</td>\n",
       "      <td>KING HENRY IV</td>\n",
       "      <td>No more the thirsty entrance of this soil</td>\n",
       "      <td>41</td>\n",
       "    </tr>\n",
       "  </tbody>\n",
       "</table>\n",
       "</div>"
      ],
      "text/plain": [
       "       Play  PlayerLinenumber ActSceneLine         Player  \\\n",
       "0  Henry IV                 1        1.1.1  KING HENRY IV   \n",
       "1  Henry IV                 1        1.1.2  KING HENRY IV   \n",
       "2  Henry IV                 1        1.1.3  KING HENRY IV   \n",
       "3  Henry IV                 1        1.1.4  KING HENRY IV   \n",
       "4  Henry IV                 1        1.1.5  KING HENRY IV   \n",
       "\n",
       "                                       PlayerLine  LineLength  \n",
       "0          So shaken as we are, so wan with care,          38  \n",
       "1      Find we a time for frighted peace to pant,          42  \n",
       "2  And breathe short-winded accents of new broils          46  \n",
       "3         To be commenced in strands afar remote.          39  \n",
       "4       No more the thirsty entrance of this soil          41  "
      ]
     },
     "execution_count": 31,
     "metadata": {},
     "output_type": "execute_result"
    }
   ],
   "source": [
    "shakes_df.head()"
   ]
  },
  {
   "cell_type": "code",
   "execution_count": 32,
   "metadata": {},
   "outputs": [],
   "source": [
    "# I want to create a new column that holds the sentiment of each row in the PlayerLine\n",
    "\n",
    "import nltk"
   ]
  },
  {
   "cell_type": "code",
   "execution_count": 33,
   "metadata": {},
   "outputs": [],
   "source": [
    "sentence = 'So shaken as we are, so wan with care,'"
   ]
  },
  {
   "cell_type": "code",
   "execution_count": 34,
   "metadata": {},
   "outputs": [],
   "source": [
    "tokens = nltk.word_tokenize(sentence)"
   ]
  },
  {
   "cell_type": "code",
   "execution_count": 35,
   "metadata": {},
   "outputs": [
    {
     "data": {
      "text/plain": [
       "['So', 'shaken', 'as', 'we', 'are', ',', 'so', 'wan', 'with', 'care', ',']"
      ]
     },
     "execution_count": 35,
     "metadata": {},
     "output_type": "execute_result"
    }
   ],
   "source": [
    "tokens"
   ]
  },
  {
   "cell_type": "code",
   "execution_count": 36,
   "metadata": {},
   "outputs": [],
   "source": [
    "# We can use work_tokenize function from nltk to count the amount of words that each character has\n",
    "# I think that the amount of word each character has should make a difference"
   ]
  },
  {
   "cell_type": "code",
   "execution_count": 37,
   "metadata": {},
   "outputs": [
    {
     "data": {
      "text/plain": [
       "11"
      ]
     },
     "execution_count": 37,
     "metadata": {},
     "output_type": "execute_result"
    }
   ],
   "source": [
    "len(tokens)"
   ]
  },
  {
   "cell_type": "code",
   "execution_count": 38,
   "metadata": {},
   "outputs": [],
   "source": [
    "shakes_df['WordCount'] = shakes_df.PlayerLine.apply(nltk.word_tokenize).apply(len)"
   ]
  },
  {
   "cell_type": "code",
   "execution_count": 39,
   "metadata": {},
   "outputs": [
    {
     "data": {
      "text/html": [
       "<div>\n",
       "<style scoped>\n",
       "    .dataframe tbody tr th:only-of-type {\n",
       "        vertical-align: middle;\n",
       "    }\n",
       "\n",
       "    .dataframe tbody tr th {\n",
       "        vertical-align: top;\n",
       "    }\n",
       "\n",
       "    .dataframe thead th {\n",
       "        text-align: right;\n",
       "    }\n",
       "</style>\n",
       "<table border=\"1\" class=\"dataframe\">\n",
       "  <thead>\n",
       "    <tr style=\"text-align: right;\">\n",
       "      <th></th>\n",
       "      <th>Play</th>\n",
       "      <th>PlayerLinenumber</th>\n",
       "      <th>ActSceneLine</th>\n",
       "      <th>Player</th>\n",
       "      <th>PlayerLine</th>\n",
       "      <th>LineLength</th>\n",
       "      <th>WordCount</th>\n",
       "    </tr>\n",
       "  </thead>\n",
       "  <tbody>\n",
       "    <tr>\n",
       "      <th>0</th>\n",
       "      <td>Henry IV</td>\n",
       "      <td>1</td>\n",
       "      <td>1.1.1</td>\n",
       "      <td>KING HENRY IV</td>\n",
       "      <td>So shaken as we are, so wan with care,</td>\n",
       "      <td>38</td>\n",
       "      <td>11</td>\n",
       "    </tr>\n",
       "    <tr>\n",
       "      <th>1</th>\n",
       "      <td>Henry IV</td>\n",
       "      <td>1</td>\n",
       "      <td>1.1.2</td>\n",
       "      <td>KING HENRY IV</td>\n",
       "      <td>Find we a time for frighted peace to pant,</td>\n",
       "      <td>42</td>\n",
       "      <td>10</td>\n",
       "    </tr>\n",
       "    <tr>\n",
       "      <th>2</th>\n",
       "      <td>Henry IV</td>\n",
       "      <td>1</td>\n",
       "      <td>1.1.3</td>\n",
       "      <td>KING HENRY IV</td>\n",
       "      <td>And breathe short-winded accents of new broils</td>\n",
       "      <td>46</td>\n",
       "      <td>7</td>\n",
       "    </tr>\n",
       "    <tr>\n",
       "      <th>3</th>\n",
       "      <td>Henry IV</td>\n",
       "      <td>1</td>\n",
       "      <td>1.1.4</td>\n",
       "      <td>KING HENRY IV</td>\n",
       "      <td>To be commenced in strands afar remote.</td>\n",
       "      <td>39</td>\n",
       "      <td>8</td>\n",
       "    </tr>\n",
       "    <tr>\n",
       "      <th>4</th>\n",
       "      <td>Henry IV</td>\n",
       "      <td>1</td>\n",
       "      <td>1.1.5</td>\n",
       "      <td>KING HENRY IV</td>\n",
       "      <td>No more the thirsty entrance of this soil</td>\n",
       "      <td>41</td>\n",
       "      <td>8</td>\n",
       "    </tr>\n",
       "  </tbody>\n",
       "</table>\n",
       "</div>"
      ],
      "text/plain": [
       "       Play  PlayerLinenumber ActSceneLine         Player  \\\n",
       "0  Henry IV                 1        1.1.1  KING HENRY IV   \n",
       "1  Henry IV                 1        1.1.2  KING HENRY IV   \n",
       "2  Henry IV                 1        1.1.3  KING HENRY IV   \n",
       "3  Henry IV                 1        1.1.4  KING HENRY IV   \n",
       "4  Henry IV                 1        1.1.5  KING HENRY IV   \n",
       "\n",
       "                                       PlayerLine  LineLength  WordCount  \n",
       "0          So shaken as we are, so wan with care,          38         11  \n",
       "1      Find we a time for frighted peace to pant,          42         10  \n",
       "2  And breathe short-winded accents of new broils          46          7  \n",
       "3         To be commenced in strands afar remote.          39          8  \n",
       "4       No more the thirsty entrance of this soil          41          8  "
      ]
     },
     "execution_count": 39,
     "metadata": {},
     "output_type": "execute_result"
    }
   ],
   "source": [
    "shakes_df.head()"
   ]
  },
  {
   "cell_type": "code",
   "execution_count": 40,
   "metadata": {},
   "outputs": [],
   "source": [
    "# Ok, this looks good. Now I want to analyze the sentiment of each line.\n",
    "# I will analyze it into three categories: positive, negative and neutral."
   ]
  },
  {
   "cell_type": "code",
   "execution_count": 41,
   "metadata": {},
   "outputs": [],
   "source": [
    "from nltk.sentiment.vader import SentimentIntensityAnalyzer as SIA\n",
    "\n",
    "sia = SIA()"
   ]
  },
  {
   "cell_type": "code",
   "execution_count": 42,
   "metadata": {},
   "outputs": [
    {
     "data": {
      "text/plain": [
       "{'neg': 0.239, 'neu': 0.761, 'pos': 0.0, 'compound': -0.296}"
      ]
     },
     "execution_count": 42,
     "metadata": {},
     "output_type": "execute_result"
    }
   ],
   "source": [
    "sia.polarity_scores('No more the thirsty entrance of this soil')"
   ]
  },
  {
   "cell_type": "code",
   "execution_count": 43,
   "metadata": {},
   "outputs": [],
   "source": [
    "# With a similar strategy I can attempt to get the sentiment analysis of each line"
   ]
  },
  {
   "cell_type": "code",
   "execution_count": 44,
   "metadata": {},
   "outputs": [],
   "source": [
    "sa_results = shakes_df.PlayerLine.apply(sia.polarity_scores)"
   ]
  },
  {
   "cell_type": "code",
   "execution_count": 45,
   "metadata": {},
   "outputs": [
    {
     "data": {
      "text/plain": [
       "0    {'neg': 0.132, 'neu': 0.581, 'pos': 0.287, 'co...\n",
       "1    {'neg': 0.202, 'neu': 0.504, 'pos': 0.294, 'co...\n",
       "2    {'neg': 0.0, 'neu': 1.0, 'pos': 0.0, 'compound...\n",
       "3    {'neg': 0.0, 'neu': 1.0, 'pos': 0.0, 'compound...\n",
       "4    {'neg': 0.239, 'neu': 0.761, 'pos': 0.0, 'comp...\n",
       "Name: PlayerLine, dtype: object"
      ]
     },
     "execution_count": 45,
     "metadata": {},
     "output_type": "execute_result"
    }
   ],
   "source": [
    "sa_results.head()"
   ]
  },
  {
   "cell_type": "code",
   "execution_count": 46,
   "metadata": {},
   "outputs": [
    {
     "data": {
      "text/plain": [
       "0.132"
      ]
     },
     "execution_count": 46,
     "metadata": {},
     "output_type": "execute_result"
    }
   ],
   "source": [
    "sa_results[0]['neg']"
   ]
  },
  {
   "cell_type": "code",
   "execution_count": 47,
   "metadata": {},
   "outputs": [],
   "source": [
    "sa_results = pd.DataFrame.from_records(sa_results)"
   ]
  },
  {
   "cell_type": "code",
   "execution_count": 48,
   "metadata": {},
   "outputs": [
    {
     "data": {
      "text/html": [
       "<div>\n",
       "<style scoped>\n",
       "    .dataframe tbody tr th:only-of-type {\n",
       "        vertical-align: middle;\n",
       "    }\n",
       "\n",
       "    .dataframe tbody tr th {\n",
       "        vertical-align: top;\n",
       "    }\n",
       "\n",
       "    .dataframe thead th {\n",
       "        text-align: right;\n",
       "    }\n",
       "</style>\n",
       "<table border=\"1\" class=\"dataframe\">\n",
       "  <thead>\n",
       "    <tr style=\"text-align: right;\">\n",
       "      <th></th>\n",
       "      <th>compound</th>\n",
       "      <th>neg</th>\n",
       "      <th>neu</th>\n",
       "      <th>pos</th>\n",
       "    </tr>\n",
       "  </thead>\n",
       "  <tbody>\n",
       "    <tr>\n",
       "      <th>0</th>\n",
       "      <td>0.4349</td>\n",
       "      <td>0.132</td>\n",
       "      <td>0.581</td>\n",
       "      <td>0.287</td>\n",
       "    </tr>\n",
       "    <tr>\n",
       "      <th>1</th>\n",
       "      <td>0.2732</td>\n",
       "      <td>0.202</td>\n",
       "      <td>0.504</td>\n",
       "      <td>0.294</td>\n",
       "    </tr>\n",
       "    <tr>\n",
       "      <th>2</th>\n",
       "      <td>0.0000</td>\n",
       "      <td>0.000</td>\n",
       "      <td>1.000</td>\n",
       "      <td>0.000</td>\n",
       "    </tr>\n",
       "    <tr>\n",
       "      <th>3</th>\n",
       "      <td>0.0000</td>\n",
       "      <td>0.000</td>\n",
       "      <td>1.000</td>\n",
       "      <td>0.000</td>\n",
       "    </tr>\n",
       "    <tr>\n",
       "      <th>4</th>\n",
       "      <td>-0.2960</td>\n",
       "      <td>0.239</td>\n",
       "      <td>0.761</td>\n",
       "      <td>0.000</td>\n",
       "    </tr>\n",
       "  </tbody>\n",
       "</table>\n",
       "</div>"
      ],
      "text/plain": [
       "   compound    neg    neu    pos\n",
       "0    0.4349  0.132  0.581  0.287\n",
       "1    0.2732  0.202  0.504  0.294\n",
       "2    0.0000  0.000  1.000  0.000\n",
       "3    0.0000  0.000  1.000  0.000\n",
       "4   -0.2960  0.239  0.761  0.000"
      ]
     },
     "execution_count": 48,
     "metadata": {},
     "output_type": "execute_result"
    }
   ],
   "source": [
    "sa_results.head()"
   ]
  },
  {
   "cell_type": "code",
   "execution_count": 49,
   "metadata": {},
   "outputs": [],
   "source": [
    "sa_results['Sentiment'] = 0\n",
    "sa_results.loc[sa_results['compound'] > 0.2, 'Sentiment'] = 1\n",
    "sa_results.loc[sa_results['compound'] < -0.2, 'Sentiment'] = -1"
   ]
  },
  {
   "cell_type": "code",
   "execution_count": 50,
   "metadata": {},
   "outputs": [
    {
     "data": {
      "text/html": [
       "<div>\n",
       "<style scoped>\n",
       "    .dataframe tbody tr th:only-of-type {\n",
       "        vertical-align: middle;\n",
       "    }\n",
       "\n",
       "    .dataframe tbody tr th {\n",
       "        vertical-align: top;\n",
       "    }\n",
       "\n",
       "    .dataframe thead th {\n",
       "        text-align: right;\n",
       "    }\n",
       "</style>\n",
       "<table border=\"1\" class=\"dataframe\">\n",
       "  <thead>\n",
       "    <tr style=\"text-align: right;\">\n",
       "      <th></th>\n",
       "      <th>compound</th>\n",
       "      <th>neg</th>\n",
       "      <th>neu</th>\n",
       "      <th>pos</th>\n",
       "      <th>Sentiment</th>\n",
       "    </tr>\n",
       "  </thead>\n",
       "  <tbody>\n",
       "    <tr>\n",
       "      <th>0</th>\n",
       "      <td>0.4349</td>\n",
       "      <td>0.132</td>\n",
       "      <td>0.581</td>\n",
       "      <td>0.287</td>\n",
       "      <td>1</td>\n",
       "    </tr>\n",
       "    <tr>\n",
       "      <th>1</th>\n",
       "      <td>0.2732</td>\n",
       "      <td>0.202</td>\n",
       "      <td>0.504</td>\n",
       "      <td>0.294</td>\n",
       "      <td>1</td>\n",
       "    </tr>\n",
       "    <tr>\n",
       "      <th>2</th>\n",
       "      <td>0.0000</td>\n",
       "      <td>0.000</td>\n",
       "      <td>1.000</td>\n",
       "      <td>0.000</td>\n",
       "      <td>0</td>\n",
       "    </tr>\n",
       "    <tr>\n",
       "      <th>3</th>\n",
       "      <td>0.0000</td>\n",
       "      <td>0.000</td>\n",
       "      <td>1.000</td>\n",
       "      <td>0.000</td>\n",
       "      <td>0</td>\n",
       "    </tr>\n",
       "    <tr>\n",
       "      <th>4</th>\n",
       "      <td>-0.2960</td>\n",
       "      <td>0.239</td>\n",
       "      <td>0.761</td>\n",
       "      <td>0.000</td>\n",
       "      <td>-1</td>\n",
       "    </tr>\n",
       "  </tbody>\n",
       "</table>\n",
       "</div>"
      ],
      "text/plain": [
       "   compound    neg    neu    pos  Sentiment\n",
       "0    0.4349  0.132  0.581  0.287          1\n",
       "1    0.2732  0.202  0.504  0.294          1\n",
       "2    0.0000  0.000  1.000  0.000          0\n",
       "3    0.0000  0.000  1.000  0.000          0\n",
       "4   -0.2960  0.239  0.761  0.000         -1"
      ]
     },
     "execution_count": 50,
     "metadata": {},
     "output_type": "execute_result"
    }
   ],
   "source": [
    "sa_results.head()"
   ]
  },
  {
   "cell_type": "code",
   "execution_count": 51,
   "metadata": {},
   "outputs": [],
   "source": [
    "shakes_df['LineSent'] = sa_results.Sentiment.copy()"
   ]
  },
  {
   "cell_type": "code",
   "execution_count": 52,
   "metadata": {},
   "outputs": [
    {
     "data": {
      "text/html": [
       "<div>\n",
       "<style scoped>\n",
       "    .dataframe tbody tr th:only-of-type {\n",
       "        vertical-align: middle;\n",
       "    }\n",
       "\n",
       "    .dataframe tbody tr th {\n",
       "        vertical-align: top;\n",
       "    }\n",
       "\n",
       "    .dataframe thead th {\n",
       "        text-align: right;\n",
       "    }\n",
       "</style>\n",
       "<table border=\"1\" class=\"dataframe\">\n",
       "  <thead>\n",
       "    <tr style=\"text-align: right;\">\n",
       "      <th></th>\n",
       "      <th>Play</th>\n",
       "      <th>PlayerLinenumber</th>\n",
       "      <th>ActSceneLine</th>\n",
       "      <th>Player</th>\n",
       "      <th>PlayerLine</th>\n",
       "      <th>LineLength</th>\n",
       "      <th>WordCount</th>\n",
       "      <th>LineSent</th>\n",
       "    </tr>\n",
       "  </thead>\n",
       "  <tbody>\n",
       "    <tr>\n",
       "      <th>0</th>\n",
       "      <td>Henry IV</td>\n",
       "      <td>1</td>\n",
       "      <td>1.1.1</td>\n",
       "      <td>KING HENRY IV</td>\n",
       "      <td>So shaken as we are, so wan with care,</td>\n",
       "      <td>38</td>\n",
       "      <td>11</td>\n",
       "      <td>1</td>\n",
       "    </tr>\n",
       "    <tr>\n",
       "      <th>1</th>\n",
       "      <td>Henry IV</td>\n",
       "      <td>1</td>\n",
       "      <td>1.1.2</td>\n",
       "      <td>KING HENRY IV</td>\n",
       "      <td>Find we a time for frighted peace to pant,</td>\n",
       "      <td>42</td>\n",
       "      <td>10</td>\n",
       "      <td>1</td>\n",
       "    </tr>\n",
       "    <tr>\n",
       "      <th>2</th>\n",
       "      <td>Henry IV</td>\n",
       "      <td>1</td>\n",
       "      <td>1.1.3</td>\n",
       "      <td>KING HENRY IV</td>\n",
       "      <td>And breathe short-winded accents of new broils</td>\n",
       "      <td>46</td>\n",
       "      <td>7</td>\n",
       "      <td>0</td>\n",
       "    </tr>\n",
       "    <tr>\n",
       "      <th>3</th>\n",
       "      <td>Henry IV</td>\n",
       "      <td>1</td>\n",
       "      <td>1.1.4</td>\n",
       "      <td>KING HENRY IV</td>\n",
       "      <td>To be commenced in strands afar remote.</td>\n",
       "      <td>39</td>\n",
       "      <td>8</td>\n",
       "      <td>0</td>\n",
       "    </tr>\n",
       "    <tr>\n",
       "      <th>4</th>\n",
       "      <td>Henry IV</td>\n",
       "      <td>1</td>\n",
       "      <td>1.1.5</td>\n",
       "      <td>KING HENRY IV</td>\n",
       "      <td>No more the thirsty entrance of this soil</td>\n",
       "      <td>41</td>\n",
       "      <td>8</td>\n",
       "      <td>-1</td>\n",
       "    </tr>\n",
       "  </tbody>\n",
       "</table>\n",
       "</div>"
      ],
      "text/plain": [
       "       Play  PlayerLinenumber ActSceneLine         Player  \\\n",
       "0  Henry IV                 1        1.1.1  KING HENRY IV   \n",
       "1  Henry IV                 1        1.1.2  KING HENRY IV   \n",
       "2  Henry IV                 1        1.1.3  KING HENRY IV   \n",
       "3  Henry IV                 1        1.1.4  KING HENRY IV   \n",
       "4  Henry IV                 1        1.1.5  KING HENRY IV   \n",
       "\n",
       "                                       PlayerLine  LineLength  WordCount  \\\n",
       "0          So shaken as we are, so wan with care,          38         11   \n",
       "1      Find we a time for frighted peace to pant,          42         10   \n",
       "2  And breathe short-winded accents of new broils          46          7   \n",
       "3         To be commenced in strands afar remote.          39          8   \n",
       "4       No more the thirsty entrance of this soil          41          8   \n",
       "\n",
       "   LineSent  \n",
       "0         1  \n",
       "1         1  \n",
       "2         0  \n",
       "3         0  \n",
       "4        -1  "
      ]
     },
     "execution_count": 52,
     "metadata": {},
     "output_type": "execute_result"
    }
   ],
   "source": [
    "shakes_df.head()"
   ]
  },
  {
   "cell_type": "code",
   "execution_count": 53,
   "metadata": {},
   "outputs": [],
   "source": [
    "# I want to look at a histogram of the line sentiment to know if it makes any difference"
   ]
  },
  {
   "cell_type": "code",
   "execution_count": 54,
   "metadata": {},
   "outputs": [
    {
     "data": {
      "image/png": "[encoded data removed]",
      "text/plain": [
       "<Figure size 576x576 with 1 Axes>"
      ]
     },
     "metadata": {
      "needs_background": "light"
     },
     "output_type": "display_data"
    }
   ],
   "source": [
    "fig, ax = plt.subplots(figsize=(8,8))\n",
    "\n",
    "counts = shakes_df.LineSent.value_counts(normalize=True) * 100\n",
    "\n",
    "sns.barplot(x=counts.index, y=counts, ax=ax)\n",
    "\n",
    "ax.set_xticklabels(['Negative', 'Neutral', 'Positive'])\n",
    "ax.set_ylabel('Percentage')\n",
    "\n",
    "plt.show()"
   ]
  },
  {
   "cell_type": "code",
   "execution_count": 55,
   "metadata": {},
   "outputs": [],
   "source": [
    "# Almost 60% of the sentiment is neutral, which might not be too useful\n",
    "# However, we can still keep this feature since it's not too bad\n",
    "# My guess is that the nltk algortihm isn't calibrated for the english that shakespeare uses\n",
    "# Another thing to consider is the range that we used to determine\n",
    "# the sentiment based on the compound sentiment\n",
    "# If we expand this range then we can get a better distributed plot\n",
    "# Also, nltk uses a general lexicon to classify text, if we can\n",
    "# find a more specific lexicon to shakespeare's era english then we can\n",
    "# perform a better guess of the sentiment"
   ]
  },
  {
   "cell_type": "code",
   "execution_count": 56,
   "metadata": {},
   "outputs": [
    {
     "data": {
      "text/plain": [
       "array(['Henry IV', 'Henry VI Part 1', 'Henry VI Part 2',\n",
       "       'Henry VI Part 3', 'Alls well that ends well', 'As you like it',\n",
       "       'Antony and Cleopatra', 'A Comedy of Errors', 'Coriolanus',\n",
       "       'Cymbeline', 'Hamlet', 'Henry V', 'Henry VIII', 'King John',\n",
       "       'Julius Caesar', 'King Lear', 'Loves Labours Lost', 'macbeth',\n",
       "       'Measure for measure', 'Merchant of Venice',\n",
       "       'Merry Wives of Windsor', 'A Midsummer nights dream',\n",
       "       'Much Ado about nothing', 'Othello', 'Pericles', 'Richard II',\n",
       "       'Richard III', 'Romeo and Juliet', 'Taming of the Shrew',\n",
       "       'The Tempest', 'Timon of Athens', 'Titus Andronicus',\n",
       "       'Troilus and Cressida', 'Twelfth Night', 'Two Gentlemen of Verona',\n",
       "       'A Winters Tale'], dtype=object)"
      ]
     },
     "execution_count": 56,
     "metadata": {},
     "output_type": "execute_result"
    }
   ],
   "source": [
    "shakes_df.Play.unique()"
   ]
  },
  {
   "cell_type": "code",
   "execution_count": 152,
   "metadata": {},
   "outputs": [],
   "source": [
    "# I want to encode this categorical label into a numerical one"
   ]
  },
  {
   "cell_type": "code",
   "execution_count": 58,
   "metadata": {},
   "outputs": [],
   "source": [
    "# Also something that I've been thinking about is on how to randomize the data\n",
    "# Right noe all the data is packed in groups determined by the Play\n",
    "# However, when testing the model, the input data won't always come in group of Plays\n",
    "# Therefore, I will mix the rows so that the model does not pickup the idea of these groups"
   ]
  },
  {
   "cell_type": "code",
   "execution_count": 59,
   "metadata": {
    "scrolled": true
   },
   "outputs": [
    {
     "data": {
      "text/plain": [
       "Hamlet                      4244\n",
       "Coriolanus                  3992\n",
       "Cymbeline                   3956\n",
       "Richard III                 3941\n",
       "Antony and Cleopatra        3862\n",
       "King Lear                   3766\n",
       "Othello                     3762\n",
       "Troilus and Cressida        3711\n",
       "A Winters Tale              3489\n",
       "Henry VIII                  3419\n",
       "Henry V                     3395\n",
       "Henry VI Part 2             3334\n",
       "Romeo and Juliet            3313\n",
       "Henry IV                    3200\n",
       "Henry VI Part 3             3138\n",
       "Alls well that ends well    3083\n",
       "Measure for measure         2998\n",
       "Loves Labours Lost          2986\n",
       "Henry VI Part 1             2983\n",
       "Richard II                  2937\n",
       "Merry Wives of Windsor      2831\n",
       "As you like it              2822\n",
       "Taming of the Shrew         2806\n",
       "Merchant of Venice          2802\n",
       "Julius Caesar               2771\n",
       "King John                   2766\n",
       "Titus Andronicus            2726\n",
       "Much Ado about nothing      2704\n",
       "Timon of Athens             2662\n",
       "Twelfth Night               2648\n",
       "Pericles                    2641\n",
       "macbeth                     2586\n",
       "The Tempest                 2403\n",
       "Two Gentlemen of Verona     2357\n",
       "A Midsummer nights dream    2300\n",
       "A Comedy of Errors          2055\n",
       "Name: Play, dtype: int64"
      ]
     },
     "execution_count": 59,
     "metadata": {},
     "output_type": "execute_result"
    }
   ],
   "source": [
    "shakes_df.Play.value_counts()"
   ]
  },
  {
   "cell_type": "code",
   "execution_count": 60,
   "metadata": {},
   "outputs": [],
   "source": [
    "# I was considering using one-hot encoding for the Play column; however, this would expand the dimensions too greatly\n",
    "# I am considering using label encoding; however, I worry that this might introduce some noise into the model\n",
    "# Helpful link: https://pbpython.com/categorical-encoding.html"
   ]
  },
  {
   "cell_type": "code",
   "execution_count": 61,
   "metadata": {},
   "outputs": [],
   "source": [
    "# I will focus on performing a visual analysis to develop my skills in that area"
   ]
  },
  {
   "cell_type": "code",
   "execution_count": 62,
   "metadata": {},
   "outputs": [
    {
     "data": {
      "text/html": [
       "<div>\n",
       "<style scoped>\n",
       "    .dataframe tbody tr th:only-of-type {\n",
       "        vertical-align: middle;\n",
       "    }\n",
       "\n",
       "    .dataframe tbody tr th {\n",
       "        vertical-align: top;\n",
       "    }\n",
       "\n",
       "    .dataframe thead th {\n",
       "        text-align: right;\n",
       "    }\n",
       "</style>\n",
       "<table border=\"1\" class=\"dataframe\">\n",
       "  <thead>\n",
       "    <tr style=\"text-align: right;\">\n",
       "      <th></th>\n",
       "      <th>Play</th>\n",
       "      <th>PlayerLinenumber</th>\n",
       "      <th>ActSceneLine</th>\n",
       "      <th>Player</th>\n",
       "      <th>PlayerLine</th>\n",
       "      <th>LineLength</th>\n",
       "      <th>WordCount</th>\n",
       "      <th>LineSent</th>\n",
       "    </tr>\n",
       "  </thead>\n",
       "  <tbody>\n",
       "    <tr>\n",
       "      <th>0</th>\n",
       "      <td>Henry IV</td>\n",
       "      <td>1</td>\n",
       "      <td>1.1.1</td>\n",
       "      <td>KING HENRY IV</td>\n",
       "      <td>So shaken as we are, so wan with care,</td>\n",
       "      <td>38</td>\n",
       "      <td>11</td>\n",
       "      <td>1</td>\n",
       "    </tr>\n",
       "    <tr>\n",
       "      <th>1</th>\n",
       "      <td>Henry IV</td>\n",
       "      <td>1</td>\n",
       "      <td>1.1.2</td>\n",
       "      <td>KING HENRY IV</td>\n",
       "      <td>Find we a time for frighted peace to pant,</td>\n",
       "      <td>42</td>\n",
       "      <td>10</td>\n",
       "      <td>1</td>\n",
       "    </tr>\n",
       "    <tr>\n",
       "      <th>2</th>\n",
       "      <td>Henry IV</td>\n",
       "      <td>1</td>\n",
       "      <td>1.1.3</td>\n",
       "      <td>KING HENRY IV</td>\n",
       "      <td>And breathe short-winded accents of new broils</td>\n",
       "      <td>46</td>\n",
       "      <td>7</td>\n",
       "      <td>0</td>\n",
       "    </tr>\n",
       "    <tr>\n",
       "      <th>3</th>\n",
       "      <td>Henry IV</td>\n",
       "      <td>1</td>\n",
       "      <td>1.1.4</td>\n",
       "      <td>KING HENRY IV</td>\n",
       "      <td>To be commenced in strands afar remote.</td>\n",
       "      <td>39</td>\n",
       "      <td>8</td>\n",
       "      <td>0</td>\n",
       "    </tr>\n",
       "    <tr>\n",
       "      <th>4</th>\n",
       "      <td>Henry IV</td>\n",
       "      <td>1</td>\n",
       "      <td>1.1.5</td>\n",
       "      <td>KING HENRY IV</td>\n",
       "      <td>No more the thirsty entrance of this soil</td>\n",
       "      <td>41</td>\n",
       "      <td>8</td>\n",
       "      <td>-1</td>\n",
       "    </tr>\n",
       "  </tbody>\n",
       "</table>\n",
       "</div>"
      ],
      "text/plain": [
       "       Play  PlayerLinenumber ActSceneLine         Player  \\\n",
       "0  Henry IV                 1        1.1.1  KING HENRY IV   \n",
       "1  Henry IV                 1        1.1.2  KING HENRY IV   \n",
       "2  Henry IV                 1        1.1.3  KING HENRY IV   \n",
       "3  Henry IV                 1        1.1.4  KING HENRY IV   \n",
       "4  Henry IV                 1        1.1.5  KING HENRY IV   \n",
       "\n",
       "                                       PlayerLine  LineLength  WordCount  \\\n",
       "0          So shaken as we are, so wan with care,          38         11   \n",
       "1      Find we a time for frighted peace to pant,          42         10   \n",
       "2  And breathe short-winded accents of new broils          46          7   \n",
       "3         To be commenced in strands afar remote.          39          8   \n",
       "4       No more the thirsty entrance of this soil          41          8   \n",
       "\n",
       "   LineSent  \n",
       "0         1  \n",
       "1         1  \n",
       "2         0  \n",
       "3         0  \n",
       "4        -1  "
      ]
     },
     "execution_count": 62,
     "metadata": {},
     "output_type": "execute_result"
    }
   ],
   "source": [
    "shakes_df.head()"
   ]
  },
  {
   "cell_type": "code",
   "execution_count": 63,
   "metadata": {},
   "outputs": [
    {
     "data": {
      "text/plain": [
       "<matplotlib.axes._subplots.AxesSubplot at 0x1a1ecf0ef0>"
      ]
     },
     "execution_count": 63,
     "metadata": {},
     "output_type": "execute_result"
    },
    {
     "data": {
      "image/png": "[encoded data removed]",
      "text/plain": [
       "<Figure size 1080x360 with 1 Axes>"
      ]
     },
     "metadata": {
      "needs_background": "light"
     },
     "output_type": "display_data"
    }
   ],
   "source": [
    "shakes_df.WordCount.hist(bins=150, figsize=(15,5))"
   ]
  },
  {
   "cell_type": "code",
   "execution_count": 64,
   "metadata": {},
   "outputs": [
    {
     "data": {
      "text/plain": [
       "10     17633\n",
       "9      16427\n",
       "11     15075\n",
       "8      12084\n",
       "12     10486\n",
       "7       8378\n",
       "6       6281\n",
       "13      5744\n",
       "5       4987\n",
       "4       3605\n",
       "14      2662\n",
       "2       2314\n",
       "3       2032\n",
       "1       1770\n",
       "15      1090\n",
       "16       407\n",
       "17       158\n",
       "18        62\n",
       "19        31\n",
       "20        24\n",
       "21        14\n",
       "22        12\n",
       "25         9\n",
       "23         9\n",
       "28         8\n",
       "24         8\n",
       "34         8\n",
       "31         5\n",
       "43         5\n",
       "27         5\n",
       "37         5\n",
       "26         5\n",
       "29         5\n",
       "35         4\n",
       "41         4\n",
       "36         4\n",
       "33         2\n",
       "61         2\n",
       "32         2\n",
       "44         2\n",
       "49         2\n",
       "39         2\n",
       "46         2\n",
       "66         1\n",
       "67         1\n",
       "47         1\n",
       "55         1\n",
       "173        1\n",
       "149        1\n",
       "40         1\n",
       "42         1\n",
       "201        1\n",
       "85         1\n",
       "38         1\n",
       "92         1\n",
       "80         1\n",
       "30         1\n",
       "63         1\n",
       "Name: WordCount, dtype: int64"
      ]
     },
     "execution_count": 64,
     "metadata": {},
     "output_type": "execute_result"
    }
   ],
   "source": [
    "shakes_df.WordCount.value_counts()"
   ]
  },
  {
   "cell_type": "code",
   "execution_count": 65,
   "metadata": {},
   "outputs": [],
   "source": [
    "# There are 3 values above 100 which are messing with the graph, I will ignore them just for the graphic"
   ]
  },
  {
   "cell_type": "code",
   "execution_count": 66,
   "metadata": {},
   "outputs": [
    {
     "data": {
      "text/plain": [
       "array([False, False, False, False, False, False, False, False, False,\n",
       "       False, False, False, False, False, False, False, False,  True,\n",
       "        True,  True,  True,  True,  True,  True,  True,  True,  True,\n",
       "        True,  True,  True,  True,  True,  True,  True,  True,  True,\n",
       "        True,  True,  True,  True,  True,  True,  True,  True,  True,\n",
       "        True,  True,  True,  True,  True,  True,  True,  True,  True,\n",
       "        True,  True,  True,  True])"
      ]
     },
     "execution_count": 66,
     "metadata": {},
     "output_type": "execute_result"
    }
   ],
   "source": [
    "shakes_df.WordCount.value_counts().values < 100"
   ]
  },
  {
   "cell_type": "code",
   "execution_count": 67,
   "metadata": {},
   "outputs": [
    {
     "data": {
      "text/plain": [
       "Int64Index([10,  9, 11,  8, 12,  7,  6, 13,  5,  4, 14,  2,  3,  1, 15, 16, 17,\n",
       "            18, 19, 20, 21, 22, 25, 23, 28, 24, 34, 31, 43, 27, 37, 26, 29, 35,\n",
       "            41, 36, 33, 61, 32, 44, 49, 39, 46, 66, 67, 47, 55, 40, 42, 85, 38,\n",
       "            92, 80, 30, 63],\n",
       "           dtype='int64')"
      ]
     },
     "execution_count": 67,
     "metadata": {},
     "output_type": "execute_result"
    }
   ],
   "source": [
    "shakes_df.WordCount.value_counts().loc[shakes_df.WordCount.value_counts().index < 100].index\n",
    "# We get the wordcount lengths that are less than 100 to avoid the outliers"
   ]
  },
  {
   "cell_type": "code",
   "execution_count": 68,
   "metadata": {},
   "outputs": [],
   "source": [
    "filtered_df = shakes_df.loc[shakes_df.WordCount.isin(shakes_df.WordCount.value_counts().loc[shakes_df.WordCount.value_counts().index < 100].index)].copy()"
   ]
  },
  {
   "cell_type": "code",
   "execution_count": 69,
   "metadata": {},
   "outputs": [
    {
     "data": {
      "text/plain": [
       "10    17633\n",
       "9     16427\n",
       "11    15075\n",
       "8     12084\n",
       "12    10486\n",
       "7      8378\n",
       "6      6281\n",
       "13     5744\n",
       "5      4987\n",
       "4      3605\n",
       "14     2662\n",
       "2      2314\n",
       "3      2032\n",
       "1      1770\n",
       "15     1090\n",
       "16      407\n",
       "17      158\n",
       "18       62\n",
       "19       31\n",
       "20       24\n",
       "21       14\n",
       "22       12\n",
       "25        9\n",
       "23        9\n",
       "24        8\n",
       "28        8\n",
       "34        8\n",
       "26        5\n",
       "31        5\n",
       "43        5\n",
       "27        5\n",
       "37        5\n",
       "29        5\n",
       "35        4\n",
       "36        4\n",
       "41        4\n",
       "46        2\n",
       "32        2\n",
       "33        2\n",
       "49        2\n",
       "39        2\n",
       "61        2\n",
       "44        2\n",
       "30        1\n",
       "55        1\n",
       "66        1\n",
       "67        1\n",
       "47        1\n",
       "40        1\n",
       "42        1\n",
       "38        1\n",
       "92        1\n",
       "85        1\n",
       "80        1\n",
       "63        1\n",
       "Name: WordCount, dtype: int64"
      ]
     },
     "execution_count": 69,
     "metadata": {},
     "output_type": "execute_result"
    }
   ],
   "source": [
    "filtered_df.WordCount.value_counts()"
   ]
  },
  {
   "cell_type": "code",
   "execution_count": 70,
   "metadata": {},
   "outputs": [
    {
     "data": {
      "text/plain": [
       "<matplotlib.axes._subplots.AxesSubplot at 0x1a18b63d68>"
      ]
     },
     "execution_count": 70,
     "metadata": {},
     "output_type": "execute_result"
    },
    {
     "data": {
      "image/png": "[encoded data removed]",
      "text/plain": [
       "<Figure size 1080x360 with 1 Axes>"
      ]
     },
     "metadata": {
      "needs_background": "light"
     },
     "output_type": "display_data"
    }
   ],
   "source": [
    "filtered_df.WordCount.hist(bins=150, figsize=(15,5))"
   ]
  },
  {
   "cell_type": "code",
   "execution_count": 71,
   "metadata": {},
   "outputs": [],
   "source": [
    "# We still have some outliers, we will drop any wordcount that has less than 10 values in its group"
   ]
  },
  {
   "cell_type": "code",
   "execution_count": 72,
   "metadata": {},
   "outputs": [],
   "source": [
    "filtered_df = filtered_df.loc[filtered_df.WordCount.isin(filtered_df.WordCount.value_counts().loc[filtered_df.WordCount.value_counts().values > 10].index)].copy()"
   ]
  },
  {
   "cell_type": "code",
   "execution_count": 73,
   "metadata": {},
   "outputs": [
    {
     "data": {
      "text/plain": [
       "10    17633\n",
       "9     16427\n",
       "11    15075\n",
       "8     12084\n",
       "12    10486\n",
       "7      8378\n",
       "6      6281\n",
       "13     5744\n",
       "5      4987\n",
       "4      3605\n",
       "14     2662\n",
       "2      2314\n",
       "3      2032\n",
       "1      1770\n",
       "15     1090\n",
       "16      407\n",
       "17      158\n",
       "18       62\n",
       "19       31\n",
       "20       24\n",
       "21       14\n",
       "22       12\n",
       "Name: WordCount, dtype: int64"
      ]
     },
     "execution_count": 73,
     "metadata": {},
     "output_type": "execute_result"
    }
   ],
   "source": [
    "filtered_df.WordCount.value_counts()"
   ]
  },
  {
   "cell_type": "code",
   "execution_count": 74,
   "metadata": {},
   "outputs": [
    {
     "data": {
      "text/plain": [
       "<matplotlib.axes._subplots.AxesSubplot at 0x1a1fb5e358>"
      ]
     },
     "execution_count": 74,
     "metadata": {},
     "output_type": "execute_result"
    },
    {
     "data": {
      "image/png": "[encoded data removed]",
      "text/plain": [
       "<Figure size 1080x360 with 1 Axes>"
      ]
     },
     "metadata": {
      "needs_background": "light"
     },
     "output_type": "display_data"
    }
   ],
   "source": [
    "filtered_df.WordCount.hist(bins=150, figsize=(15,5))"
   ]
  },
  {
   "cell_type": "code",
   "execution_count": 75,
   "metadata": {},
   "outputs": [],
   "source": [
    "# From this graph we can see that most of the word counts are between 7 and 12"
   ]
  },
  {
   "cell_type": "code",
   "execution_count": 76,
   "metadata": {},
   "outputs": [
    {
     "data": {
      "text/html": [
       "<div>\n",
       "<style scoped>\n",
       "    .dataframe tbody tr th:only-of-type {\n",
       "        vertical-align: middle;\n",
       "    }\n",
       "\n",
       "    .dataframe tbody tr th {\n",
       "        vertical-align: top;\n",
       "    }\n",
       "\n",
       "    .dataframe thead th {\n",
       "        text-align: right;\n",
       "    }\n",
       "</style>\n",
       "<table border=\"1\" class=\"dataframe\">\n",
       "  <thead>\n",
       "    <tr style=\"text-align: right;\">\n",
       "      <th></th>\n",
       "      <th>Play</th>\n",
       "      <th>PlayerLinenumber</th>\n",
       "      <th>ActSceneLine</th>\n",
       "      <th>Player</th>\n",
       "      <th>PlayerLine</th>\n",
       "      <th>LineLength</th>\n",
       "      <th>WordCount</th>\n",
       "      <th>LineSent</th>\n",
       "    </tr>\n",
       "  </thead>\n",
       "  <tbody>\n",
       "    <tr>\n",
       "      <th>0</th>\n",
       "      <td>Henry IV</td>\n",
       "      <td>1</td>\n",
       "      <td>1.1.1</td>\n",
       "      <td>KING HENRY IV</td>\n",
       "      <td>So shaken as we are, so wan with care,</td>\n",
       "      <td>38</td>\n",
       "      <td>11</td>\n",
       "      <td>1</td>\n",
       "    </tr>\n",
       "    <tr>\n",
       "      <th>1</th>\n",
       "      <td>Henry IV</td>\n",
       "      <td>1</td>\n",
       "      <td>1.1.2</td>\n",
       "      <td>KING HENRY IV</td>\n",
       "      <td>Find we a time for frighted peace to pant,</td>\n",
       "      <td>42</td>\n",
       "      <td>10</td>\n",
       "      <td>1</td>\n",
       "    </tr>\n",
       "    <tr>\n",
       "      <th>2</th>\n",
       "      <td>Henry IV</td>\n",
       "      <td>1</td>\n",
       "      <td>1.1.3</td>\n",
       "      <td>KING HENRY IV</td>\n",
       "      <td>And breathe short-winded accents of new broils</td>\n",
       "      <td>46</td>\n",
       "      <td>7</td>\n",
       "      <td>0</td>\n",
       "    </tr>\n",
       "    <tr>\n",
       "      <th>3</th>\n",
       "      <td>Henry IV</td>\n",
       "      <td>1</td>\n",
       "      <td>1.1.4</td>\n",
       "      <td>KING HENRY IV</td>\n",
       "      <td>To be commenced in strands afar remote.</td>\n",
       "      <td>39</td>\n",
       "      <td>8</td>\n",
       "      <td>0</td>\n",
       "    </tr>\n",
       "    <tr>\n",
       "      <th>4</th>\n",
       "      <td>Henry IV</td>\n",
       "      <td>1</td>\n",
       "      <td>1.1.5</td>\n",
       "      <td>KING HENRY IV</td>\n",
       "      <td>No more the thirsty entrance of this soil</td>\n",
       "      <td>41</td>\n",
       "      <td>8</td>\n",
       "      <td>-1</td>\n",
       "    </tr>\n",
       "  </tbody>\n",
       "</table>\n",
       "</div>"
      ],
      "text/plain": [
       "       Play  PlayerLinenumber ActSceneLine         Player  \\\n",
       "0  Henry IV                 1        1.1.1  KING HENRY IV   \n",
       "1  Henry IV                 1        1.1.2  KING HENRY IV   \n",
       "2  Henry IV                 1        1.1.3  KING HENRY IV   \n",
       "3  Henry IV                 1        1.1.4  KING HENRY IV   \n",
       "4  Henry IV                 1        1.1.5  KING HENRY IV   \n",
       "\n",
       "                                       PlayerLine  LineLength  WordCount  \\\n",
       "0          So shaken as we are, so wan with care,          38         11   \n",
       "1      Find we a time for frighted peace to pant,          42         10   \n",
       "2  And breathe short-winded accents of new broils          46          7   \n",
       "3         To be commenced in strands afar remote.          39          8   \n",
       "4       No more the thirsty entrance of this soil          41          8   \n",
       "\n",
       "   LineSent  \n",
       "0         1  \n",
       "1         1  \n",
       "2         0  \n",
       "3         0  \n",
       "4        -1  "
      ]
     },
     "execution_count": 76,
     "metadata": {},
     "output_type": "execute_result"
    }
   ],
   "source": [
    "shakes_df.head()"
   ]
  },
  {
   "cell_type": "code",
   "execution_count": 77,
   "metadata": {},
   "outputs": [],
   "source": [
    "# I will drop the PlayerLine column since it does not provide much data that my model will be able to understand"
   ]
  },
  {
   "cell_type": "code",
   "execution_count": 78,
   "metadata": {},
   "outputs": [],
   "source": [
    "ready_df = shakes_df.drop(['PlayerLine'], axis=1).copy()"
   ]
  },
  {
   "cell_type": "code",
   "execution_count": 79,
   "metadata": {},
   "outputs": [
    {
     "data": {
      "text/html": [
       "<div>\n",
       "<style scoped>\n",
       "    .dataframe tbody tr th:only-of-type {\n",
       "        vertical-align: middle;\n",
       "    }\n",
       "\n",
       "    .dataframe tbody tr th {\n",
       "        vertical-align: top;\n",
       "    }\n",
       "\n",
       "    .dataframe thead th {\n",
       "        text-align: right;\n",
       "    }\n",
       "</style>\n",
       "<table border=\"1\" class=\"dataframe\">\n",
       "  <thead>\n",
       "    <tr style=\"text-align: right;\">\n",
       "      <th></th>\n",
       "      <th>Play</th>\n",
       "      <th>PlayerLinenumber</th>\n",
       "      <th>ActSceneLine</th>\n",
       "      <th>Player</th>\n",
       "      <th>LineLength</th>\n",
       "      <th>WordCount</th>\n",
       "      <th>LineSent</th>\n",
       "    </tr>\n",
       "  </thead>\n",
       "  <tbody>\n",
       "    <tr>\n",
       "      <th>0</th>\n",
       "      <td>Henry IV</td>\n",
       "      <td>1</td>\n",
       "      <td>1.1.1</td>\n",
       "      <td>KING HENRY IV</td>\n",
       "      <td>38</td>\n",
       "      <td>11</td>\n",
       "      <td>1</td>\n",
       "    </tr>\n",
       "    <tr>\n",
       "      <th>1</th>\n",
       "      <td>Henry IV</td>\n",
       "      <td>1</td>\n",
       "      <td>1.1.2</td>\n",
       "      <td>KING HENRY IV</td>\n",
       "      <td>42</td>\n",
       "      <td>10</td>\n",
       "      <td>1</td>\n",
       "    </tr>\n",
       "    <tr>\n",
       "      <th>2</th>\n",
       "      <td>Henry IV</td>\n",
       "      <td>1</td>\n",
       "      <td>1.1.3</td>\n",
       "      <td>KING HENRY IV</td>\n",
       "      <td>46</td>\n",
       "      <td>7</td>\n",
       "      <td>0</td>\n",
       "    </tr>\n",
       "    <tr>\n",
       "      <th>3</th>\n",
       "      <td>Henry IV</td>\n",
       "      <td>1</td>\n",
       "      <td>1.1.4</td>\n",
       "      <td>KING HENRY IV</td>\n",
       "      <td>39</td>\n",
       "      <td>8</td>\n",
       "      <td>0</td>\n",
       "    </tr>\n",
       "    <tr>\n",
       "      <th>4</th>\n",
       "      <td>Henry IV</td>\n",
       "      <td>1</td>\n",
       "      <td>1.1.5</td>\n",
       "      <td>KING HENRY IV</td>\n",
       "      <td>41</td>\n",
       "      <td>8</td>\n",
       "      <td>-1</td>\n",
       "    </tr>\n",
       "  </tbody>\n",
       "</table>\n",
       "</div>"
      ],
      "text/plain": [
       "       Play  PlayerLinenumber ActSceneLine         Player  LineLength  \\\n",
       "0  Henry IV                 1        1.1.1  KING HENRY IV          38   \n",
       "1  Henry IV                 1        1.1.2  KING HENRY IV          42   \n",
       "2  Henry IV                 1        1.1.3  KING HENRY IV          46   \n",
       "3  Henry IV                 1        1.1.4  KING HENRY IV          39   \n",
       "4  Henry IV                 1        1.1.5  KING HENRY IV          41   \n",
       "\n",
       "   WordCount  LineSent  \n",
       "0         11         1  \n",
       "1         10         1  \n",
       "2          7         0  \n",
       "3          8         0  \n",
       "4          8        -1  "
      ]
     },
     "execution_count": 79,
     "metadata": {},
     "output_type": "execute_result"
    }
   ],
   "source": [
    "ready_df.head()"
   ]
  },
  {
   "cell_type": "code",
   "execution_count": 80,
   "metadata": {},
   "outputs": [
    {
     "data": {
      "image/png": "[encoded data removed]",
      "text/plain": [
       "<Figure size 288x288 with 2 Axes>"
      ]
     },
     "metadata": {
      "needs_background": "light"
     },
     "output_type": "display_data"
    }
   ],
   "source": [
    "plt.matshow(ready_df.corr())\n",
    "plt.xticks(range(ready_df.shape[1]), ready_df.columns, fontsize=14, rotation=45)\n",
    "plt.yticks(range(ready_df.shape[1]), ready_df.columns, fontsize=14)\n",
    "cb = plt.colorbar()\n",
    "cb.ax.tick_params(labelsize=14)\n",
    "plt.show()"
   ]
  },
  {
   "cell_type": "code",
   "execution_count": 82,
   "metadata": {},
   "outputs": [
    {
     "name": "stdout",
     "output_type": "stream",
     "text": [
      "<class 'pandas.core.frame.DataFrame'>\n",
      "RangeIndex: 111389 entries, 0 to 111388\n",
      "Data columns (total 7 columns):\n",
      "Play                111389 non-null object\n",
      "PlayerLinenumber    111389 non-null int64\n",
      "ActSceneLine        105152 non-null object\n",
      "Player              111389 non-null object\n",
      "LineLength          111389 non-null int64\n",
      "WordCount           111389 non-null int64\n",
      "LineSent            111389 non-null int64\n",
      "dtypes: int64(4), object(3)\n",
      "memory usage: 5.9+ MB\n"
     ]
    }
   ],
   "source": [
    "ready_df.info()"
   ]
  },
  {
   "cell_type": "code",
   "execution_count": 83,
   "metadata": {},
   "outputs": [],
   "source": [
    "# There are some missing values in ActSceneLine, I will fill them with 0.0.0 to keep that data in the model"
   ]
  },
  {
   "cell_type": "code",
   "execution_count": 84,
   "metadata": {},
   "outputs": [],
   "source": [
    "ready_df.ActSceneLine.fillna('0.0.0', inplace=True)"
   ]
  },
  {
   "cell_type": "code",
   "execution_count": 85,
   "metadata": {},
   "outputs": [
    {
     "name": "stdout",
     "output_type": "stream",
     "text": [
      "<class 'pandas.core.frame.DataFrame'>\n",
      "RangeIndex: 111389 entries, 0 to 111388\n",
      "Data columns (total 7 columns):\n",
      "Play                111389 non-null object\n",
      "PlayerLinenumber    111389 non-null int64\n",
      "ActSceneLine        111389 non-null object\n",
      "Player              111389 non-null object\n",
      "LineLength          111389 non-null int64\n",
      "WordCount           111389 non-null int64\n",
      "LineSent            111389 non-null int64\n",
      "dtypes: int64(4), object(3)\n",
      "memory usage: 5.9+ MB\n"
     ]
    }
   ],
   "source": [
    "ready_df.info()"
   ]
  },
  {
   "cell_type": "code",
   "execution_count": 86,
   "metadata": {},
   "outputs": [],
   "source": [
    "# Now we are ready to model the data\n",
    "# However, first we need to randomize the rows so that our model doesnt pick up on the sequential nature of the dataset"
   ]
  },
  {
   "cell_type": "code",
   "execution_count": 87,
   "metadata": {},
   "outputs": [],
   "source": [
    "# I will use the random method to get a random set of rows for the training part"
   ]
  },
  {
   "cell_type": "code",
   "execution_count": 88,
   "metadata": {},
   "outputs": [],
   "source": [
    "train_df = ready_df.sample(frac=0.75, random_state=1) #I'm using random_state to be able to reproduce these sample"
   ]
  },
  {
   "cell_type": "code",
   "execution_count": 94,
   "metadata": {},
   "outputs": [],
   "source": [
    "# I will perform label encoding on the Play column"
   ]
  },
  {
   "cell_type": "code",
   "execution_count": 95,
   "metadata": {},
   "outputs": [],
   "source": [
    "from sklearn.preprocessing import LabelEncoder\n",
    "labelencoder = LabelEncoder()"
   ]
  },
  {
   "cell_type": "code",
   "execution_count": 96,
   "metadata": {},
   "outputs": [],
   "source": [
    "ready_df.Play = labelencoder.fit_transform(ready_df.Play)"
   ]
  },
  {
   "cell_type": "code",
   "execution_count": 97,
   "metadata": {},
   "outputs": [
    {
     "data": {
      "text/html": [
       "<div>\n",
       "<style scoped>\n",
       "    .dataframe tbody tr th:only-of-type {\n",
       "        vertical-align: middle;\n",
       "    }\n",
       "\n",
       "    .dataframe tbody tr th {\n",
       "        vertical-align: top;\n",
       "    }\n",
       "\n",
       "    .dataframe thead th {\n",
       "        text-align: right;\n",
       "    }\n",
       "</style>\n",
       "<table border=\"1\" class=\"dataframe\">\n",
       "  <thead>\n",
       "    <tr style=\"text-align: right;\">\n",
       "      <th></th>\n",
       "      <th>Play</th>\n",
       "      <th>PlayerLinenumber</th>\n",
       "      <th>ActSceneLine</th>\n",
       "      <th>Player</th>\n",
       "      <th>LineLength</th>\n",
       "      <th>WordCount</th>\n",
       "      <th>LineSent</th>\n",
       "    </tr>\n",
       "  </thead>\n",
       "  <tbody>\n",
       "    <tr>\n",
       "      <th>0</th>\n",
       "      <td>9</td>\n",
       "      <td>1</td>\n",
       "      <td>1.1.1</td>\n",
       "      <td>KING HENRY IV</td>\n",
       "      <td>38</td>\n",
       "      <td>11</td>\n",
       "      <td>1</td>\n",
       "    </tr>\n",
       "    <tr>\n",
       "      <th>1</th>\n",
       "      <td>9</td>\n",
       "      <td>1</td>\n",
       "      <td>1.1.2</td>\n",
       "      <td>KING HENRY IV</td>\n",
       "      <td>42</td>\n",
       "      <td>10</td>\n",
       "      <td>1</td>\n",
       "    </tr>\n",
       "    <tr>\n",
       "      <th>2</th>\n",
       "      <td>9</td>\n",
       "      <td>1</td>\n",
       "      <td>1.1.3</td>\n",
       "      <td>KING HENRY IV</td>\n",
       "      <td>46</td>\n",
       "      <td>7</td>\n",
       "      <td>0</td>\n",
       "    </tr>\n",
       "    <tr>\n",
       "      <th>3</th>\n",
       "      <td>9</td>\n",
       "      <td>1</td>\n",
       "      <td>1.1.4</td>\n",
       "      <td>KING HENRY IV</td>\n",
       "      <td>39</td>\n",
       "      <td>8</td>\n",
       "      <td>0</td>\n",
       "    </tr>\n",
       "    <tr>\n",
       "      <th>4</th>\n",
       "      <td>9</td>\n",
       "      <td>1</td>\n",
       "      <td>1.1.5</td>\n",
       "      <td>KING HENRY IV</td>\n",
       "      <td>41</td>\n",
       "      <td>8</td>\n",
       "      <td>-1</td>\n",
       "    </tr>\n",
       "  </tbody>\n",
       "</table>\n",
       "</div>"
      ],
      "text/plain": [
       "   Play  PlayerLinenumber ActSceneLine         Player  LineLength  WordCount  \\\n",
       "0     9                 1        1.1.1  KING HENRY IV          38         11   \n",
       "1     9                 1        1.1.2  KING HENRY IV          42         10   \n",
       "2     9                 1        1.1.3  KING HENRY IV          46          7   \n",
       "3     9                 1        1.1.4  KING HENRY IV          39          8   \n",
       "4     9                 1        1.1.5  KING HENRY IV          41          8   \n",
       "\n",
       "   LineSent  \n",
       "0         1  \n",
       "1         1  \n",
       "2         0  \n",
       "3         0  \n",
       "4        -1  "
      ]
     },
     "execution_count": 97,
     "metadata": {},
     "output_type": "execute_result"
    }
   ],
   "source": [
    "ready_df.head()"
   ]
  },
  {
   "cell_type": "code",
   "execution_count": 98,
   "metadata": {},
   "outputs": [
    {
     "data": {
      "text/plain": [
       "36"
      ]
     },
     "execution_count": 98,
     "metadata": {},
     "output_type": "execute_result"
    }
   ],
   "source": [
    "len(ready_df.Play.unique())"
   ]
  },
  {
   "cell_type": "code",
   "execution_count": 99,
   "metadata": {},
   "outputs": [
    {
     "data": {
      "text/plain": [
       "36"
      ]
     },
     "execution_count": 99,
     "metadata": {},
     "output_type": "execute_result"
    }
   ],
   "source": [
    "len(shakes_df.Play.unique())"
   ]
  },
  {
   "cell_type": "code",
   "execution_count": 100,
   "metadata": {},
   "outputs": [],
   "source": [
    "# We will perform label encoding on the Player column too\n",
    "ready_df.Player = labelencoder.fit_transform(ready_df.Player)"
   ]
  },
  {
   "cell_type": "code",
   "execution_count": 101,
   "metadata": {},
   "outputs": [
    {
     "data": {
      "text/html": [
       "<div>\n",
       "<style scoped>\n",
       "    .dataframe tbody tr th:only-of-type {\n",
       "        vertical-align: middle;\n",
       "    }\n",
       "\n",
       "    .dataframe tbody tr th {\n",
       "        vertical-align: top;\n",
       "    }\n",
       "\n",
       "    .dataframe thead th {\n",
       "        text-align: right;\n",
       "    }\n",
       "</style>\n",
       "<table border=\"1\" class=\"dataframe\">\n",
       "  <thead>\n",
       "    <tr style=\"text-align: right;\">\n",
       "      <th></th>\n",
       "      <th>Play</th>\n",
       "      <th>PlayerLinenumber</th>\n",
       "      <th>ActSceneLine</th>\n",
       "      <th>Player</th>\n",
       "      <th>LineLength</th>\n",
       "      <th>WordCount</th>\n",
       "      <th>LineSent</th>\n",
       "    </tr>\n",
       "  </thead>\n",
       "  <tbody>\n",
       "    <tr>\n",
       "      <th>0</th>\n",
       "      <td>9</td>\n",
       "      <td>1</td>\n",
       "      <td>1.1.1</td>\n",
       "      <td>457</td>\n",
       "      <td>38</td>\n",
       "      <td>11</td>\n",
       "      <td>1</td>\n",
       "    </tr>\n",
       "    <tr>\n",
       "      <th>1</th>\n",
       "      <td>9</td>\n",
       "      <td>1</td>\n",
       "      <td>1.1.2</td>\n",
       "      <td>457</td>\n",
       "      <td>42</td>\n",
       "      <td>10</td>\n",
       "      <td>1</td>\n",
       "    </tr>\n",
       "    <tr>\n",
       "      <th>2</th>\n",
       "      <td>9</td>\n",
       "      <td>1</td>\n",
       "      <td>1.1.3</td>\n",
       "      <td>457</td>\n",
       "      <td>46</td>\n",
       "      <td>7</td>\n",
       "      <td>0</td>\n",
       "    </tr>\n",
       "    <tr>\n",
       "      <th>3</th>\n",
       "      <td>9</td>\n",
       "      <td>1</td>\n",
       "      <td>1.1.4</td>\n",
       "      <td>457</td>\n",
       "      <td>39</td>\n",
       "      <td>8</td>\n",
       "      <td>0</td>\n",
       "    </tr>\n",
       "    <tr>\n",
       "      <th>4</th>\n",
       "      <td>9</td>\n",
       "      <td>1</td>\n",
       "      <td>1.1.5</td>\n",
       "      <td>457</td>\n",
       "      <td>41</td>\n",
       "      <td>8</td>\n",
       "      <td>-1</td>\n",
       "    </tr>\n",
       "  </tbody>\n",
       "</table>\n",
       "</div>"
      ],
      "text/plain": [
       "   Play  PlayerLinenumber ActSceneLine  Player  LineLength  WordCount  \\\n",
       "0     9                 1        1.1.1     457          38         11   \n",
       "1     9                 1        1.1.2     457          42         10   \n",
       "2     9                 1        1.1.3     457          46          7   \n",
       "3     9                 1        1.1.4     457          39          8   \n",
       "4     9                 1        1.1.5     457          41          8   \n",
       "\n",
       "   LineSent  \n",
       "0         1  \n",
       "1         1  \n",
       "2         0  \n",
       "3         0  \n",
       "4        -1  "
      ]
     },
     "execution_count": 101,
     "metadata": {},
     "output_type": "execute_result"
    }
   ],
   "source": [
    "ready_df.head()"
   ]
  },
  {
   "cell_type": "code",
   "execution_count": 102,
   "metadata": {},
   "outputs": [],
   "source": [
    "# I will convert the ActSceneLine values to a number"
   ]
  },
  {
   "cell_type": "code",
   "execution_count": 103,
   "metadata": {},
   "outputs": [],
   "source": [
    "asl_conv = ready_df.ActSceneLine.str.extract('(\\d+)\\.(\\d+)\\.(\\d+)').copy()"
   ]
  },
  {
   "cell_type": "code",
   "execution_count": 104,
   "metadata": {},
   "outputs": [],
   "source": [
    "ready_df = ready_df.join(asl_conv).copy()"
   ]
  },
  {
   "cell_type": "code",
   "execution_count": 105,
   "metadata": {},
   "outputs": [
    {
     "data": {
      "text/html": [
       "<div>\n",
       "<style scoped>\n",
       "    .dataframe tbody tr th:only-of-type {\n",
       "        vertical-align: middle;\n",
       "    }\n",
       "\n",
       "    .dataframe tbody tr th {\n",
       "        vertical-align: top;\n",
       "    }\n",
       "\n",
       "    .dataframe thead th {\n",
       "        text-align: right;\n",
       "    }\n",
       "</style>\n",
       "<table border=\"1\" class=\"dataframe\">\n",
       "  <thead>\n",
       "    <tr style=\"text-align: right;\">\n",
       "      <th></th>\n",
       "      <th>Play</th>\n",
       "      <th>PlayerLinenumber</th>\n",
       "      <th>ActSceneLine</th>\n",
       "      <th>Player</th>\n",
       "      <th>LineLength</th>\n",
       "      <th>WordCount</th>\n",
       "      <th>LineSent</th>\n",
       "      <th>0</th>\n",
       "      <th>1</th>\n",
       "      <th>2</th>\n",
       "    </tr>\n",
       "  </thead>\n",
       "  <tbody>\n",
       "    <tr>\n",
       "      <th>0</th>\n",
       "      <td>9</td>\n",
       "      <td>1</td>\n",
       "      <td>1.1.1</td>\n",
       "      <td>457</td>\n",
       "      <td>38</td>\n",
       "      <td>11</td>\n",
       "      <td>1</td>\n",
       "      <td>1</td>\n",
       "      <td>1</td>\n",
       "      <td>1</td>\n",
       "    </tr>\n",
       "    <tr>\n",
       "      <th>1</th>\n",
       "      <td>9</td>\n",
       "      <td>1</td>\n",
       "      <td>1.1.2</td>\n",
       "      <td>457</td>\n",
       "      <td>42</td>\n",
       "      <td>10</td>\n",
       "      <td>1</td>\n",
       "      <td>1</td>\n",
       "      <td>1</td>\n",
       "      <td>2</td>\n",
       "    </tr>\n",
       "    <tr>\n",
       "      <th>2</th>\n",
       "      <td>9</td>\n",
       "      <td>1</td>\n",
       "      <td>1.1.3</td>\n",
       "      <td>457</td>\n",
       "      <td>46</td>\n",
       "      <td>7</td>\n",
       "      <td>0</td>\n",
       "      <td>1</td>\n",
       "      <td>1</td>\n",
       "      <td>3</td>\n",
       "    </tr>\n",
       "    <tr>\n",
       "      <th>3</th>\n",
       "      <td>9</td>\n",
       "      <td>1</td>\n",
       "      <td>1.1.4</td>\n",
       "      <td>457</td>\n",
       "      <td>39</td>\n",
       "      <td>8</td>\n",
       "      <td>0</td>\n",
       "      <td>1</td>\n",
       "      <td>1</td>\n",
       "      <td>4</td>\n",
       "    </tr>\n",
       "    <tr>\n",
       "      <th>4</th>\n",
       "      <td>9</td>\n",
       "      <td>1</td>\n",
       "      <td>1.1.5</td>\n",
       "      <td>457</td>\n",
       "      <td>41</td>\n",
       "      <td>8</td>\n",
       "      <td>-1</td>\n",
       "      <td>1</td>\n",
       "      <td>1</td>\n",
       "      <td>5</td>\n",
       "    </tr>\n",
       "  </tbody>\n",
       "</table>\n",
       "</div>"
      ],
      "text/plain": [
       "   Play  PlayerLinenumber ActSceneLine  Player  LineLength  WordCount  \\\n",
       "0     9                 1        1.1.1     457          38         11   \n",
       "1     9                 1        1.1.2     457          42         10   \n",
       "2     9                 1        1.1.3     457          46          7   \n",
       "3     9                 1        1.1.4     457          39          8   \n",
       "4     9                 1        1.1.5     457          41          8   \n",
       "\n",
       "   LineSent  0  1  2  \n",
       "0         1  1  1  1  \n",
       "1         1  1  1  2  \n",
       "2         0  1  1  3  \n",
       "3         0  1  1  4  \n",
       "4        -1  1  1  5  "
      ]
     },
     "execution_count": 105,
     "metadata": {},
     "output_type": "execute_result"
    }
   ],
   "source": [
    "# Now we drop the ActSceneLine column\n",
    "ready_df.head()"
   ]
  },
  {
   "cell_type": "code",
   "execution_count": 106,
   "metadata": {},
   "outputs": [],
   "source": [
    "ready_df.drop('ActSceneLine', axis=1, inplace=True)"
   ]
  },
  {
   "cell_type": "code",
   "execution_count": 123,
   "metadata": {
    "scrolled": true
   },
   "outputs": [
    {
     "data": {
      "text/html": [
       "<div>\n",
       "<style scoped>\n",
       "    .dataframe tbody tr th:only-of-type {\n",
       "        vertical-align: middle;\n",
       "    }\n",
       "\n",
       "    .dataframe tbody tr th {\n",
       "        vertical-align: top;\n",
       "    }\n",
       "\n",
       "    .dataframe thead th {\n",
       "        text-align: right;\n",
       "    }\n",
       "</style>\n",
       "<table border=\"1\" class=\"dataframe\">\n",
       "  <thead>\n",
       "    <tr style=\"text-align: right;\">\n",
       "      <th></th>\n",
       "      <th>Play</th>\n",
       "      <th>PlayerLinenumber</th>\n",
       "      <th>Player</th>\n",
       "      <th>LineLength</th>\n",
       "      <th>WordCount</th>\n",
       "      <th>LineSent</th>\n",
       "      <th>0</th>\n",
       "      <th>1</th>\n",
       "      <th>2</th>\n",
       "    </tr>\n",
       "  </thead>\n",
       "  <tbody>\n",
       "    <tr>\n",
       "      <th>0</th>\n",
       "      <td>9</td>\n",
       "      <td>1</td>\n",
       "      <td>457</td>\n",
       "      <td>38</td>\n",
       "      <td>11</td>\n",
       "      <td>1</td>\n",
       "      <td>1</td>\n",
       "      <td>1</td>\n",
       "      <td>1</td>\n",
       "    </tr>\n",
       "    <tr>\n",
       "      <th>1</th>\n",
       "      <td>9</td>\n",
       "      <td>1</td>\n",
       "      <td>457</td>\n",
       "      <td>42</td>\n",
       "      <td>10</td>\n",
       "      <td>1</td>\n",
       "      <td>1</td>\n",
       "      <td>1</td>\n",
       "      <td>2</td>\n",
       "    </tr>\n",
       "    <tr>\n",
       "      <th>2</th>\n",
       "      <td>9</td>\n",
       "      <td>1</td>\n",
       "      <td>457</td>\n",
       "      <td>46</td>\n",
       "      <td>7</td>\n",
       "      <td>0</td>\n",
       "      <td>1</td>\n",
       "      <td>1</td>\n",
       "      <td>3</td>\n",
       "    </tr>\n",
       "    <tr>\n",
       "      <th>3</th>\n",
       "      <td>9</td>\n",
       "      <td>1</td>\n",
       "      <td>457</td>\n",
       "      <td>39</td>\n",
       "      <td>8</td>\n",
       "      <td>0</td>\n",
       "      <td>1</td>\n",
       "      <td>1</td>\n",
       "      <td>4</td>\n",
       "    </tr>\n",
       "    <tr>\n",
       "      <th>4</th>\n",
       "      <td>9</td>\n",
       "      <td>1</td>\n",
       "      <td>457</td>\n",
       "      <td>41</td>\n",
       "      <td>8</td>\n",
       "      <td>-1</td>\n",
       "      <td>1</td>\n",
       "      <td>1</td>\n",
       "      <td>5</td>\n",
       "    </tr>\n",
       "  </tbody>\n",
       "</table>\n",
       "</div>"
      ],
      "text/plain": [
       "   Play  PlayerLinenumber  Player  LineLength  WordCount  LineSent  0  1  2\n",
       "0     9                 1     457          38         11         1  1  1  1\n",
       "1     9                 1     457          42         10         1  1  1  2\n",
       "2     9                 1     457          46          7         0  1  1  3\n",
       "3     9                 1     457          39          8         0  1  1  4\n",
       "4     9                 1     457          41          8        -1  1  1  5"
      ]
     },
     "execution_count": 123,
     "metadata": {},
     "output_type": "execute_result"
    }
   ],
   "source": [
    "ready_df.head()"
   ]
  },
  {
   "cell_type": "code",
   "execution_count": 124,
   "metadata": {},
   "outputs": [],
   "source": [
    "from sklearn.ensemble import RandomForestRegressor"
   ]
  },
  {
   "cell_type": "code",
   "execution_count": 125,
   "metadata": {},
   "outputs": [],
   "source": [
    "rf = RandomForestRegressor(n_estimators = 500, random_state = 42)"
   ]
  },
  {
   "cell_type": "code",
   "execution_count": 126,
   "metadata": {},
   "outputs": [],
   "source": [
    "train_df = ready_df.sample(frac=0.75, random_state=1) #I'm using random_state to be able to reproduce these sample"
   ]
  },
  {
   "cell_type": "code",
   "execution_count": 127,
   "metadata": {},
   "outputs": [],
   "source": [
    "trainfeatures_df = train_df[['Play','PlayerLinenumber','LineLength','WordCount','LineSent',0,1,2]].copy()"
   ]
  },
  {
   "cell_type": "code",
   "execution_count": 128,
   "metadata": {},
   "outputs": [],
   "source": [
    "trainlabels = train_df['Player'].copy()"
   ]
  },
  {
   "cell_type": "code",
   "execution_count": 129,
   "metadata": {},
   "outputs": [],
   "source": [
    "trainlabels = train_df['Player'].copy()"
   ]
  },
  {
   "cell_type": "code",
   "execution_count": 130,
   "metadata": {},
   "outputs": [
    {
     "data": {
      "text/html": [
       "<div>\n",
       "<style scoped>\n",
       "    .dataframe tbody tr th:only-of-type {\n",
       "        vertical-align: middle;\n",
       "    }\n",
       "\n",
       "    .dataframe tbody tr th {\n",
       "        vertical-align: top;\n",
       "    }\n",
       "\n",
       "    .dataframe thead th {\n",
       "        text-align: right;\n",
       "    }\n",
       "</style>\n",
       "<table border=\"1\" class=\"dataframe\">\n",
       "  <thead>\n",
       "    <tr style=\"text-align: right;\">\n",
       "      <th></th>\n",
       "      <th>Play</th>\n",
       "      <th>PlayerLinenumber</th>\n",
       "      <th>LineLength</th>\n",
       "      <th>WordCount</th>\n",
       "      <th>LineSent</th>\n",
       "      <th>0</th>\n",
       "      <th>1</th>\n",
       "      <th>2</th>\n",
       "    </tr>\n",
       "  </thead>\n",
       "  <tbody>\n",
       "    <tr>\n",
       "      <th>93046</th>\n",
       "      <td>29</td>\n",
       "      <td>21</td>\n",
       "      <td>51</td>\n",
       "      <td>12</td>\n",
       "      <td>0</td>\n",
       "      <td>3</td>\n",
       "      <td>3</td>\n",
       "      <td>94</td>\n",
       "    </tr>\n",
       "    <tr>\n",
       "      <th>26646</th>\n",
       "      <td>6</td>\n",
       "      <td>6</td>\n",
       "      <td>44</td>\n",
       "      <td>10</td>\n",
       "      <td>0</td>\n",
       "      <td>3</td>\n",
       "      <td>2</td>\n",
       "      <td>24</td>\n",
       "    </tr>\n",
       "    <tr>\n",
       "      <th>46687</th>\n",
       "      <td>15</td>\n",
       "      <td>4</td>\n",
       "      <td>42</td>\n",
       "      <td>10</td>\n",
       "      <td>1</td>\n",
       "      <td>1</td>\n",
       "      <td>3</td>\n",
       "      <td>18</td>\n",
       "    </tr>\n",
       "    <tr>\n",
       "      <th>54848</th>\n",
       "      <td>18</td>\n",
       "      <td>39</td>\n",
       "      <td>15</td>\n",
       "      <td>4</td>\n",
       "      <td>0</td>\n",
       "      <td>5</td>\n",
       "      <td>2</td>\n",
       "      <td>83</td>\n",
       "    </tr>\n",
       "    <tr>\n",
       "      <th>18689</th>\n",
       "      <td>4</td>\n",
       "      <td>34</td>\n",
       "      <td>33</td>\n",
       "      <td>7</td>\n",
       "      <td>0</td>\n",
       "      <td>1</td>\n",
       "      <td>2</td>\n",
       "      <td>50</td>\n",
       "    </tr>\n",
       "  </tbody>\n",
       "</table>\n",
       "</div>"
      ],
      "text/plain": [
       "       Play  PlayerLinenumber  LineLength  WordCount  LineSent  0  1   2\n",
       "93046    29                21          51         12         0  3  3  94\n",
       "26646     6                 6          44         10         0  3  2  24\n",
       "46687    15                 4          42         10         1  1  3  18\n",
       "54848    18                39          15          4         0  5  2  83\n",
       "18689     4                34          33          7         0  1  2  50"
      ]
     },
     "execution_count": 130,
     "metadata": {},
     "output_type": "execute_result"
    }
   ],
   "source": [
    "trainfeatures_df.head()"
   ]
  },
  {
   "cell_type": "code",
   "execution_count": 131,
   "metadata": {},
   "outputs": [
    {
     "data": {
      "text/plain": [
       "RandomForestRegressor(bootstrap=True, criterion='mse', max_depth=None,\n",
       "           max_features='auto', max_leaf_nodes=None,\n",
       "           min_impurity_decrease=0.0, min_impurity_split=None,\n",
       "           min_samples_leaf=1, min_samples_split=2,\n",
       "           min_weight_fraction_leaf=0.0, n_estimators=500, n_jobs=None,\n",
       "           oob_score=False, random_state=42, verbose=0, warm_start=False)"
      ]
     },
     "execution_count": 131,
     "metadata": {},
     "output_type": "execute_result"
    }
   ],
   "source": [
    "rf.fit(trainfeatures_df, trainlabels)"
   ]
  },
  {
   "cell_type": "code",
   "execution_count": 139,
   "metadata": {},
   "outputs": [],
   "source": [
    "# Now I want to predict on the test data"
   ]
  },
  {
   "cell_type": "code",
   "execution_count": 140,
   "metadata": {},
   "outputs": [],
   "source": [
    "train_predictions = rf.predict(trainfeatures_df)"
   ]
  },
  {
   "cell_type": "code",
   "execution_count": 141,
   "metadata": {},
   "outputs": [],
   "source": [
    "errors = abs(train_predictions - trainlabels)"
   ]
  },
  {
   "cell_type": "code",
   "execution_count": 145,
   "metadata": {
    "scrolled": true
   },
   "outputs": [
    {
     "name": "stdout",
     "output_type": "stream",
     "text": [
      "Mean Absolute Error: 37.65 degrees.\n"
     ]
    }
   ],
   "source": [
    "print('Mean Absolute Error:', round(np.mean(errors), 2), 'degrees.')\n"
   ]
  },
  {
   "cell_type": "code",
   "execution_count": 146,
   "metadata": {},
   "outputs": [],
   "source": [
    "test_df = ready_df.sample(frac=0.25, random_state=2)\n",
    "testfeatures_df = test_df[['Play','PlayerLinenumber','LineLength','WordCount','LineSent',0,1,2]].copy()\n",
    "testlabels = test_df['Player'].copy()"
   ]
  },
  {
   "cell_type": "code",
   "execution_count": 147,
   "metadata": {},
   "outputs": [
    {
     "name": "stdout",
     "output_type": "stream",
     "text": [
      "Mean Absolute Error: 54.55 degrees.\n"
     ]
    }
   ],
   "source": [
    "test_predictions = rf.predict(testfeatures_df)\n",
    "errors = abs(test_predictions - testlabels)\n",
    "print('Mean Absolute Error:', round(np.mean(errors), 2), 'degrees.')"
   ]
  },
  {
   "cell_type": "code",
   "execution_count": 148,
   "metadata": {},
   "outputs": [
    {
     "data": {
      "text/plain": [
       "51186     112.794\n",
       "108843     40.818\n",
       "26489      62.438\n",
       "8907       73.240\n",
       "102768    635.064\n",
       "34860      16.034\n",
       "89542     161.790\n",
       "14100       3.364\n",
       "27708       8.068\n",
       "91677      24.050\n",
       "60372      98.188\n",
       "14071      12.132\n",
       "107952     61.028\n",
       "55436     127.756\n",
       "5172        3.542\n",
       "53758     283.944\n",
       "104607    157.760\n",
       "108683     75.740\n",
       "13748       0.444\n",
       "95230     130.288\n",
       "27537      21.406\n",
       "53512     195.424\n",
       "50380      32.126\n",
       "105536     21.440\n",
       "5493       12.610\n",
       "28643      83.174\n",
       "71875     128.514\n",
       "39525      76.158\n",
       "10836       7.526\n",
       "47972       1.648\n",
       "           ...   \n",
       "2890       12.892\n",
       "88627       8.882\n",
       "35758       3.312\n",
       "30370       4.018\n",
       "47450     139.636\n",
       "35290       7.422\n",
       "41462      36.364\n",
       "71892      73.730\n",
       "65573      80.544\n",
       "30974      18.184\n",
       "44609      49.074\n",
       "31496      87.516\n",
       "33475      75.100\n",
       "61761      35.396\n",
       "84833      35.536\n",
       "97867      12.396\n",
       "41397      24.546\n",
       "65892      13.002\n",
       "75540      34.072\n",
       "110589    657.764\n",
       "10312      26.406\n",
       "81998       5.890\n",
       "83543      36.500\n",
       "100746     80.954\n",
       "17942       4.772\n",
       "52651     223.542\n",
       "33517       2.382\n",
       "10595       9.964\n",
       "12470       2.540\n",
       "54231      24.458\n",
       "Name: Player, Length: 27847, dtype: float64"
      ]
     },
     "execution_count": 148,
     "metadata": {},
     "output_type": "execute_result"
    }
   ],
   "source": [
    "errors"
   ]
  },
  {
   "cell_type": "code",
   "execution_count": 149,
   "metadata": {},
   "outputs": [
    {
     "name": "stdout",
     "output_type": "stream",
     "text": [
      "Accuracy: 49.2 %.\n"
     ]
    }
   ],
   "source": [
    "mape = 100 * (errors / testlabels)\n",
    "# Calculate and display accuracy\n",
    "accuracy = 100 - np.mean(mape)\n",
    "print('Accuracy:', round(accuracy, 2), '%.')"
   ]
  },
  {
   "cell_type": "code",
   "execution_count": 153,
   "metadata": {},
   "outputs": [
    {
     "name": "stderr",
     "output_type": "stream",
     "text": [
      "UsageError: Line magic function `%()` not found.\n"
     ]
    }
   ],
   "source": [
    "# Summary of what I did in this Project.\n",
    "\n",
    "# I dropped the nan rows for the Player column to prevent the model from learning this possible outcome.\n",
    "# Then I dropped the Dataline column since it didn’t really provide any meaningful data.\n",
    "# After cleaning the data, I started working on creating new features from the existing ones.\n",
    "# I added a column based on the length of each PlayerLine\n",
    "# Then I once that all the values in PlayerLineNumber are numerical values expressed as strings. This is easy to fix, it just involves casting them as integers.\n",
    "# I also assumed that performing sentiment analysis on each PlayerLine would play an important role in the model. Therefore, I performed a simple analysis and categorize each line in three possibilities: negative, neutral and positive; with the numerical values of -1, 0, 1 respectively.\n",
    "# However, an issue that I ran into was that most of the text was classified as being neutral. I assume that this is because the text analyzer is not trained on the English that Shakespeare used.\n",
    "# While doing this process I also decided to add two columns for the length of the line and the amount of words that each line has. I tried to take as much advantage as possible from the PlayerLine column since I would eventually have to drop it since it would be hard to make it fit into any model.\n",
    "# Then I encode the Play column as a numerical feature. I considered using a one-hot encoding; however, this would way too many dimensions into the problem so I ended up using a regular label encoding.\n",
    "# Then I dropped the PlayerLine column since I could not come up with new ways to use it.\n",
    "# I still had to deal with the ActSceneLine column which was a categorical variable. I decided to create three columns and each one would contain an integer used in ActSceneLine.\n",
    "# A big concern from this data set was the sequential nature of the data. All the player lines were grouped together and this is something I did not want the model to receive. Therefore, I used the sample function to get random rows from the data frame to get the training data.\n",
    "# After training the model, I randomly selected rows from the data frame again to get the testing data. However, I think it would have been better to split the model in two portions and then randomize the rows, instead of randomly selecting rows from the whole dataset.\n",
    "# I should have used more visual analysis on the data."
   ]
  },
  {
   "cell_type": "code",
   "execution_count": null,
   "metadata": {},
   "outputs": [],
   "source": []
  }
 ],
 "metadata": {
  "kernelspec": {
   "display_name": "Python 3",
   "language": "python",
   "name": "python3"
  },
  "language_info": {
   "codemirror_mode": {
    "name": "ipython",
    "version": 3
   },
   "file_extension": ".py",
   "mimetype": "text/x-python",
   "name": "python",
   "nbconvert_exporter": "python",
   "pygments_lexer": "ipython3",
   "version": "3.7.3"
  }
 },
 "nbformat": 4,
 "nbformat_minor": 2
}
