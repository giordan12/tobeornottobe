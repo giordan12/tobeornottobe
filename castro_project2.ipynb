{
 "cells": [
  {
   "cell_type": "code",
   "execution_count": 33,
   "metadata": {},
   "outputs": [],
   "source": [
    "import pandas as pd\n",
    "import numpy as np\n",
    "import seaborn as sns\n",
    "import matplotlib.pyplot as plt"
   ]
  },
  {
   "cell_type": "code",
   "execution_count": 4,
   "metadata": {},
   "outputs": [],
   "source": [
    "shakes_df = pd.read_csv('./shakespeare-plays/Shakespeare_data.csv')"
   ]
  },
  {
   "cell_type": "code",
   "execution_count": 5,
   "metadata": {},
   "outputs": [
    {
     "data": {
      "text/html": [
       "<div>\n",
       "<style scoped>\n",
       "    .dataframe tbody tr th:only-of-type {\n",
       "        vertical-align: middle;\n",
       "    }\n",
       "\n",
       "    .dataframe tbody tr th {\n",
       "        vertical-align: top;\n",
       "    }\n",
       "\n",
       "    .dataframe thead th {\n",
       "        text-align: right;\n",
       "    }\n",
       "</style>\n",
       "<table border=\"1\" class=\"dataframe\">\n",
       "  <thead>\n",
       "    <tr style=\"text-align: right;\">\n",
       "      <th></th>\n",
       "      <th>Dataline</th>\n",
       "      <th>Play</th>\n",
       "      <th>PlayerLinenumber</th>\n",
       "      <th>ActSceneLine</th>\n",
       "      <th>Player</th>\n",
       "      <th>PlayerLine</th>\n",
       "    </tr>\n",
       "  </thead>\n",
       "  <tbody>\n",
       "    <tr>\n",
       "      <th>0</th>\n",
       "      <td>1</td>\n",
       "      <td>Henry IV</td>\n",
       "      <td>NaN</td>\n",
       "      <td>NaN</td>\n",
       "      <td>NaN</td>\n",
       "      <td>ACT I</td>\n",
       "    </tr>\n",
       "    <tr>\n",
       "      <th>1</th>\n",
       "      <td>2</td>\n",
       "      <td>Henry IV</td>\n",
       "      <td>NaN</td>\n",
       "      <td>NaN</td>\n",
       "      <td>NaN</td>\n",
       "      <td>SCENE I. London. The palace.</td>\n",
       "    </tr>\n",
       "    <tr>\n",
       "      <th>2</th>\n",
       "      <td>3</td>\n",
       "      <td>Henry IV</td>\n",
       "      <td>NaN</td>\n",
       "      <td>NaN</td>\n",
       "      <td>NaN</td>\n",
       "      <td>Enter KING HENRY, LORD JOHN OF LANCASTER, the ...</td>\n",
       "    </tr>\n",
       "    <tr>\n",
       "      <th>3</th>\n",
       "      <td>4</td>\n",
       "      <td>Henry IV</td>\n",
       "      <td>1.0</td>\n",
       "      <td>1.1.1</td>\n",
       "      <td>KING HENRY IV</td>\n",
       "      <td>So shaken as we are, so wan with care,</td>\n",
       "    </tr>\n",
       "    <tr>\n",
       "      <th>4</th>\n",
       "      <td>5</td>\n",
       "      <td>Henry IV</td>\n",
       "      <td>1.0</td>\n",
       "      <td>1.1.2</td>\n",
       "      <td>KING HENRY IV</td>\n",
       "      <td>Find we a time for frighted peace to pant,</td>\n",
       "    </tr>\n",
       "  </tbody>\n",
       "</table>\n",
       "</div>"
      ],
      "text/plain": [
       "   Dataline      Play  PlayerLinenumber ActSceneLine         Player  \\\n",
       "0         1  Henry IV               NaN          NaN            NaN   \n",
       "1         2  Henry IV               NaN          NaN            NaN   \n",
       "2         3  Henry IV               NaN          NaN            NaN   \n",
       "3         4  Henry IV               1.0        1.1.1  KING HENRY IV   \n",
       "4         5  Henry IV               1.0        1.1.2  KING HENRY IV   \n",
       "\n",
       "                                          PlayerLine  \n",
       "0                                              ACT I  \n",
       "1                       SCENE I. London. The palace.  \n",
       "2  Enter KING HENRY, LORD JOHN OF LANCASTER, the ...  \n",
       "3             So shaken as we are, so wan with care,  \n",
       "4         Find we a time for frighted peace to pant,  "
      ]
     },
     "execution_count": 5,
     "metadata": {},
     "output_type": "execute_result"
    }
   ],
   "source": [
    "shakes_df.head()"
   ]
  },
  {
   "cell_type": "code",
   "execution_count": 8,
   "metadata": {},
   "outputs": [
    {
     "name": "stdout",
     "output_type": "stream",
     "text": [
      "<class 'pandas.core.frame.DataFrame'>\n",
      "RangeIndex: 111396 entries, 0 to 111395\n",
      "Data columns (total 6 columns):\n",
      "Dataline            111396 non-null int64\n",
      "Play                111396 non-null object\n",
      "PlayerLinenumber    111393 non-null float64\n",
      "ActSceneLine        105153 non-null object\n",
      "Player              111389 non-null object\n",
      "PlayerLine          111396 non-null object\n",
      "dtypes: float64(1), int64(1), object(4)\n",
      "memory usage: 5.1+ MB\n"
     ]
    }
   ],
   "source": [
    "shakes_df.info()"
   ]
  },
  {
   "cell_type": "code",
   "execution_count": 12,
   "metadata": {},
   "outputs": [
    {
     "data": {
      "text/plain": [
       "array([nan, 'KING HENRY IV', 'WESTMORELAND', 'FALSTAFF', 'PRINCE HENRY',\n",
       "       'POINS', 'EARL OF WORCESTER', 'NORTHUMBERLAND', 'HOTSPUR',\n",
       "       'SIR WALTER BLUNT', 'First Carrier', 'Ostler', 'Second Carrier',\n",
       "       'GADSHILL', 'Chamberlain', 'BARDOLPH', 'PETO', 'First Traveller',\n",
       "       'Thieves', 'Travellers', 'LADY PERCY', 'Servant', 'FRANCIS',\n",
       "       'Vintner', 'Hostess', 'Sheriff', 'Carrier', 'MORTIMER',\n",
       "       'GLENDOWER', 'EARL OF DOUGLAS', 'Messenger', 'VERNON', 'WORCESTER',\n",
       "       'ARCHBISHOP OF YORK', 'SIR MICHAEL', 'LANCASTER', 'BEDFORD',\n",
       "       'GLOUCESTER', 'EXETER', 'OF WINCHESTER', 'CHARLES', 'ALENCON',\n",
       "       'REIGNIER', 'BASTARD OF ORLEANS', 'JOAN LA PUCELLE',\n",
       "       'First Warder', 'Second Warder', 'WOODVILE', 'Mayor', 'Officer',\n",
       "       'Boy', 'SALISBURY', 'TALBOT', 'GARGRAVE', 'GLANSDALE', 'Sergeant',\n",
       "       'First Sentinel', 'BURGUNDY', 'Sentinels', 'Soldier', 'Captain',\n",
       "       'OF AUVERGNE', 'Porter', 'PLANTAGENET', 'SUFFOLK', 'SOMERSET',\n",
       "       'WARWICK', 'Lawyer', 'First Gaoler', 'KING HENRY VI', 'ALL',\n",
       "       'First Soldier', 'Watch', 'FASTOLFE', 'BASSET', 'YORK', 'General',\n",
       "       'LUCY', 'JOHN TALBOT', 'Legate', 'Scout', 'MARGARET', 'SU FFOLK',\n",
       "       'Shepherd', 'QUEEN MARGARET', 'CARDINAL', 'BUCKINGHAM', 'DUCHESS',\n",
       "       'HUME', 'First Petitioner', 'Second Petitioner', 'PETER', 'HORNER',\n",
       "       'BOLINGBROKE', 'Spirit', 'MARGARET JOURDAIN', 'Townsman',\n",
       "       'SIMPCOX', 'Wife', 'Beadle', 'BOTH', 'First Neighbour',\n",
       "       'Second Neighbour', 'Third Neighbour', 'Servants', 'Herald',\n",
       "       'STANLEY', 'Post', 'First Murderer', 'Second Murderer',\n",
       "       'First Murder', 'Commons', 'VAUX', 'First Gentleman', 'Master',\n",
       "       'Second Gentleman', 'WHITMORE', 'BEVIS', 'HOLLAND', 'CADE', 'DICK',\n",
       "       'SMITH', 'Clerk', 'CLERK', 'MICHAEL', 'SIR HUMPHREY',\n",
       "       'WILLIAM STAFFORD', 'SAY', 'SCALES', 'First Citizen', 'CLIFFORD',\n",
       "       'IDEN', 'EDWARD', 'RICHARD', 'YOUNG CLIFFORD', 'MONTAGUE',\n",
       "       'NORFOLK', 'PRINCE EDWARD', 'JOHN MORTIMER', 'RUTLAND', 'Tutor',\n",
       "       'PRINCE', 'GEORGE', 'Son', 'Father', 'First Keeper',\n",
       "       'Second Keeper', 'KING EDWARD IV', 'CLARENCE', 'LADY GREY',\n",
       "       'Nobleman', 'KING LEWIS XI', 'OXFORD', 'BONA', 'HASTINGS',\n",
       "       'QUEEN ELIZABETH', 'First Watchman', 'Second Watchman',\n",
       "       'Third Watchman', 'RIVERS', 'Huntsman', 'Lieutenant', 'All',\n",
       "       'First Messenger', 'Second Messenger', 'COUNTESS', 'BERTRAM',\n",
       "       'LAFEU', 'HELENA', 'PAROLLES', 'Page', 'KING', 'First Lord',\n",
       "       'Second Lord', 'Steward', 'Clown', 'Both', 'Fourth Lord', 'DUKE',\n",
       "       'Widow', 'DIANA', 'MARIANA', 'Second Soldier', 'Gentleman',\n",
       "       'ORLANDO', 'ADAM', 'OLIVER', 'DENNIS', 'CELIA', 'ROSALIND',\n",
       "       'TOUCHSTONE', 'LE BEAU', 'DUKE FREDERICK', 'DUKE SENIOR', 'AMIENS',\n",
       "       'CORIN', 'SILVIUS', 'JAQUES', 'AUDREY', 'SIR OLIVER MARTEXT',\n",
       "       'PHEBE', 'A Lord', 'Forester', 'WILLIAM', 'First Page',\n",
       "       'Second Page', 'HYMEN', 'JAQUES DE BOYS', 'PHILO', 'CLEOPATRA',\n",
       "       'MARK ANTONY', 'Attendant', 'DEMETRIUS', 'CHARMIAN', 'ALEXAS',\n",
       "       'Soothsayer', 'DOMITIUS ENOBARBUS', 'IRAS', 'First Attendant',\n",
       "       'Second Attendant', 'OCTAVIUS CAESAR', 'LEPIDUS', 'MARDIAN',\n",
       "       'POMPEY', 'MENECRATES', 'MENAS', 'VARRIUS', 'MECAENAS', 'AGRIPPA',\n",
       "       'OCTAVIA', 'Attendants', 'First Servant', 'Second Servant',\n",
       "       'VENTIDIUS', 'SILIUS', 'EROS', 'CANIDIUS', 'TAURUS', 'SCARUS',\n",
       "       'DOLABELLA', 'EUPHRONIUS', 'THYREUS', 'Third Soldier',\n",
       "       'Fourth Soldier', 'First Guard', 'Second Guard', 'Third Guard',\n",
       "       'DERCETAS', 'DIOMEDES', 'Egyptian', 'PROCULEIUS', 'GALLUS',\n",
       "       'SELEUCUS', 'Guard', 'AEGEON', 'DUKE SOLINUS', 'Gaoler',\n",
       "       'First Merchant', 'OF SYRACUSE', 'DROMIO OF SYRACUSE',\n",
       "       'DROMIO OF EPHESUS', 'ADRIANA', 'LUCIANA', 'OF EPHESUS',\n",
       "       'BALTHAZAR', 'LUCE', 'ANTIPHOLUS', 'ANGELO', 'Second Merchant',\n",
       "       'Courtezan', 'PINCH', 'AEMELIA', 'Second Citizen', 'MENENIUS',\n",
       "       'MARCIUS', 'First Senator', 'COMINIUS', 'TITUS', 'SICINIUS',\n",
       "       'BRUTUS', 'AUFIDIUS', 'Second Senator', 'VOLUMNIA', 'VIRGILIA',\n",
       "       'Gentlewoman', 'VALERIA', 'LARTIUS', 'First Roman', 'Second Roman',\n",
       "       'Third Roman', 'CORIOLANUS', 'First Officer', 'Second Officer',\n",
       "       'Senators', 'Third Citizen', 'Fourth Citizen', 'Fifth Citizen',\n",
       "       'Both Citizens', 'Sixth Citizen', 'Seventh Citizen',\n",
       "       'All Citizens', 'Citizens', 'AEdile', 'A Patrician',\n",
       "       'Second Patrician', 'Both Tribunes', 'Roman', 'Volsce', 'Citizen',\n",
       "       'First Servingman', 'Second Servingman', 'Third Servingman',\n",
       "       'Young MARCIUS', 'First Conspirator', 'Second Conspirator',\n",
       "       'Third Conspirator', 'All The Lords', 'Lords', 'All Conspirators',\n",
       "       'All The People', 'Third Lord', 'QUEEN', 'POSTHUMUS LEONATUS',\n",
       "       'IMOGEN', 'CYMBELINE', 'PISANIO', 'CLOTEN', 'Lady', 'IACHIMO',\n",
       "       'PHILARIO', 'Frenchman', 'First Lady', 'CORNELIUS', 'CAIUS LUCIUS',\n",
       "       'BELARIUS', 'GUIDERIUS', 'ARVIRAGUS', 'First Tribune', 'Lord',\n",
       "       'First Captain', 'Second Captain', 'Second Gaoler',\n",
       "       'Sicilius Leonatus', 'Mother', 'First Brother', 'Second Brother',\n",
       "       'Jupiter', 'Posthumus Leonatus', 'BERNARDO', 'FRANCISCO',\n",
       "       'HORATIO', 'MARCELLUS', 'KING CLAUDIUS', 'VOLTIMAND', 'LAERTES',\n",
       "       'LORD POLONIUS', 'HAMLET', 'QUEEN GERTRUDE', 'OPHELIA', 'Ghost',\n",
       "       'REYNALDO', 'ROSENCRANTZ', 'GUILDENSTERN', 'First Player',\n",
       "       'Prologue', 'Player King', 'Player Queen', 'LUCIANUS',\n",
       "       'PRINCE FORTINBRAS', 'Danes', 'First Sailor', 'First Clown',\n",
       "       'Second Clown', 'First Priest', 'OSRIC', 'First Ambassador',\n",
       "       'Chorus', 'CANTERBURY', 'ELY', 'KING HENRY V', 'NYM', 'PISTOL',\n",
       "       'SCROOP', 'CAMBRIDGE', 'GREY', 'KING OF FRANCE', 'DAUPHIN',\n",
       "       'Constable', 'FLUELLEN', 'GOWER', 'JAMY', 'MACMORRIS', 'GOVERNOR',\n",
       "       'KATHARINE', 'ALICE', 'BOURBON', 'MONTJOY', 'ORLEANS', 'RAMBURES',\n",
       "       'ERPINGHAM', 'COURT', 'BATES', 'WILLIAMS', 'GRANDPRE',\n",
       "       'French Soldier', 'QUEEN ISABEL', 'FRENCH KING', 'ABERGAVENNY',\n",
       "       'CARDINAL WOLSEY', 'First Secretary', 'BRANDON', 'KING HENRY VIII',\n",
       "       'QUEEN KATHARINE', 'Surveyor', 'SANDS', 'LOVELL', 'GUILDFORD',\n",
       "       'ANNE', 'CARDINAL CAMPEIUS', 'GARDINER', 'Old Lady', 'Scribe',\n",
       "       'Crier', 'GRIFFITH', 'LINCOLN', 'SURREY', 'CROMWELL',\n",
       "       'Third Gentleman', 'PATIENCE', 'CAPUCIUS', 'DENNY', 'CRANMER',\n",
       "       'Keeper', 'DOCTOR BUTTS', 'Chancellor', 'Man', 'Garter',\n",
       "       'KING JOHN', 'CHATILLON', 'QUEEN ELINOR', 'ESSEX', 'BASTARD',\n",
       "       'ROBERT', 'LADY FAULCONBRIDGE', 'GURNEY', 'LEWIS', 'ARTHUR',\n",
       "       'AUSTRIA', 'CONSTANCE', 'KING PHILIP', 'BLANCH', 'French Herald',\n",
       "       'English Herald', 'CARDINAL PANDULPH', 'ELINOR', 'HUBERT',\n",
       "       'First Executioner', 'PEMBROKE', 'BIGOT', 'MELUN', 'FLAVIUS',\n",
       "       'First Commoner', 'MARULLUS', 'Second Commoner', 'CAESAR', 'CASCA',\n",
       "       'CALPURNIA', 'ANTONY', 'CASSIUS', 'CICERO', 'CINNA', 'LUCIUS',\n",
       "       'DECIUS BRUTUS', 'METELLUS CIMBER', 'TREBONIUS', 'PORTIA',\n",
       "       'LIGARIUS', 'PUBLIUS', 'ARTEMIDORUS', 'POPILIUS',\n",
       "       'Several Citizens', 'CINNA THE POET', 'OCTAVIUS', 'LUCILIUS',\n",
       "       'PINDARUS', 'Poet', 'MESSALA', 'VARRO', 'GHOST', 'CLAUDIUS',\n",
       "       'TITINIUS', 'CATO', 'CLITUS', 'DARDANIUS', 'VOLUMNIUS', 'STRATO',\n",
       "       'KENT', 'EDMUND', 'KING LEAR', 'GONERIL', 'CORDELIA', 'LEAR',\n",
       "       'REGAN', 'CORNWALL', 'EDGAR', 'OSWALD', 'Knight', 'Fool', 'ALBANY',\n",
       "       'CURAN', 'Third Servant', 'Old Man', 'Doctor', 'FERDINAND',\n",
       "       'LONGAVILLE', 'DUMAIN', 'BIRON', 'DULL', 'COSTARD',\n",
       "       'ADRIANO DE ARMADO', 'MOTH', 'ARMADO', 'JAQUENETTA', 'BOYET',\n",
       "       'PRINCESS', 'MARIA', 'ROSALINE', 'SIR NATHANIEL', 'HOLOFERNES',\n",
       "       'MERCADE', 'First Witch', 'Second Witch', 'Third Witch', 'DUNCAN',\n",
       "       'MALCOLM', 'LENNOX', 'ROSS', 'MACBETH', 'BANQUO', 'ANGUS',\n",
       "       'LADY MACBETH', 'FLEANCE', 'MACDUFF', 'DONALBAIN', 'ATTENDANT',\n",
       "       'Both Murderers', 'Third Murderer', 'HECATE', 'First Apparition',\n",
       "       'Second Apparition', 'Third Apparition', 'LADY MACDUFF',\n",
       "       'MENTEITH', 'CAITHNESS', 'SEYTON', 'SIWARD', 'Soldiers',\n",
       "       'YOUNG SIWARD', 'DUKE VINCENTIO', 'ESCALUS', 'LUCIO',\n",
       "       'MISTRESS OVERDONE', 'CLAUDIO', 'Provost', 'FRIAR THOMAS',\n",
       "       'ISABELLA', 'FRANCISCA', 'ELBOW', 'FROTH', 'POMPHEY', 'Justice',\n",
       "       'JULIET', 'ABHORSON', 'BARNARDINE', 'FRIAR PETER', 'ANTONIO',\n",
       "       'SALARINO', 'SALANIO', 'BASSANIO', 'LORENZO', 'GRATIANO',\n",
       "       'NERISSA', 'SHYLOCK', 'MOROCCO', 'LAUNCELOT', 'GOBBO', 'LEONARDO',\n",
       "       'JESSICA', 'ARRAGON', 'TUBAL', 'SALERIO', 'BALTHASAR', 'STEPHANO',\n",
       "       'SHALLOW', 'SLENDER', 'SIR HUGH EVANS', 'PAGE', 'SIMPLE',\n",
       "       'ANNE PAGE', 'Host', 'MISTRESS QUICKLY', 'RUGBY', 'DOCTOR CAIUS',\n",
       "       'FENTON', 'MISTRESS PAGE', 'MISTRESS FORD', 'FORD', 'ROBIN',\n",
       "       'WILLIAM PAGE', 'THESEUS', 'HIPPOLYTA', 'EGEUS', 'HERMIA',\n",
       "       'LYSANDER', 'QUINCE', 'BOTTOM', 'FLUTE', 'STARVELING', 'SNOUT',\n",
       "       'SNUG', 'PUCK', 'Fairy', 'OBERON', 'TITANIA', 'PEASEBLOSSOM',\n",
       "       'COBWEB', 'MUSTARDSEED', 'HERNIA', 'PHILOSTRATE', 'Wall',\n",
       "       'Pyramus', 'Thisbe', 'Lion', 'Moonshine', 'LEONATO', 'BEATRICE',\n",
       "       'HERO', 'DON PEDRO', 'BENEDICK', 'DON JOHN', 'CONRADE', 'BORACHIO',\n",
       "       'URSULA', 'DOGBERRY', 'VERGES', 'Watchman', 'FRIAR FRANCIS',\n",
       "       'Sexton', 'RODERIGO', 'IAGO', 'BRABANTIO', 'OTHELLO', 'CASSIO',\n",
       "       'DUKE OF VENICE', 'Sailor', 'Senator', 'DESDEMONA', 'MONTANO',\n",
       "       'Fourth Gentleman', 'Second Gentlemen', 'EMILIA', 'First Musician',\n",
       "       'BIANCA', 'LODOVICO', 'ANTIOCHUS', 'PERICLES', 'Daughter',\n",
       "       'THALIARD', 'HELICANUS', 'CLEON', 'DIONYZA', 'First Fisherman',\n",
       "       'Second Fisherman', 'Third Fisherman', 'SIMONIDES', 'THAISA',\n",
       "       'KNIGHTS', 'Marshal', 'First Knight', 'Knights', 'ESCANES',\n",
       "       'Second Knight', 'Third Knight', 'LYCHORIDA', 'Second Sailor',\n",
       "       'CERIMON', 'PHILEMON', 'LEONINE', 'MARINA', 'First Pirate',\n",
       "       'Second Pirate', 'Third Pirate', 'Pandar', 'BOULT', 'Bawd',\n",
       "       'LYSIMACHUS', 'Tyrian Sailor', 'KING RICHARD II', 'JOHN OF GAUNT',\n",
       "       'HENRY BOLINGBROKE', 'THOMAS MOWBRAY', 'Lord Marshal',\n",
       "       'DUKE OF AUMERLE', 'First Herald', 'Second Herald', 'GREEN',\n",
       "       'BUSHY', 'DUKE OF YORK', 'LORD ROSS', 'LORD WILLOUGHBY', 'BAGOT',\n",
       "       'HENRY PERCY', 'LORD BERKELEY', 'EARL OF SALISBURY',\n",
       "       'BISHOP OF CARLISLE', 'SIR STEPHEN SCROOP', 'Gardener', 'GARDENER',\n",
       "       'LORD FITZWATER', 'DUKE OF SURREY', 'Abbot', 'DUCHESS OF YORK',\n",
       "       'EXTON', 'Groom', 'BRAKENBURY', 'LADY ANNE', 'GENTLEMEN', 'DERBY',\n",
       "       'DORSET', 'CATESBY', 'Second murderer', 'Girl', 'Children',\n",
       "       'Lord Mayor', 'LORD STANLEY', 'Pursuivant', 'Priest', 'RATCLIFF',\n",
       "       'VAUGHAN', 'BISHOP OF ELY', 'LOVEL', 'Scrivener', 'ANOTHER',\n",
       "       'KING RICHARD III', 'TYRREL', 'Third Messenger',\n",
       "       'Fourth Messenger', 'CHRISTOPHER', 'RICHMOND', 'HERBERT', 'BLUNT',\n",
       "       'of Prince Edward', 'of King Henry VI', 'Ghost of CLARENCE',\n",
       "       'Ghost of RIVERS', 'Ghost of GREY', 'Ghost of VAUGHAN',\n",
       "       'Ghost of HASTINGS', 'of young Princes', 'Ghost of LADY ANNE',\n",
       "       'of BUCKINGHAM', 'LORDS', 'SAMPSON', 'GREGORY', 'ABRAHAM',\n",
       "       'BENVOLIO', 'TYBALT', 'CAPULET', 'LADY CAPULET', 'LADY MONTAGUE',\n",
       "       'ROMEO', 'PARIS', 'Nurse', 'MERCUTIO', 'Second Capulet',\n",
       "       'FRIAR LAURENCE', 'NURSE', 'LADY  CAPULET', 'Second Musician',\n",
       "       'Musician', 'Third Musician', 'Apothecary', 'FRIAR JOHN', 'SLY',\n",
       "       'First Huntsman', 'Second Huntsman', 'Players', 'A Player',\n",
       "       'LUCENTIO', 'TRANIO', 'BAPTISTA', 'GREMIO', 'KATHARINA',\n",
       "       'HORTENSIO', 'HORTENSIA', 'BIONDELLO', 'PETRUCHIO', 'GRUMIO',\n",
       "       'KATARINA', 'CURTIS', 'NATHANIEL', 'PHILIP', 'JOSEPH', 'NICHOLAS',\n",
       "       'Pedant', 'Haberdasher', 'Tailor', 'VINCENTIO', 'Boatswain',\n",
       "       'ALONSO', 'GONZALO', 'SEBASTIAN', 'Mariners', 'MIRANDA',\n",
       "       'PROSPERO', 'ARIEL', 'CALIBAN', 'ADRIAN', 'TRINCULO', 'IRIS',\n",
       "       'CERES', 'JUNO', 'Painter', 'Merchant', 'Jeweller', 'TIMON',\n",
       "       'Old Athenian', 'APEMANTUS', 'ALCIBIADES', 'Cupid', 'All Ladies',\n",
       "       'All Lords', 'CAPHIS', 'All Servants', 'FLAMINIUS', 'LUCULLUS',\n",
       "       'First Stranger', 'Second Stranger', 'SERVILIUS', 'Third Stranger',\n",
       "       'SEMPRONIUS', 'HORTENSIUS', 'PHILOTUS', 'Third Senator',\n",
       "       'Some Speak', 'Some Others', 'PHRYNIA', 'TIMANDRA', 'First Bandit',\n",
       "       'Second Bandit', 'Third Bandit', 'Banditti', 'SATURNINUS',\n",
       "       'BASSIANUS', 'MARCUS ANDRONICUS', 'TITUS ANDRONICUS', 'TAMORA',\n",
       "       'CHIRON', 'LAVINIA', 'Tribunes', 'MUTIUS', 'MARTIUS', 'QUINTUS',\n",
       "       'AARON', 'MARCUS', 'Young LUCIUS', 'AEMILIUS', 'First Goth',\n",
       "       'All the Goths', 'Second Goth', 'Third Goth', 'TROILUS',\n",
       "       'PANDARUS', 'AENEAS', 'CRESSIDA', 'ALEXANDER', 'AGAMEMNON',\n",
       "       'NESTOR', 'ULYSSES', 'MENELAUS', 'AJAX', 'THERSITES', 'ACHILLES',\n",
       "       'PATROCLUS', 'PRIAM', 'HECTOR', 'HELENUS', 'CASSANDRA', 'HELEN',\n",
       "       'CALCHAS', 'DEIPHOBUS', 'ANDROMACHE', 'MARGARELON', 'MYRMIDONS',\n",
       "       'DUKE ORSINO', 'CURIO', 'VALENTINE', 'VIOLA', 'SIR TOBY BELCH',\n",
       "       'SIR ANDREW', 'OLIVIA', 'MALVOLIO', 'FABIAN', 'PROTEUS', 'SPEED',\n",
       "       'JULIA', 'LUCETTA', 'PANTHINO', 'SILVIA', 'LAUNCE', 'THURIO',\n",
       "       'First Outlaw', 'Second Outlaw', 'Third Outlaw', 'EGLAMOUR',\n",
       "       'Outlaws', 'ARCHIDAMUS', 'CAMILLO', 'POLIXENES', 'LEONTES',\n",
       "       'HERMIONE', 'MAMILLIUS', 'Second Lady', 'ANTIGONUS', 'PAULINA',\n",
       "       'CLEOMENES', 'DION', 'Mariner', 'Time', 'AUTOLYCUS', 'FLORIZEL',\n",
       "       'PERDITA', 'DORCAS', 'MOPSA', 'Shepard'], dtype=object)"
      ]
     },
     "execution_count": 12,
     "metadata": {},
     "output_type": "execute_result"
    }
   ],
   "source": [
    "shakes_df.Player.unique()"
   ]
  },
  {
   "cell_type": "code",
   "execution_count": 13,
   "metadata": {},
   "outputs": [],
   "source": [
    "# Based on initial observation, I assume that it is necessary to discard the rows that have no Player data\n",
    "# This is because we don't want our model to learn NaN as an answer\n",
    "# The model should only answer concrete characters in the play"
   ]
  },
  {
   "cell_type": "code",
   "execution_count": 14,
   "metadata": {},
   "outputs": [],
   "source": [
    "# Now I want to see what type of data there are in the rows that NaN in Player\n",
    "# I want to do this to see which data I would lose if I drop these rows"
   ]
  },
  {
   "cell_type": "code",
   "execution_count": 17,
   "metadata": {},
   "outputs": [
    {
     "data": {
      "text/html": [
       "<div>\n",
       "<style scoped>\n",
       "    .dataframe tbody tr th:only-of-type {\n",
       "        vertical-align: middle;\n",
       "    }\n",
       "\n",
       "    .dataframe tbody tr th {\n",
       "        vertical-align: top;\n",
       "    }\n",
       "\n",
       "    .dataframe thead th {\n",
       "        text-align: right;\n",
       "    }\n",
       "</style>\n",
       "<table border=\"1\" class=\"dataframe\">\n",
       "  <thead>\n",
       "    <tr style=\"text-align: right;\">\n",
       "      <th></th>\n",
       "      <th>Dataline</th>\n",
       "      <th>Play</th>\n",
       "      <th>PlayerLinenumber</th>\n",
       "      <th>ActSceneLine</th>\n",
       "      <th>Player</th>\n",
       "      <th>PlayerLine</th>\n",
       "    </tr>\n",
       "  </thead>\n",
       "  <tbody>\n",
       "    <tr>\n",
       "      <th>0</th>\n",
       "      <td>1</td>\n",
       "      <td>Henry IV</td>\n",
       "      <td>NaN</td>\n",
       "      <td>NaN</td>\n",
       "      <td>NaN</td>\n",
       "      <td>ACT I</td>\n",
       "    </tr>\n",
       "    <tr>\n",
       "      <th>1</th>\n",
       "      <td>2</td>\n",
       "      <td>Henry IV</td>\n",
       "      <td>NaN</td>\n",
       "      <td>NaN</td>\n",
       "      <td>NaN</td>\n",
       "      <td>SCENE I. London. The palace.</td>\n",
       "    </tr>\n",
       "    <tr>\n",
       "      <th>2</th>\n",
       "      <td>3</td>\n",
       "      <td>Henry IV</td>\n",
       "      <td>NaN</td>\n",
       "      <td>NaN</td>\n",
       "      <td>NaN</td>\n",
       "      <td>Enter KING HENRY, LORD JOHN OF LANCASTER, the ...</td>\n",
       "    </tr>\n",
       "    <tr>\n",
       "      <th>2015</th>\n",
       "      <td>2016</td>\n",
       "      <td>Henry IV</td>\n",
       "      <td>10.0</td>\n",
       "      <td>NaN</td>\n",
       "      <td>NaN</td>\n",
       "      <td>Eastcheap. The Boar's-Head Tavern.</td>\n",
       "    </tr>\n",
       "    <tr>\n",
       "      <th>2016</th>\n",
       "      <td>2017</td>\n",
       "      <td>Henry IV</td>\n",
       "      <td>10.0</td>\n",
       "      <td>NaN</td>\n",
       "      <td>NaN</td>\n",
       "      <td>Enter FALSTAFF and BARDOLPH</td>\n",
       "    </tr>\n",
       "    <tr>\n",
       "      <th>29459</th>\n",
       "      <td>29460</td>\n",
       "      <td>Cymbeline</td>\n",
       "      <td>7.0</td>\n",
       "      <td>2.2.55</td>\n",
       "      <td>NaN</td>\n",
       "      <td>An ante-chamber adjoining Imogen's apartments.</td>\n",
       "    </tr>\n",
       "    <tr>\n",
       "      <th>29460</th>\n",
       "      <td>29461</td>\n",
       "      <td>Cymbeline</td>\n",
       "      <td>7.0</td>\n",
       "      <td>NaN</td>\n",
       "      <td>NaN</td>\n",
       "      <td>Enter CLOTEN and Lords</td>\n",
       "    </tr>\n",
       "  </tbody>\n",
       "</table>\n",
       "</div>"
      ],
      "text/plain": [
       "       Dataline       Play  PlayerLinenumber ActSceneLine Player  \\\n",
       "0             1   Henry IV               NaN          NaN    NaN   \n",
       "1             2   Henry IV               NaN          NaN    NaN   \n",
       "2             3   Henry IV               NaN          NaN    NaN   \n",
       "2015       2016   Henry IV              10.0          NaN    NaN   \n",
       "2016       2017   Henry IV              10.0          NaN    NaN   \n",
       "29459     29460  Cymbeline               7.0       2.2.55    NaN   \n",
       "29460     29461  Cymbeline               7.0          NaN    NaN   \n",
       "\n",
       "                                              PlayerLine  \n",
       "0                                                  ACT I  \n",
       "1                           SCENE I. London. The palace.  \n",
       "2      Enter KING HENRY, LORD JOHN OF LANCASTER, the ...  \n",
       "2015                  Eastcheap. The Boar's-Head Tavern.  \n",
       "2016                         Enter FALSTAFF and BARDOLPH  \n",
       "29459     An ante-chamber adjoining Imogen's apartments.  \n",
       "29460                             Enter CLOTEN and Lords  "
      ]
     },
     "execution_count": 17,
     "metadata": {},
     "output_type": "execute_result"
    }
   ],
   "source": [
    "shakes_df[shakes_df.Player.isna()]"
   ]
  },
  {
   "cell_type": "code",
   "execution_count": 18,
   "metadata": {},
   "outputs": [],
   "source": [
    "# So far I believe that I should drop all of these rows, they do not provide any useful data to guessing the character\n",
    "# If we do this then we drop all the rows in PlayerLineNumber that are NaN too"
   ]
  },
  {
   "cell_type": "code",
   "execution_count": 19,
   "metadata": {},
   "outputs": [],
   "source": [
    "# Now I want to see which kind of data there is in the rows that have NaN values for ActSceneLine \n",
    "# Maybe there is something useful there to predict the character\n",
    "# I still want to make sure that there isn't a lot of NaN values for Players within this subset of the dataframe"
   ]
  },
  {
   "cell_type": "code",
   "execution_count": 24,
   "metadata": {},
   "outputs": [
    {
     "data": {
      "text/html": [
       "<div>\n",
       "<style scoped>\n",
       "    .dataframe tbody tr th:only-of-type {\n",
       "        vertical-align: middle;\n",
       "    }\n",
       "\n",
       "    .dataframe tbody tr th {\n",
       "        vertical-align: top;\n",
       "    }\n",
       "\n",
       "    .dataframe thead th {\n",
       "        text-align: right;\n",
       "    }\n",
       "</style>\n",
       "<table border=\"1\" class=\"dataframe\">\n",
       "  <thead>\n",
       "    <tr style=\"text-align: right;\">\n",
       "      <th></th>\n",
       "      <th>Dataline</th>\n",
       "      <th>Play</th>\n",
       "      <th>PlayerLinenumber</th>\n",
       "      <th>ActSceneLine</th>\n",
       "      <th>Player</th>\n",
       "      <th>PlayerLine</th>\n",
       "    </tr>\n",
       "  </thead>\n",
       "  <tbody>\n",
       "    <tr>\n",
       "      <th>0</th>\n",
       "      <td>1</td>\n",
       "      <td>Henry IV</td>\n",
       "      <td>NaN</td>\n",
       "      <td>NaN</td>\n",
       "      <td>NaN</td>\n",
       "      <td>ACT I</td>\n",
       "    </tr>\n",
       "    <tr>\n",
       "      <th>1</th>\n",
       "      <td>2</td>\n",
       "      <td>Henry IV</td>\n",
       "      <td>NaN</td>\n",
       "      <td>NaN</td>\n",
       "      <td>NaN</td>\n",
       "      <td>SCENE I. London. The palace.</td>\n",
       "    </tr>\n",
       "    <tr>\n",
       "      <th>2</th>\n",
       "      <td>3</td>\n",
       "      <td>Henry IV</td>\n",
       "      <td>NaN</td>\n",
       "      <td>NaN</td>\n",
       "      <td>NaN</td>\n",
       "      <td>Enter KING HENRY, LORD JOHN OF LANCASTER, the ...</td>\n",
       "    </tr>\n",
       "    <tr>\n",
       "      <th>2015</th>\n",
       "      <td>2016</td>\n",
       "      <td>Henry IV</td>\n",
       "      <td>10.0</td>\n",
       "      <td>NaN</td>\n",
       "      <td>NaN</td>\n",
       "      <td>Eastcheap. The Boar's-Head Tavern.</td>\n",
       "    </tr>\n",
       "    <tr>\n",
       "      <th>2016</th>\n",
       "      <td>2017</td>\n",
       "      <td>Henry IV</td>\n",
       "      <td>10.0</td>\n",
       "      <td>NaN</td>\n",
       "      <td>NaN</td>\n",
       "      <td>Enter FALSTAFF and BARDOLPH</td>\n",
       "    </tr>\n",
       "    <tr>\n",
       "      <th>29460</th>\n",
       "      <td>29461</td>\n",
       "      <td>Cymbeline</td>\n",
       "      <td>7.0</td>\n",
       "      <td>NaN</td>\n",
       "      <td>NaN</td>\n",
       "      <td>Enter CLOTEN and Lords</td>\n",
       "    </tr>\n",
       "  </tbody>\n",
       "</table>\n",
       "</div>"
      ],
      "text/plain": [
       "       Dataline       Play  PlayerLinenumber ActSceneLine Player  \\\n",
       "0             1   Henry IV               NaN          NaN    NaN   \n",
       "1             2   Henry IV               NaN          NaN    NaN   \n",
       "2             3   Henry IV               NaN          NaN    NaN   \n",
       "2015       2016   Henry IV              10.0          NaN    NaN   \n",
       "2016       2017   Henry IV              10.0          NaN    NaN   \n",
       "29460     29461  Cymbeline               7.0          NaN    NaN   \n",
       "\n",
       "                                              PlayerLine  \n",
       "0                                                  ACT I  \n",
       "1                           SCENE I. London. The palace.  \n",
       "2      Enter KING HENRY, LORD JOHN OF LANCASTER, the ...  \n",
       "2015                  Eastcheap. The Boar's-Head Tavern.  \n",
       "2016                         Enter FALSTAFF and BARDOLPH  \n",
       "29460                             Enter CLOTEN and Lords  "
      ]
     },
     "execution_count": 24,
     "metadata": {},
     "output_type": "execute_result"
    }
   ],
   "source": [
    "shakes_df[shakes_df.ActSceneLine.isna() & shakes_df.Player.isna()]"
   ]
  },
  {
   "cell_type": "code",
   "execution_count": 25,
   "metadata": {},
   "outputs": [],
   "source": [
    "# There are only 5 NaN Players within this subset, therefore I will leave the ActSceneLine nan rows in its place"
   ]
  },
  {
   "cell_type": "code",
   "execution_count": 29,
   "metadata": {},
   "outputs": [],
   "source": [
    "shakes_df.dropna(subset=['Player'], inplace=True)"
   ]
  },
  {
   "cell_type": "code",
   "execution_count": 30,
   "metadata": {},
   "outputs": [],
   "source": [
    "# Might want to drop the Dataline column entirely since it doesn't provide any value\n",
    "# Also it would be useful to hotshot encode the Play \n",
    "# For this we would need to find out how many plays there are"
   ]
  },
  {
   "cell_type": "markdown",
   "metadata": {},
   "source": [
    "shakes_df.Play.unique()"
   ]
  },
  {
   "cell_type": "code",
   "execution_count": 34,
   "metadata": {},
   "outputs": [],
   "source": [
    "shakes_corr = shakes_df.corr()"
   ]
  },
  {
   "cell_type": "code",
   "execution_count": 36,
   "metadata": {},
   "outputs": [],
   "source": [
    "mask = np.zeros_like(shakes_corr, dtype=np.bool)\n",
    "mask[np.triu_indices_from(mask)] = True"
   ]
  },
  {
   "cell_type": "code",
   "execution_count": 38,
   "metadata": {},
   "outputs": [
    {
     "data": {
      "text/plain": [
       "<matplotlib.axes._subplots.AxesSubplot at 0x11c151e48>"
      ]
     },
     "execution_count": 38,
     "metadata": {},
     "output_type": "execute_result"
    },
    {
     "data": {
      "image/png": "[encoded data removed]",
      "text/plain": [
       "<Figure size 792x648 with 2 Axes>"
      ]
     },
     "metadata": {
      "needs_background": "light"
     },
     "output_type": "display_data"
    }
   ],
   "source": [
    "f, ax = plt.subplots(figsize=(11,9))\n",
    "cmap = sns.diverging_palette(220, 10, as_cmap=True)\n",
    "sns.heatmap(shakes_corr, mask=mask, cmap=cmap, vmax=.3, center=0,\n",
    "            square=True, linewidths=.5, cbar_kws={\"shrink\": .5})"
   ]
  },
  {
   "cell_type": "code",
   "execution_count": 39,
   "metadata": {},
   "outputs": [],
   "source": [
    "# At this point, plotting a correlation graph is not useful at all, I need to fix the data more\n",
    "# Some ideas that I have are to get the PlayerLine length for a column and also the amount of words in each line.\n",
    "# Also to perform some sort of oneshot enconding in the Play column\n",
    "# I still need to come up with ways how to take advantage of the PlayerLineNumber and the ActSceneLineNumber columns\n",
    "# Maybe some sentiment analysis on the line column would help a lot\n",
    "# If there would be a way to extract special words each character uses, that would help a ton more, I need to figure out if I can do this"
   ]
  },
  {
   "cell_type": "code",
   "execution_count": 41,
   "metadata": {},
   "outputs": [
    {
     "data": {
      "text/html": [
       "<div>\n",
       "<style scoped>\n",
       "    .dataframe tbody tr th:only-of-type {\n",
       "        vertical-align: middle;\n",
       "    }\n",
       "\n",
       "    .dataframe tbody tr th {\n",
       "        vertical-align: top;\n",
       "    }\n",
       "\n",
       "    .dataframe thead th {\n",
       "        text-align: right;\n",
       "    }\n",
       "</style>\n",
       "<table border=\"1\" class=\"dataframe\">\n",
       "  <thead>\n",
       "    <tr style=\"text-align: right;\">\n",
       "      <th></th>\n",
       "      <th>Dataline</th>\n",
       "      <th>Play</th>\n",
       "      <th>PlayerLinenumber</th>\n",
       "      <th>ActSceneLine</th>\n",
       "      <th>Player</th>\n",
       "      <th>PlayerLine</th>\n",
       "    </tr>\n",
       "  </thead>\n",
       "  <tbody>\n",
       "    <tr>\n",
       "      <th>3</th>\n",
       "      <td>4</td>\n",
       "      <td>Henry IV</td>\n",
       "      <td>1.0</td>\n",
       "      <td>1.1.1</td>\n",
       "      <td>KING HENRY IV</td>\n",
       "      <td>So shaken as we are, so wan with care,</td>\n",
       "    </tr>\n",
       "    <tr>\n",
       "      <th>4</th>\n",
       "      <td>5</td>\n",
       "      <td>Henry IV</td>\n",
       "      <td>1.0</td>\n",
       "      <td>1.1.2</td>\n",
       "      <td>KING HENRY IV</td>\n",
       "      <td>Find we a time for frighted peace to pant,</td>\n",
       "    </tr>\n",
       "    <tr>\n",
       "      <th>5</th>\n",
       "      <td>6</td>\n",
       "      <td>Henry IV</td>\n",
       "      <td>1.0</td>\n",
       "      <td>1.1.3</td>\n",
       "      <td>KING HENRY IV</td>\n",
       "      <td>And breathe short-winded accents of new broils</td>\n",
       "    </tr>\n",
       "    <tr>\n",
       "      <th>6</th>\n",
       "      <td>7</td>\n",
       "      <td>Henry IV</td>\n",
       "      <td>1.0</td>\n",
       "      <td>1.1.4</td>\n",
       "      <td>KING HENRY IV</td>\n",
       "      <td>To be commenced in strands afar remote.</td>\n",
       "    </tr>\n",
       "    <tr>\n",
       "      <th>7</th>\n",
       "      <td>8</td>\n",
       "      <td>Henry IV</td>\n",
       "      <td>1.0</td>\n",
       "      <td>1.1.5</td>\n",
       "      <td>KING HENRY IV</td>\n",
       "      <td>No more the thirsty entrance of this soil</td>\n",
       "    </tr>\n",
       "    <tr>\n",
       "      <th>8</th>\n",
       "      <td>9</td>\n",
       "      <td>Henry IV</td>\n",
       "      <td>1.0</td>\n",
       "      <td>1.1.6</td>\n",
       "      <td>KING HENRY IV</td>\n",
       "      <td>Shall daub her lips with her own children's bl...</td>\n",
       "    </tr>\n",
       "    <tr>\n",
       "      <th>9</th>\n",
       "      <td>10</td>\n",
       "      <td>Henry IV</td>\n",
       "      <td>1.0</td>\n",
       "      <td>1.1.7</td>\n",
       "      <td>KING HENRY IV</td>\n",
       "      <td>Nor more shall trenching war channel her fields,</td>\n",
       "    </tr>\n",
       "    <tr>\n",
       "      <th>10</th>\n",
       "      <td>11</td>\n",
       "      <td>Henry IV</td>\n",
       "      <td>1.0</td>\n",
       "      <td>1.1.8</td>\n",
       "      <td>KING HENRY IV</td>\n",
       "      <td>Nor bruise her flowerets with the armed hoofs</td>\n",
       "    </tr>\n",
       "    <tr>\n",
       "      <th>11</th>\n",
       "      <td>12</td>\n",
       "      <td>Henry IV</td>\n",
       "      <td>1.0</td>\n",
       "      <td>1.1.9</td>\n",
       "      <td>KING HENRY IV</td>\n",
       "      <td>Of hostile paces: those opposed eyes,</td>\n",
       "    </tr>\n",
       "    <tr>\n",
       "      <th>12</th>\n",
       "      <td>13</td>\n",
       "      <td>Henry IV</td>\n",
       "      <td>1.0</td>\n",
       "      <td>1.1.10</td>\n",
       "      <td>KING HENRY IV</td>\n",
       "      <td>Which, like the meteors of a troubled heaven,</td>\n",
       "    </tr>\n",
       "  </tbody>\n",
       "</table>\n",
       "</div>"
      ],
      "text/plain": [
       "    Dataline      Play  PlayerLinenumber ActSceneLine         Player  \\\n",
       "3          4  Henry IV               1.0        1.1.1  KING HENRY IV   \n",
       "4          5  Henry IV               1.0        1.1.2  KING HENRY IV   \n",
       "5          6  Henry IV               1.0        1.1.3  KING HENRY IV   \n",
       "6          7  Henry IV               1.0        1.1.4  KING HENRY IV   \n",
       "7          8  Henry IV               1.0        1.1.5  KING HENRY IV   \n",
       "8          9  Henry IV               1.0        1.1.6  KING HENRY IV   \n",
       "9         10  Henry IV               1.0        1.1.7  KING HENRY IV   \n",
       "10        11  Henry IV               1.0        1.1.8  KING HENRY IV   \n",
       "11        12  Henry IV               1.0        1.1.9  KING HENRY IV   \n",
       "12        13  Henry IV               1.0       1.1.10  KING HENRY IV   \n",
       "\n",
       "                                           PlayerLine  \n",
       "3              So shaken as we are, so wan with care,  \n",
       "4          Find we a time for frighted peace to pant,  \n",
       "5      And breathe short-winded accents of new broils  \n",
       "6             To be commenced in strands afar remote.  \n",
       "7           No more the thirsty entrance of this soil  \n",
       "8   Shall daub her lips with her own children's bl...  \n",
       "9    Nor more shall trenching war channel her fields,  \n",
       "10      Nor bruise her flowerets with the armed hoofs  \n",
       "11              Of hostile paces: those opposed eyes,  \n",
       "12      Which, like the meteors of a troubled heaven,  "
      ]
     },
     "execution_count": 41,
     "metadata": {},
     "output_type": "execute_result"
    }
   ],
   "source": [
    "shakes_df.head(10)"
   ]
  },
  {
   "cell_type": "code",
   "execution_count": 42,
   "metadata": {},
   "outputs": [],
   "source": [
    "# I will remove the Dataline column since it provides no meaningful information"
   ]
  },
  {
   "cell_type": "code",
   "execution_count": 48,
   "metadata": {},
   "outputs": [],
   "source": [
    "shakes_df.drop(columns=['Dataline'], inplace=True)"
   ]
  },
  {
   "cell_type": "code",
   "execution_count": 49,
   "metadata": {},
   "outputs": [
    {
     "data": {
      "text/html": [
       "<div>\n",
       "<style scoped>\n",
       "    .dataframe tbody tr th:only-of-type {\n",
       "        vertical-align: middle;\n",
       "    }\n",
       "\n",
       "    .dataframe tbody tr th {\n",
       "        vertical-align: top;\n",
       "    }\n",
       "\n",
       "    .dataframe thead th {\n",
       "        text-align: right;\n",
       "    }\n",
       "</style>\n",
       "<table border=\"1\" class=\"dataframe\">\n",
       "  <thead>\n",
       "    <tr style=\"text-align: right;\">\n",
       "      <th></th>\n",
       "      <th>Play</th>\n",
       "      <th>PlayerLinenumber</th>\n",
       "      <th>ActSceneLine</th>\n",
       "      <th>Player</th>\n",
       "      <th>PlayerLine</th>\n",
       "    </tr>\n",
       "  </thead>\n",
       "  <tbody>\n",
       "    <tr>\n",
       "      <th>3</th>\n",
       "      <td>Henry IV</td>\n",
       "      <td>1.0</td>\n",
       "      <td>1.1.1</td>\n",
       "      <td>KING HENRY IV</td>\n",
       "      <td>So shaken as we are, so wan with care,</td>\n",
       "    </tr>\n",
       "    <tr>\n",
       "      <th>4</th>\n",
       "      <td>Henry IV</td>\n",
       "      <td>1.0</td>\n",
       "      <td>1.1.2</td>\n",
       "      <td>KING HENRY IV</td>\n",
       "      <td>Find we a time for frighted peace to pant,</td>\n",
       "    </tr>\n",
       "    <tr>\n",
       "      <th>5</th>\n",
       "      <td>Henry IV</td>\n",
       "      <td>1.0</td>\n",
       "      <td>1.1.3</td>\n",
       "      <td>KING HENRY IV</td>\n",
       "      <td>And breathe short-winded accents of new broils</td>\n",
       "    </tr>\n",
       "    <tr>\n",
       "      <th>6</th>\n",
       "      <td>Henry IV</td>\n",
       "      <td>1.0</td>\n",
       "      <td>1.1.4</td>\n",
       "      <td>KING HENRY IV</td>\n",
       "      <td>To be commenced in strands afar remote.</td>\n",
       "    </tr>\n",
       "    <tr>\n",
       "      <th>7</th>\n",
       "      <td>Henry IV</td>\n",
       "      <td>1.0</td>\n",
       "      <td>1.1.5</td>\n",
       "      <td>KING HENRY IV</td>\n",
       "      <td>No more the thirsty entrance of this soil</td>\n",
       "    </tr>\n",
       "  </tbody>\n",
       "</table>\n",
       "</div>"
      ],
      "text/plain": [
       "       Play  PlayerLinenumber ActSceneLine         Player  \\\n",
       "3  Henry IV               1.0        1.1.1  KING HENRY IV   \n",
       "4  Henry IV               1.0        1.1.2  KING HENRY IV   \n",
       "5  Henry IV               1.0        1.1.3  KING HENRY IV   \n",
       "6  Henry IV               1.0        1.1.4  KING HENRY IV   \n",
       "7  Henry IV               1.0        1.1.5  KING HENRY IV   \n",
       "\n",
       "                                       PlayerLine  \n",
       "3          So shaken as we are, so wan with care,  \n",
       "4      Find we a time for frighted peace to pant,  \n",
       "5  And breathe short-winded accents of new broils  \n",
       "6         To be commenced in strands afar remote.  \n",
       "7       No more the thirsty entrance of this soil  "
      ]
     },
     "execution_count": 49,
     "metadata": {},
     "output_type": "execute_result"
    }
   ],
   "source": [
    "shakes_df.head()"
   ]
  },
  {
   "cell_type": "code",
   "execution_count": 53,
   "metadata": {},
   "outputs": [],
   "source": [
    "shakes_df.reset_index(drop=True, inplace=True)"
   ]
  },
  {
   "cell_type": "code",
   "execution_count": 58,
   "metadata": {},
   "outputs": [],
   "source": [
    "# After resetting the index I want to add a column that contains the length of each PlayerLine"
   ]
  },
  {
   "cell_type": "code",
   "execution_count": 54,
   "metadata": {},
   "outputs": [
    {
     "data": {
      "text/html": [
       "<div>\n",
       "<style scoped>\n",
       "    .dataframe tbody tr th:only-of-type {\n",
       "        vertical-align: middle;\n",
       "    }\n",
       "\n",
       "    .dataframe tbody tr th {\n",
       "        vertical-align: top;\n",
       "    }\n",
       "\n",
       "    .dataframe thead th {\n",
       "        text-align: right;\n",
       "    }\n",
       "</style>\n",
       "<table border=\"1\" class=\"dataframe\">\n",
       "  <thead>\n",
       "    <tr style=\"text-align: right;\">\n",
       "      <th></th>\n",
       "      <th>Play</th>\n",
       "      <th>PlayerLinenumber</th>\n",
       "      <th>ActSceneLine</th>\n",
       "      <th>Player</th>\n",
       "      <th>PlayerLine</th>\n",
       "    </tr>\n",
       "  </thead>\n",
       "  <tbody>\n",
       "    <tr>\n",
       "      <th>0</th>\n",
       "      <td>Henry IV</td>\n",
       "      <td>1.0</td>\n",
       "      <td>1.1.1</td>\n",
       "      <td>KING HENRY IV</td>\n",
       "      <td>So shaken as we are, so wan with care,</td>\n",
       "    </tr>\n",
       "    <tr>\n",
       "      <th>1</th>\n",
       "      <td>Henry IV</td>\n",
       "      <td>1.0</td>\n",
       "      <td>1.1.2</td>\n",
       "      <td>KING HENRY IV</td>\n",
       "      <td>Find we a time for frighted peace to pant,</td>\n",
       "    </tr>\n",
       "    <tr>\n",
       "      <th>2</th>\n",
       "      <td>Henry IV</td>\n",
       "      <td>1.0</td>\n",
       "      <td>1.1.3</td>\n",
       "      <td>KING HENRY IV</td>\n",
       "      <td>And breathe short-winded accents of new broils</td>\n",
       "    </tr>\n",
       "    <tr>\n",
       "      <th>3</th>\n",
       "      <td>Henry IV</td>\n",
       "      <td>1.0</td>\n",
       "      <td>1.1.4</td>\n",
       "      <td>KING HENRY IV</td>\n",
       "      <td>To be commenced in strands afar remote.</td>\n",
       "    </tr>\n",
       "    <tr>\n",
       "      <th>4</th>\n",
       "      <td>Henry IV</td>\n",
       "      <td>1.0</td>\n",
       "      <td>1.1.5</td>\n",
       "      <td>KING HENRY IV</td>\n",
       "      <td>No more the thirsty entrance of this soil</td>\n",
       "    </tr>\n",
       "  </tbody>\n",
       "</table>\n",
       "</div>"
      ],
      "text/plain": [
       "       Play  PlayerLinenumber ActSceneLine         Player  \\\n",
       "0  Henry IV               1.0        1.1.1  KING HENRY IV   \n",
       "1  Henry IV               1.0        1.1.2  KING HENRY IV   \n",
       "2  Henry IV               1.0        1.1.3  KING HENRY IV   \n",
       "3  Henry IV               1.0        1.1.4  KING HENRY IV   \n",
       "4  Henry IV               1.0        1.1.5  KING HENRY IV   \n",
       "\n",
       "                                       PlayerLine  \n",
       "0          So shaken as we are, so wan with care,  \n",
       "1      Find we a time for frighted peace to pant,  \n",
       "2  And breathe short-winded accents of new broils  \n",
       "3         To be commenced in strands afar remote.  \n",
       "4       No more the thirsty entrance of this soil  "
      ]
     },
     "execution_count": 54,
     "metadata": {},
     "output_type": "execute_result"
    }
   ],
   "source": [
    "shakes_df.head()"
   ]
  },
  {
   "cell_type": "code",
   "execution_count": 57,
   "metadata": {},
   "outputs": [],
   "source": [
    "shakes_df['LineLength'] = shakes_df.PlayerLine.apply(len)"
   ]
  },
  {
   "cell_type": "code",
   "execution_count": 59,
   "metadata": {},
   "outputs": [
    {
     "data": {
      "text/html": [
       "<div>\n",
       "<style scoped>\n",
       "    .dataframe tbody tr th:only-of-type {\n",
       "        vertical-align: middle;\n",
       "    }\n",
       "\n",
       "    .dataframe tbody tr th {\n",
       "        vertical-align: top;\n",
       "    }\n",
       "\n",
       "    .dataframe thead th {\n",
       "        text-align: right;\n",
       "    }\n",
       "</style>\n",
       "<table border=\"1\" class=\"dataframe\">\n",
       "  <thead>\n",
       "    <tr style=\"text-align: right;\">\n",
       "      <th></th>\n",
       "      <th>Play</th>\n",
       "      <th>PlayerLinenumber</th>\n",
       "      <th>ActSceneLine</th>\n",
       "      <th>Player</th>\n",
       "      <th>PlayerLine</th>\n",
       "      <th>LineLength</th>\n",
       "    </tr>\n",
       "  </thead>\n",
       "  <tbody>\n",
       "    <tr>\n",
       "      <th>0</th>\n",
       "      <td>Henry IV</td>\n",
       "      <td>1.0</td>\n",
       "      <td>1.1.1</td>\n",
       "      <td>KING HENRY IV</td>\n",
       "      <td>So shaken as we are, so wan with care,</td>\n",
       "      <td>38</td>\n",
       "    </tr>\n",
       "    <tr>\n",
       "      <th>1</th>\n",
       "      <td>Henry IV</td>\n",
       "      <td>1.0</td>\n",
       "      <td>1.1.2</td>\n",
       "      <td>KING HENRY IV</td>\n",
       "      <td>Find we a time for frighted peace to pant,</td>\n",
       "      <td>42</td>\n",
       "    </tr>\n",
       "    <tr>\n",
       "      <th>2</th>\n",
       "      <td>Henry IV</td>\n",
       "      <td>1.0</td>\n",
       "      <td>1.1.3</td>\n",
       "      <td>KING HENRY IV</td>\n",
       "      <td>And breathe short-winded accents of new broils</td>\n",
       "      <td>46</td>\n",
       "    </tr>\n",
       "    <tr>\n",
       "      <th>3</th>\n",
       "      <td>Henry IV</td>\n",
       "      <td>1.0</td>\n",
       "      <td>1.1.4</td>\n",
       "      <td>KING HENRY IV</td>\n",
       "      <td>To be commenced in strands afar remote.</td>\n",
       "      <td>39</td>\n",
       "    </tr>\n",
       "    <tr>\n",
       "      <th>4</th>\n",
       "      <td>Henry IV</td>\n",
       "      <td>1.0</td>\n",
       "      <td>1.1.5</td>\n",
       "      <td>KING HENRY IV</td>\n",
       "      <td>No more the thirsty entrance of this soil</td>\n",
       "      <td>41</td>\n",
       "    </tr>\n",
       "  </tbody>\n",
       "</table>\n",
       "</div>"
      ],
      "text/plain": [
       "       Play  PlayerLinenumber ActSceneLine         Player  \\\n",
       "0  Henry IV               1.0        1.1.1  KING HENRY IV   \n",
       "1  Henry IV               1.0        1.1.2  KING HENRY IV   \n",
       "2  Henry IV               1.0        1.1.3  KING HENRY IV   \n",
       "3  Henry IV               1.0        1.1.4  KING HENRY IV   \n",
       "4  Henry IV               1.0        1.1.5  KING HENRY IV   \n",
       "\n",
       "                                       PlayerLine  LineLength  \n",
       "0          So shaken as we are, so wan with care,          38  \n",
       "1      Find we a time for frighted peace to pant,          42  \n",
       "2  And breathe short-winded accents of new broils          46  \n",
       "3         To be commenced in strands afar remote.          39  \n",
       "4       No more the thirsty entrance of this soil          41  "
      ]
     },
     "execution_count": 59,
     "metadata": {},
     "output_type": "execute_result"
    }
   ],
   "source": [
    "# I will review what the dataframe looks like after performing the operation\n",
    "shakes_df.head()"
   ]
  },
  {
   "cell_type": "code",
   "execution_count": 61,
   "metadata": {},
   "outputs": [
    {
     "data": {
      "text/plain": [
       "Play                 object\n",
       "PlayerLinenumber    float64\n",
       "ActSceneLine         object\n",
       "Player               object\n",
       "PlayerLine           object\n",
       "LineLength            int64\n",
       "dtype: object"
      ]
     },
     "execution_count": 61,
     "metadata": {},
     "output_type": "execute_result"
    }
   ],
   "source": [
    "shakes_df.dtypes"
   ]
  },
  {
   "cell_type": "code",
   "execution_count": 64,
   "metadata": {},
   "outputs": [
    {
     "data": {
      "text/plain": [
       "array([  1.,   2.,   3.,   4.,   5.,   6.,   7.,   8.,   9.,  10.,  11.,\n",
       "        12.,  13.,  14.,  15.,  16.,  17.,  18.,  19.,  20.,  21.,  22.,\n",
       "        23.,  24.,  25.,  26.,  27.,  28.,  29.,  30.,  31.,  32.,  33.,\n",
       "        34.,  35.,  36.,  37.,  38.,  39.,  40.,  41.,  42.,  43.,  44.,\n",
       "        45.,  46.,  47.,  48.,  49.,  50.,  51.,  52.,  53.,  54.,  55.,\n",
       "        56.,  57.,  58.,  59.,  60.,  61.,  62.,  63.,  64.,  65.,  66.,\n",
       "        67.,  68.,  69.,  70.,  71.,  72.,  73.,  74.,  75.,  76.,  77.,\n",
       "        78.,  79.,  80.,  81.,  82.,  83.,  84.,  85.,  86.,  87.,  88.,\n",
       "        89.,  90.,  91.,  92.,  93.,  94.,  95.,  96.,  97.,  98.,  99.,\n",
       "       100., 101., 102., 103., 104., 105., 106., 107., 108., 109., 110.,\n",
       "       111., 112., 113., 114., 115., 116., 117., 118., 119., 120., 121.,\n",
       "       122., 123., 124., 125., 126., 127., 128., 129., 130., 131., 132.,\n",
       "       133., 134., 135., 136., 137., 138., 139., 140., 141., 142., 143.,\n",
       "       144., 145., 146., 147., 148., 149., 150., 151., 152., 153., 154.,\n",
       "       155., 156., 157., 158., 159., 160., 161., 162., 163., 164., 165.,\n",
       "       166., 167., 168., 169., 170., 171., 172., 173., 174., 175., 176.,\n",
       "       177., 178., 179., 180., 181., 182., 183., 184., 185., 186., 187.,\n",
       "       188., 189., 190., 191., 192., 193., 194., 195., 196., 197., 198.,\n",
       "       199., 200., 201., 202., 203., 204., 205., 206., 207., 208., 209.,\n",
       "       210., 211., 212., 213., 214., 215., 216., 217., 218., 219., 220.,\n",
       "       221., 222., 223., 224., 225., 226., 227., 228., 229., 230., 231.,\n",
       "       232., 233., 234., 235., 236., 237., 238., 239., 240., 241., 242.,\n",
       "       243., 244., 245., 246., 247., 248., 249., 250., 251., 252., 253.,\n",
       "       254., 255., 256., 257., 258., 259., 260., 261., 262., 263., 264.,\n",
       "       265., 266., 267., 268., 269., 270., 271., 272., 273., 274., 275.,\n",
       "       276., 277., 278., 279., 280., 281., 282., 283., 284., 285., 286.,\n",
       "       287., 288., 289., 290., 291., 292., 293., 294., 295., 296., 297.,\n",
       "       298., 299., 300., 301., 302., 303., 304., 305., 306., 307., 308.,\n",
       "       309., 310., 311., 312., 313., 314., 315., 316., 317., 318., 319.,\n",
       "       320., 321., 322., 323., 324., 325., 326., 327., 328., 329., 330.,\n",
       "       331., 332., 333., 334., 335., 336., 337., 338., 339., 340., 341.,\n",
       "       342., 343., 344., 345., 346., 347., 348., 349., 350., 351., 352.,\n",
       "       353., 354., 355., 356., 357., 358., 359., 360., 361., 362., 363.,\n",
       "       364., 365., 366., 367., 368., 369., 370., 371., 372., 373., 374.,\n",
       "       375., 376., 377., 378., 379., 380., 381., 382., 383., 384., 385.,\n",
       "       386., 387., 388., 389., 390., 391., 392., 393., 394., 395., 396.,\n",
       "       397., 398., 399., 400., 401., 402., 403., 404., 405.])"
      ]
     },
     "execution_count": 64,
     "metadata": {},
     "output_type": "execute_result"
    }
   ],
   "source": [
    "# What unique values are there in PlayerLinenumber?\n",
    "shakes_df.PlayerLinenumber.unique()"
   ]
  },
  {
   "cell_type": "code",
   "execution_count": 67,
   "metadata": {},
   "outputs": [],
   "source": [
    "# All of the unique values in PlayerLinenumber are integers that are in str form\n",
    "# Therefore, I will cast them to int form\n",
    "shakes_df.PlayerLinenumber = shakes_df.PlayerLinenumber.apply(int)"
   ]
  },
  {
   "cell_type": "code",
   "execution_count": 68,
   "metadata": {},
   "outputs": [
    {
     "data": {
      "text/html": [
       "<div>\n",
       "<style scoped>\n",
       "    .dataframe tbody tr th:only-of-type {\n",
       "        vertical-align: middle;\n",
       "    }\n",
       "\n",
       "    .dataframe tbody tr th {\n",
       "        vertical-align: top;\n",
       "    }\n",
       "\n",
       "    .dataframe thead th {\n",
       "        text-align: right;\n",
       "    }\n",
       "</style>\n",
       "<table border=\"1\" class=\"dataframe\">\n",
       "  <thead>\n",
       "    <tr style=\"text-align: right;\">\n",
       "      <th></th>\n",
       "      <th>Play</th>\n",
       "      <th>PlayerLinenumber</th>\n",
       "      <th>ActSceneLine</th>\n",
       "      <th>Player</th>\n",
       "      <th>PlayerLine</th>\n",
       "      <th>LineLength</th>\n",
       "    </tr>\n",
       "  </thead>\n",
       "  <tbody>\n",
       "    <tr>\n",
       "      <th>0</th>\n",
       "      <td>Henry IV</td>\n",
       "      <td>1</td>\n",
       "      <td>1.1.1</td>\n",
       "      <td>KING HENRY IV</td>\n",
       "      <td>So shaken as we are, so wan with care,</td>\n",
       "      <td>38</td>\n",
       "    </tr>\n",
       "    <tr>\n",
       "      <th>1</th>\n",
       "      <td>Henry IV</td>\n",
       "      <td>1</td>\n",
       "      <td>1.1.2</td>\n",
       "      <td>KING HENRY IV</td>\n",
       "      <td>Find we a time for frighted peace to pant,</td>\n",
       "      <td>42</td>\n",
       "    </tr>\n",
       "    <tr>\n",
       "      <th>2</th>\n",
       "      <td>Henry IV</td>\n",
       "      <td>1</td>\n",
       "      <td>1.1.3</td>\n",
       "      <td>KING HENRY IV</td>\n",
       "      <td>And breathe short-winded accents of new broils</td>\n",
       "      <td>46</td>\n",
       "    </tr>\n",
       "    <tr>\n",
       "      <th>3</th>\n",
       "      <td>Henry IV</td>\n",
       "      <td>1</td>\n",
       "      <td>1.1.4</td>\n",
       "      <td>KING HENRY IV</td>\n",
       "      <td>To be commenced in strands afar remote.</td>\n",
       "      <td>39</td>\n",
       "    </tr>\n",
       "    <tr>\n",
       "      <th>4</th>\n",
       "      <td>Henry IV</td>\n",
       "      <td>1</td>\n",
       "      <td>1.1.5</td>\n",
       "      <td>KING HENRY IV</td>\n",
       "      <td>No more the thirsty entrance of this soil</td>\n",
       "      <td>41</td>\n",
       "    </tr>\n",
       "  </tbody>\n",
       "</table>\n",
       "</div>"
      ],
      "text/plain": [
       "       Play  PlayerLinenumber ActSceneLine         Player  \\\n",
       "0  Henry IV                 1        1.1.1  KING HENRY IV   \n",
       "1  Henry IV                 1        1.1.2  KING HENRY IV   \n",
       "2  Henry IV                 1        1.1.3  KING HENRY IV   \n",
       "3  Henry IV                 1        1.1.4  KING HENRY IV   \n",
       "4  Henry IV                 1        1.1.5  KING HENRY IV   \n",
       "\n",
       "                                       PlayerLine  LineLength  \n",
       "0          So shaken as we are, so wan with care,          38  \n",
       "1      Find we a time for frighted peace to pant,          42  \n",
       "2  And breathe short-winded accents of new broils          46  \n",
       "3         To be commenced in strands afar remote.          39  \n",
       "4       No more the thirsty entrance of this soil          41  "
      ]
     },
     "execution_count": 68,
     "metadata": {},
     "output_type": "execute_result"
    }
   ],
   "source": [
    "shakes_df.head()"
   ]
  },
  {
   "cell_type": "code",
   "execution_count": 69,
   "metadata": {},
   "outputs": [],
   "source": [
    "# I want to create a new column that holds the sentiment of each row in the PlayerLine\n",
    "\n",
    "import nltk"
   ]
  },
  {
   "cell_type": "code",
   "execution_count": 70,
   "metadata": {},
   "outputs": [],
   "source": [
    "sentence = 'So shaken as we are, so wan with care,'"
   ]
  },
  {
   "cell_type": "code",
   "execution_count": 75,
   "metadata": {},
   "outputs": [],
   "source": [
    "tokens = nltk.word_tokenize(sentence)"
   ]
  },
  {
   "cell_type": "code",
   "execution_count": 76,
   "metadata": {},
   "outputs": [
    {
     "data": {
      "text/plain": [
       "['So', 'shaken', 'as', 'we', 'are', ',', 'so', 'wan', 'with', 'care', ',']"
      ]
     },
     "execution_count": 76,
     "metadata": {},
     "output_type": "execute_result"
    }
   ],
   "source": [
    "tokens"
   ]
  },
  {
   "cell_type": "code",
   "execution_count": 77,
   "metadata": {},
   "outputs": [],
   "source": [
    "# We can use work_tokenize function from nltk to count the amount of words that each character has\n",
    "# I think that the amount of word each character has should make a difference"
   ]
  },
  {
   "cell_type": "code",
   "execution_count": 79,
   "metadata": {},
   "outputs": [
    {
     "data": {
      "text/plain": [
       "11"
      ]
     },
     "execution_count": 79,
     "metadata": {},
     "output_type": "execute_result"
    }
   ],
   "source": [
    "len(tokens)"
   ]
  },
  {
   "cell_type": "code",
   "execution_count": 81,
   "metadata": {},
   "outputs": [],
   "source": [
    "shakes_df['WordCount'] = shakes_df.PlayerLine.apply(nltk.word_tokenize).apply(len)"
   ]
  },
  {
   "cell_type": "code",
   "execution_count": 83,
   "metadata": {},
   "outputs": [
    {
     "data": {
      "text/html": [
       "<div>\n",
       "<style scoped>\n",
       "    .dataframe tbody tr th:only-of-type {\n",
       "        vertical-align: middle;\n",
       "    }\n",
       "\n",
       "    .dataframe tbody tr th {\n",
       "        vertical-align: top;\n",
       "    }\n",
       "\n",
       "    .dataframe thead th {\n",
       "        text-align: right;\n",
       "    }\n",
       "</style>\n",
       "<table border=\"1\" class=\"dataframe\">\n",
       "  <thead>\n",
       "    <tr style=\"text-align: right;\">\n",
       "      <th></th>\n",
       "      <th>Play</th>\n",
       "      <th>PlayerLinenumber</th>\n",
       "      <th>ActSceneLine</th>\n",
       "      <th>Player</th>\n",
       "      <th>PlayerLine</th>\n",
       "      <th>LineLength</th>\n",
       "      <th>WordCount</th>\n",
       "    </tr>\n",
       "  </thead>\n",
       "  <tbody>\n",
       "    <tr>\n",
       "      <th>0</th>\n",
       "      <td>Henry IV</td>\n",
       "      <td>1</td>\n",
       "      <td>1.1.1</td>\n",
       "      <td>KING HENRY IV</td>\n",
       "      <td>So shaken as we are, so wan with care,</td>\n",
       "      <td>38</td>\n",
       "      <td>11</td>\n",
       "    </tr>\n",
       "    <tr>\n",
       "      <th>1</th>\n",
       "      <td>Henry IV</td>\n",
       "      <td>1</td>\n",
       "      <td>1.1.2</td>\n",
       "      <td>KING HENRY IV</td>\n",
       "      <td>Find we a time for frighted peace to pant,</td>\n",
       "      <td>42</td>\n",
       "      <td>10</td>\n",
       "    </tr>\n",
       "    <tr>\n",
       "      <th>2</th>\n",
       "      <td>Henry IV</td>\n",
       "      <td>1</td>\n",
       "      <td>1.1.3</td>\n",
       "      <td>KING HENRY IV</td>\n",
       "      <td>And breathe short-winded accents of new broils</td>\n",
       "      <td>46</td>\n",
       "      <td>7</td>\n",
       "    </tr>\n",
       "    <tr>\n",
       "      <th>3</th>\n",
       "      <td>Henry IV</td>\n",
       "      <td>1</td>\n",
       "      <td>1.1.4</td>\n",
       "      <td>KING HENRY IV</td>\n",
       "      <td>To be commenced in strands afar remote.</td>\n",
       "      <td>39</td>\n",
       "      <td>8</td>\n",
       "    </tr>\n",
       "    <tr>\n",
       "      <th>4</th>\n",
       "      <td>Henry IV</td>\n",
       "      <td>1</td>\n",
       "      <td>1.1.5</td>\n",
       "      <td>KING HENRY IV</td>\n",
       "      <td>No more the thirsty entrance of this soil</td>\n",
       "      <td>41</td>\n",
       "      <td>8</td>\n",
       "    </tr>\n",
       "  </tbody>\n",
       "</table>\n",
       "</div>"
      ],
      "text/plain": [
       "       Play  PlayerLinenumber ActSceneLine         Player  \\\n",
       "0  Henry IV                 1        1.1.1  KING HENRY IV   \n",
       "1  Henry IV                 1        1.1.2  KING HENRY IV   \n",
       "2  Henry IV                 1        1.1.3  KING HENRY IV   \n",
       "3  Henry IV                 1        1.1.4  KING HENRY IV   \n",
       "4  Henry IV                 1        1.1.5  KING HENRY IV   \n",
       "\n",
       "                                       PlayerLine  LineLength  WordCount  \n",
       "0          So shaken as we are, so wan with care,          38         11  \n",
       "1      Find we a time for frighted peace to pant,          42         10  \n",
       "2  And breathe short-winded accents of new broils          46          7  \n",
       "3         To be commenced in strands afar remote.          39          8  \n",
       "4       No more the thirsty entrance of this soil          41          8  "
      ]
     },
     "execution_count": 83,
     "metadata": {},
     "output_type": "execute_result"
    }
   ],
   "source": [
    "shakes_df.head()"
   ]
  },
  {
   "cell_type": "code",
   "execution_count": 84,
   "metadata": {},
   "outputs": [],
   "source": [
    "# Ok, this looks good. Now I want to analyze the sentiment of each line.\n",
    "# I will analyze it into three categories: positive, negative and neutral."
   ]
  },
  {
   "cell_type": "code",
   "execution_count": 86,
   "metadata": {},
   "outputs": [],
   "source": [
    "from nltk.sentiment.vader import SentimentIntensityAnalyzer as SIA\n",
    "\n",
    "sia = SIA()"
   ]
  },
  {
   "cell_type": "code",
   "execution_count": 89,
   "metadata": {},
   "outputs": [
    {
     "data": {
      "text/plain": [
       "{'neg': 0.239, 'neu': 0.761, 'pos': 0.0, 'compound': -0.296}"
      ]
     },
     "execution_count": 89,
     "metadata": {},
     "output_type": "execute_result"
    }
   ],
   "source": [
    "sia.polarity_scores('No more the thirsty entrance of this soil')"
   ]
  },
  {
   "cell_type": "code",
   "execution_count": 90,
   "metadata": {},
   "outputs": [],
   "source": [
    "# With a similar strategy I can attempt to get the sentiment analysis of each line"
   ]
  },
  {
   "cell_type": "code",
   "execution_count": 93,
   "metadata": {},
   "outputs": [],
   "source": [
    "sa_results = shakes_df.PlayerLine.apply(sia.polarity_scores)"
   ]
  },
  {
   "cell_type": "code",
   "execution_count": 94,
   "metadata": {},
   "outputs": [
    {
     "data": {
      "text/plain": [
       "0    {'neg': 0.132, 'neu': 0.581, 'pos': 0.287, 'co...\n",
       "1    {'neg': 0.202, 'neu': 0.504, 'pos': 0.294, 'co...\n",
       "2    {'neg': 0.0, 'neu': 1.0, 'pos': 0.0, 'compound...\n",
       "3    {'neg': 0.0, 'neu': 1.0, 'pos': 0.0, 'compound...\n",
       "4    {'neg': 0.239, 'neu': 0.761, 'pos': 0.0, 'comp...\n",
       "Name: PlayerLine, dtype: object"
      ]
     },
     "execution_count": 94,
     "metadata": {},
     "output_type": "execute_result"
    }
   ],
   "source": [
    "sa_results.head()"
   ]
  },
  {
   "cell_type": "code",
   "execution_count": 96,
   "metadata": {},
   "outputs": [
    {
     "data": {
      "text/plain": [
       "0.132"
      ]
     },
     "execution_count": 96,
     "metadata": {},
     "output_type": "execute_result"
    }
   ],
   "source": [
    "sa_results[0]['neg']"
   ]
  },
  {
   "cell_type": "code",
   "execution_count": 97,
   "metadata": {},
   "outputs": [],
   "source": [
    "sa_results = pd.DataFrame.from_records(sa_results)"
   ]
  },
  {
   "cell_type": "code",
   "execution_count": 98,
   "metadata": {},
   "outputs": [
    {
     "data": {
      "text/html": [
       "<div>\n",
       "<style scoped>\n",
       "    .dataframe tbody tr th:only-of-type {\n",
       "        vertical-align: middle;\n",
       "    }\n",
       "\n",
       "    .dataframe tbody tr th {\n",
       "        vertical-align: top;\n",
       "    }\n",
       "\n",
       "    .dataframe thead th {\n",
       "        text-align: right;\n",
       "    }\n",
       "</style>\n",
       "<table border=\"1\" class=\"dataframe\">\n",
       "  <thead>\n",
       "    <tr style=\"text-align: right;\">\n",
       "      <th></th>\n",
       "      <th>compound</th>\n",
       "      <th>neg</th>\n",
       "      <th>neu</th>\n",
       "      <th>pos</th>\n",
       "    </tr>\n",
       "  </thead>\n",
       "  <tbody>\n",
       "    <tr>\n",
       "      <th>0</th>\n",
       "      <td>0.4349</td>\n",
       "      <td>0.132</td>\n",
       "      <td>0.581</td>\n",
       "      <td>0.287</td>\n",
       "    </tr>\n",
       "    <tr>\n",
       "      <th>1</th>\n",
       "      <td>0.2732</td>\n",
       "      <td>0.202</td>\n",
       "      <td>0.504</td>\n",
       "      <td>0.294</td>\n",
       "    </tr>\n",
       "    <tr>\n",
       "      <th>2</th>\n",
       "      <td>0.0000</td>\n",
       "      <td>0.000</td>\n",
       "      <td>1.000</td>\n",
       "      <td>0.000</td>\n",
       "    </tr>\n",
       "    <tr>\n",
       "      <th>3</th>\n",
       "      <td>0.0000</td>\n",
       "      <td>0.000</td>\n",
       "      <td>1.000</td>\n",
       "      <td>0.000</td>\n",
       "    </tr>\n",
       "    <tr>\n",
       "      <th>4</th>\n",
       "      <td>-0.2960</td>\n",
       "      <td>0.239</td>\n",
       "      <td>0.761</td>\n",
       "      <td>0.000</td>\n",
       "    </tr>\n",
       "  </tbody>\n",
       "</table>\n",
       "</div>"
      ],
      "text/plain": [
       "   compound    neg    neu    pos\n",
       "0    0.4349  0.132  0.581  0.287\n",
       "1    0.2732  0.202  0.504  0.294\n",
       "2    0.0000  0.000  1.000  0.000\n",
       "3    0.0000  0.000  1.000  0.000\n",
       "4   -0.2960  0.239  0.761  0.000"
      ]
     },
     "execution_count": 98,
     "metadata": {},
     "output_type": "execute_result"
    }
   ],
   "source": [
    "sa_results.head()"
   ]
  },
  {
   "cell_type": "code",
   "execution_count": 100,
   "metadata": {},
   "outputs": [],
   "source": [
    "sa_results['Sentiment'] = 0\n",
    "sa_results.loc[sa_results['compound'] > 0.2, 'Sentiment'] = 1\n",
    "sa_results.loc[sa_results['compound'] < -0.2, 'Sentiment'] = -1"
   ]
  },
  {
   "cell_type": "code",
   "execution_count": 101,
   "metadata": {},
   "outputs": [
    {
     "data": {
      "text/html": [
       "<div>\n",
       "<style scoped>\n",
       "    .dataframe tbody tr th:only-of-type {\n",
       "        vertical-align: middle;\n",
       "    }\n",
       "\n",
       "    .dataframe tbody tr th {\n",
       "        vertical-align: top;\n",
       "    }\n",
       "\n",
       "    .dataframe thead th {\n",
       "        text-align: right;\n",
       "    }\n",
       "</style>\n",
       "<table border=\"1\" class=\"dataframe\">\n",
       "  <thead>\n",
       "    <tr style=\"text-align: right;\">\n",
       "      <th></th>\n",
       "      <th>compound</th>\n",
       "      <th>neg</th>\n",
       "      <th>neu</th>\n",
       "      <th>pos</th>\n",
       "      <th>Sentiment</th>\n",
       "    </tr>\n",
       "  </thead>\n",
       "  <tbody>\n",
       "    <tr>\n",
       "      <th>0</th>\n",
       "      <td>0.4349</td>\n",
       "      <td>0.132</td>\n",
       "      <td>0.581</td>\n",
       "      <td>0.287</td>\n",
       "      <td>1</td>\n",
       "    </tr>\n",
       "    <tr>\n",
       "      <th>1</th>\n",
       "      <td>0.2732</td>\n",
       "      <td>0.202</td>\n",
       "      <td>0.504</td>\n",
       "      <td>0.294</td>\n",
       "      <td>1</td>\n",
       "    </tr>\n",
       "    <tr>\n",
       "      <th>2</th>\n",
       "      <td>0.0000</td>\n",
       "      <td>0.000</td>\n",
       "      <td>1.000</td>\n",
       "      <td>0.000</td>\n",
       "      <td>0</td>\n",
       "    </tr>\n",
       "    <tr>\n",
       "      <th>3</th>\n",
       "      <td>0.0000</td>\n",
       "      <td>0.000</td>\n",
       "      <td>1.000</td>\n",
       "      <td>0.000</td>\n",
       "      <td>0</td>\n",
       "    </tr>\n",
       "    <tr>\n",
       "      <th>4</th>\n",
       "      <td>-0.2960</td>\n",
       "      <td>0.239</td>\n",
       "      <td>0.761</td>\n",
       "      <td>0.000</td>\n",
       "      <td>-1</td>\n",
       "    </tr>\n",
       "  </tbody>\n",
       "</table>\n",
       "</div>"
      ],
      "text/plain": [
       "   compound    neg    neu    pos  Sentiment\n",
       "0    0.4349  0.132  0.581  0.287          1\n",
       "1    0.2732  0.202  0.504  0.294          1\n",
       "2    0.0000  0.000  1.000  0.000          0\n",
       "3    0.0000  0.000  1.000  0.000          0\n",
       "4   -0.2960  0.239  0.761  0.000         -1"
      ]
     },
     "execution_count": 101,
     "metadata": {},
     "output_type": "execute_result"
    }
   ],
   "source": [
    "sa_results.head()"
   ]
  },
  {
   "cell_type": "code",
   "execution_count": 103,
   "metadata": {},
   "outputs": [],
   "source": [
    "shakes_df.LineSent = sa_results.Sentiment.copy()"
   ]
  },
  {
   "cell_type": "code",
   "execution_count": 104,
   "metadata": {},
   "outputs": [
    {
     "data": {
      "text/html": [
       "<div>\n",
       "<style scoped>\n",
       "    .dataframe tbody tr th:only-of-type {\n",
       "        vertical-align: middle;\n",
       "    }\n",
       "\n",
       "    .dataframe tbody tr th {\n",
       "        vertical-align: top;\n",
       "    }\n",
       "\n",
       "    .dataframe thead th {\n",
       "        text-align: right;\n",
       "    }\n",
       "</style>\n",
       "<table border=\"1\" class=\"dataframe\">\n",
       "  <thead>\n",
       "    <tr style=\"text-align: right;\">\n",
       "      <th></th>\n",
       "      <th>Play</th>\n",
       "      <th>PlayerLinenumber</th>\n",
       "      <th>ActSceneLine</th>\n",
       "      <th>Player</th>\n",
       "      <th>PlayerLine</th>\n",
       "      <th>LineLength</th>\n",
       "      <th>WordCount</th>\n",
       "      <th>LineSent</th>\n",
       "    </tr>\n",
       "  </thead>\n",
       "  <tbody>\n",
       "    <tr>\n",
       "      <th>0</th>\n",
       "      <td>Henry IV</td>\n",
       "      <td>1</td>\n",
       "      <td>1.1.1</td>\n",
       "      <td>KING HENRY IV</td>\n",
       "      <td>So shaken as we are, so wan with care,</td>\n",
       "      <td>38</td>\n",
       "      <td>11</td>\n",
       "      <td>1</td>\n",
       "    </tr>\n",
       "    <tr>\n",
       "      <th>1</th>\n",
       "      <td>Henry IV</td>\n",
       "      <td>1</td>\n",
       "      <td>1.1.2</td>\n",
       "      <td>KING HENRY IV</td>\n",
       "      <td>Find we a time for frighted peace to pant,</td>\n",
       "      <td>42</td>\n",
       "      <td>10</td>\n",
       "      <td>1</td>\n",
       "    </tr>\n",
       "    <tr>\n",
       "      <th>2</th>\n",
       "      <td>Henry IV</td>\n",
       "      <td>1</td>\n",
       "      <td>1.1.3</td>\n",
       "      <td>KING HENRY IV</td>\n",
       "      <td>And breathe short-winded accents of new broils</td>\n",
       "      <td>46</td>\n",
       "      <td>7</td>\n",
       "      <td>0</td>\n",
       "    </tr>\n",
       "    <tr>\n",
       "      <th>3</th>\n",
       "      <td>Henry IV</td>\n",
       "      <td>1</td>\n",
       "      <td>1.1.4</td>\n",
       "      <td>KING HENRY IV</td>\n",
       "      <td>To be commenced in strands afar remote.</td>\n",
       "      <td>39</td>\n",
       "      <td>8</td>\n",
       "      <td>0</td>\n",
       "    </tr>\n",
       "    <tr>\n",
       "      <th>4</th>\n",
       "      <td>Henry IV</td>\n",
       "      <td>1</td>\n",
       "      <td>1.1.5</td>\n",
       "      <td>KING HENRY IV</td>\n",
       "      <td>No more the thirsty entrance of this soil</td>\n",
       "      <td>41</td>\n",
       "      <td>8</td>\n",
       "      <td>-1</td>\n",
       "    </tr>\n",
       "  </tbody>\n",
       "</table>\n",
       "</div>"
      ],
      "text/plain": [
       "       Play  PlayerLinenumber ActSceneLine         Player  \\\n",
       "0  Henry IV                 1        1.1.1  KING HENRY IV   \n",
       "1  Henry IV                 1        1.1.2  KING HENRY IV   \n",
       "2  Henry IV                 1        1.1.3  KING HENRY IV   \n",
       "3  Henry IV                 1        1.1.4  KING HENRY IV   \n",
       "4  Henry IV                 1        1.1.5  KING HENRY IV   \n",
       "\n",
       "                                       PlayerLine  LineLength  WordCount  \\\n",
       "0          So shaken as we are, so wan with care,          38         11   \n",
       "1      Find we a time for frighted peace to pant,          42         10   \n",
       "2  And breathe short-winded accents of new broils          46          7   \n",
       "3         To be commenced in strands afar remote.          39          8   \n",
       "4       No more the thirsty entrance of this soil          41          8   \n",
       "\n",
       "   LineSent  \n",
       "0         1  \n",
       "1         1  \n",
       "2         0  \n",
       "3         0  \n",
       "4        -1  "
      ]
     },
     "execution_count": 104,
     "metadata": {},
     "output_type": "execute_result"
    }
   ],
   "source": [
    "shakes_df.head()"
   ]
  },
  {
   "cell_type": "code",
   "execution_count": 105,
   "metadata": {},
   "outputs": [],
   "source": [
    "# I want to look at a histogram of the line sentiment to know if it makes any difference"
   ]
  },
  {
   "cell_type": "code",
   "execution_count": 106,
   "metadata": {},
   "outputs": [
    {
     "data": {
      "image/png": "[encoded data removed]",
      "text/plain": [
       "<Figure size 576x576 with 1 Axes>"
      ]
     },
     "metadata": {
      "needs_background": "light"
     },
     "output_type": "display_data"
    }
   ],
   "source": [
    "fig, ax = plt.subplots(figsize=(8,8))\n",
    "\n",
    "counts = shakes_df.LineSent.value_counts(normalize=True) * 100\n",
    "\n",
    "sns.barplot(x=counts.index, y=counts, ax=ax)\n",
    "\n",
    "ax.set_xticklabels(['Negative', 'Neutral', 'Positive'])\n",
    "ax.set_ylabel('Percentage')\n",
    "\n",
    "plt.show()"
   ]
  },
  {
   "cell_type": "code",
   "execution_count": 109,
   "metadata": {},
   "outputs": [],
   "source": [
    "# Almost 60% of the sentiment is neutral, which might not be too useful\n",
    "# However, we can still keep this feature since it's not too bad\n",
    "# My guess is that the nltk algortihm isn't calibrated for the english that shakespear uses\n",
    "# Another thing to consider is the range that we used to determine\n",
    "# the sentiment based on the compound sentiment\n",
    "# If we expand this range then we can get better distributed plot\n",
    "# Also, nltk uses a general lexicon to classiify text, if we can\n",
    "# find a more specific lexicon to shakespeare's era english then we can\n",
    "# perform a better guess of the sentiment"
   ]
  },
  {
   "cell_type": "code",
   "execution_count": null,
   "metadata": {},
   "outputs": [],
   "source": []
  }
 ],
 "metadata": {
  "kernelspec": {
   "display_name": "Python 3",
   "language": "python",
   "name": "python3"
  },
  "language_info": {
   "codemirror_mode": {
    "name": "ipython",
    "version": 3
   },
   "file_extension": ".py",
   "mimetype": "text/x-python",
   "name": "python",
   "nbconvert_exporter": "python",
   "pygments_lexer": "ipython3",
   "version": "3.7.3"
  }
 },
 "nbformat": 4,
 "nbformat_minor": 2
}
